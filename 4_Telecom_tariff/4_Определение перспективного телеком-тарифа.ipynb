{
 "cells": [
  {
   "cell_type": "markdown",
   "metadata": {},
   "source": [
    "### Описание проекта\n",
    "\n",
    "Вы аналитик оператора сотовой связи. Клиентам предлагается два тарифных плана. Чтобы скорректировать рекламный бюджет, коммерческий департамент хочет понять, какой тариф приносит больше денег.\n",
    "Задача - сделать предварительный анализ тарифов на небольшой выборке клиентов. В вашем распоряжении данные 500 пользователей: кто они, откуда, каким тарифом пользуются, сколько звонков и сообщений каждый отправил за 2018 год. Нужно проанализировать поведение клиентов и сделать вывод — какой тариф лучше.\n",
    "\n",
    "### Описание тарифов\n",
    "\n",
    "#### Тариф «Смарт»\n",
    "\n",
    "* \t\tЕжемесячная плата: 550 рублей\n",
    "* \t\tВключено 500 минут разговора, 50 сообщений и 15 Гб интернет-трафика\n",
    "* \t\tСтоимость услуг сверх тарифного пакета:\n",
    "* \t\tминута разговора: 3 рубля\n",
    "* \t\tсообщение: 3 рубля\n",
    "* \t\t1 Гб интернет-трафика: 200 рублей\n",
    "\n",
    "#### Тариф «Ультра»\n",
    "\n",
    "* \t\tЕжемесячная плата: 1950 рублей\n",
    "* \t\tВключено 3000 минут разговора, 1000 сообщений и 30 Гб интернет-трафика\n",
    "* \t\tСтоимость услуг сверх тарифного пакета:\n",
    "* \t\tминута разговора: 1 рубль\n",
    "* \t\tсообщение: 1 рубль\n",
    "* \t\t1 Гб интернет-трафика: 150 рублей\n",
    "\n",
    "Обратите внимание: оператор всегда округляет вверх значения минут и мегабайтов. Если пользователь проговорил всего 1 секунду, в тарифе засчитывается целая минута.\n",
    "\n",
    "\n",
    "### Инструкция по выполнению проекта\n",
    "\n",
    "#### Шаг 1. Откройте файл с данными и изучите общую информацию\n",
    "\n",
    "Путь к файлам:\n",
    "* \t\t/datasets/calls.csv. Скачать датасет\n",
    "* \t\t/datasets/internet.csv. Скачать датасет\n",
    "* \t\t/datasets/messages.csv. Скачать датасет\n",
    "* \t\t/datasets/tariffs.csv. Скачать датасет\n",
    "* \t\t/datasets/users.csv. Скачать датасет\n",
    "\n",
    "#### Шаг 2. Подготовьте данные\n",
    "\n",
    "* \t\tПриведите данные к нужным типам;\n",
    "* \t\tНайдите и исправьте ошибки в данных.\n",
    "\n",
    "Поясните, какие ошибки вы нашли и как их исправили. Обратите внимание, что длительность многих звонков — 0.0 минут. Это могут быть пропущенные звонки. Обрабатывать ли эти нулевые значения, решать вам — оцените, как их отсутствие повлияет на результаты анализа.\n",
    "\n",
    "Посчитайте для каждого пользователя:\n",
    "\n",
    "* \t\tколичество сделанных звонков и израсходованных минут разговора по месяцам;\n",
    "* \t\tколичество отправленных сообщений по месяцам;\n",
    "* \t\tобъем израсходованного интернет-трафика по месяцам;\n",
    "* \t\tпомесячную выручку с каждого пользователя (вычтите бесплатный лимит из суммарного количества звонков, сообщений и интернет-трафика; остаток умножьте на значение из тарифного плана; прибавьте абонентскую плату, соответствующую тарифному плану).\n",
    "\n",
    "#### Шаг 3. Проанализируйте данные\n",
    "\n",
    "Опишите поведение клиентов оператора, исходя из выборки. Сколько минут разговора, сколько сообщений и какой объём интернет-трафика требуется пользователям каждого тарифа в месяц? Посчитайте среднее количество, дисперсию и стандартное отклонение. Постройте гистограммы. Опишите распределения.\n",
    "\n",
    "#### Шаг 4. Проверьте гипотезы\n",
    "\n",
    "* \t\tсредняя выручка пользователей тарифов «Ультра» и «Смарт» различается;\n",
    "* \t\tсредняя выручка пользователей из Москвы отличается от выручки пользователей из других регионов;\n",
    "\n",
    "Пороговое значение alpha задайте самостоятельно.\n",
    "\n",
    "Поясните:\n",
    "* \t\tкак вы формулировали нулевую и альтернативную гипотезы;\n",
    "* \t\tкакой критерий использовали для проверки гипотез и почему.\n",
    "\n",
    "#### Шаг 5. Напишите общий вывод\n",
    "\n",
    "Оформление: Задание выполните в Jupyter Notebook. Программный код заполните в ячейках типа code, текстовые пояснения — в ячейках типа markdown. Примените форматирование и заголовки.\n",
    "\n",
    "### Описание данных\n",
    "\n",
    "#### Таблица users (информация о пользователях):\n",
    "\n",
    "* \t\tuser_id — уникальный идентификатор пользователя\n",
    "* \t\tfirst_name — имя пользователя\n",
    "* \t\tlast_name — фамилия пользователя\n",
    "* \t\tage — возраст пользователя (годы)\n",
    "* \t\treg_date — дата подключения тарифа (день, месяц, год)\n",
    "* \t\tchurn_date — дата прекращения пользования тарифом (если значение пропущено, то тариф ещё действовал на момент выгрузки данных)\n",
    "* \t\tcity — город проживания пользователя\n",
    "* \t\ttariff — название тарифного плана\n",
    "\n",
    "#### Таблица calls (информация о звонках):\n",
    "\n",
    "* \t\tid — уникальный номер звонка\n",
    "* \t\tcall_date — дата звонка\n",
    "* \t\tduration — длительность звонка в минутах\n",
    "* \t\tuser_id — идентификатор пользователя, сделавшего звонок\n",
    "\n",
    "#### Таблица messages (информация о сообщениях):\n",
    "\n",
    "* \t\tid — уникальный номер сообщения\n",
    "* \t\tmessage_date — дата сообщения\n",
    "* \t\tuser_id — идентификатор пользователя, отправившего сообщение\n",
    "\n",
    "#### Таблица internet (информация об интернет-сессиях):\n",
    "\n",
    "* \t\tid — уникальный номер сессии\n",
    "* \t\tmb_used — объём потраченного за сессию интернет-трафика (в мегабайтах)\n",
    "* \t\tsession_date — дата интернет-сессии\n",
    "* \t\tuser_id — идентификатор пользователя\n",
    "\n",
    "#### Таблица tariffs (информация о тарифах):\n",
    "\n",
    "* \t\ttariff_name — название тарифа\n",
    "* \t\trub_monthly_fee — ежемесячная абонентская плата в рублях\n",
    "* \t\tminutes_included — количество минут разговора в месяц, включённых в абонентскую плату\n",
    "* \t\tmessages_included — количество сообщений в месяц, включённых в абонентскую плату\n",
    "* \t\tmb_per_month_included — объём интернет-трафика, включённого в абонентскую плату (в мегабайтах)\n",
    "* \t\trub_per_minute — стоимость минуты разговора сверх тарифного пакета (например, если в тарифе 100 минут разговора в месяц, то со 101 минуты будет взиматься плата)\n",
    "* \t\trub_per_message — стоимость отправки сообщения сверх тарифного пакета\n",
    "* \t\trub_per_gb — стоимость дополнительного гигабайта интернет-трафика сверх тарифного пакета (1 гигабайт = 1024 мегабайта)"
   ]
  },
  {
   "cell_type": "markdown",
   "metadata": {},
   "source": [
    "## Шаг 1. Открыть файл с данными и изучить общую информацию"
   ]
  },
  {
   "cell_type": "code",
   "execution_count": 322,
   "metadata": {},
   "outputs": [],
   "source": [
    "# Импортируем необходимые библиотеки и читаем исходные файлы\n",
    "\n",
    "import pandas as pd\n",
    "import numpy as np\n",
    "import math as mt\n",
    "import seaborn as sns\n",
    "\n",
    "from scipy import stats as st\n",
    "from matplotlib import pyplot as plt\n",
    "from math import factorial\n",
    "from datetime import datetime\n",
    "\n",
    "calls_data = pd.read_csv('/datasets/calls.csv')\n",
    "internet_data = pd.read_csv('/datasets/internet.csv')\n",
    "messages_data = pd.read_csv('/datasets/messages.csv')\n",
    "tariffs_data = pd.read_csv('/datasets/tariffs.csv')\n",
    "users_data = pd.read_csv('/datasets/users.csv')"
   ]
  },
  {
   "cell_type": "code",
   "execution_count": 323,
   "metadata": {},
   "outputs": [],
   "source": [
    "# Функция вывода общей информации и статистики\n",
    "def common_info(x):\n",
    "    print('INFO')\n",
    "    x.info()\n",
    "    print('\\n', 'HEAD 10', '\\n', x.head(10), '\\n')\n",
    "    print('DESCRIBE', '\\n', x.describe(), '\\n')\n",
    "    \n",
    "# Для удобочитаемости, зададим точность отображения типа данных float до 1 знака после запятой\n",
    "pd.options.display.float_format = '{:,.2f}'.format"
   ]
  },
  {
   "cell_type": "markdown",
   "metadata": {},
   "source": [
    "Изучим общую информацию о  каждом из исходных датафреймов"
   ]
  },
  {
   "cell_type": "markdown",
   "metadata": {},
   "source": [
    "#### 1.1 calls_data"
   ]
  },
  {
   "cell_type": "code",
   "execution_count": 324,
   "metadata": {},
   "outputs": [
    {
     "name": "stdout",
     "output_type": "stream",
     "text": [
      "INFO\n",
      "<class 'pandas.core.frame.DataFrame'>\n",
      "RangeIndex: 202607 entries, 0 to 202606\n",
      "Data columns (total 4 columns):\n",
      "id           202607 non-null object\n",
      "call_date    202607 non-null object\n",
      "duration     202607 non-null float64\n",
      "user_id      202607 non-null int64\n",
      "dtypes: float64(1), int64(1), object(2)\n",
      "memory usage: 6.2+ MB\n",
      "\n",
      " HEAD 10 \n",
      "        id   call_date  duration  user_id\n",
      "0  1000_0  2018-07-25      0.00     1000\n",
      "1  1000_1  2018-08-17      0.00     1000\n",
      "2  1000_2  2018-06-11      2.85     1000\n",
      "3  1000_3  2018-09-21     13.80     1000\n",
      "4  1000_4  2018-12-15      5.18     1000\n",
      "5  1000_5  2018-11-02      0.00     1000\n",
      "6  1000_6  2018-10-18      0.00     1000\n",
      "7  1000_7  2018-08-22     18.31     1000\n",
      "8  1000_8  2018-09-15     18.44     1000\n",
      "9  1000_9  2018-08-15      0.00     1000 \n",
      "\n",
      "DESCRIBE \n",
      "         duration    user_id\n",
      "count 202,607.00 202,607.00\n",
      "mean        6.76   1,253.94\n",
      "std         5.84     144.72\n",
      "min         0.00   1,000.00\n",
      "25%         1.30   1,126.00\n",
      "50%         6.00   1,260.00\n",
      "75%        10.70   1,379.00\n",
      "max        38.00   1,499.00 \n",
      "\n"
     ]
    }
   ],
   "source": [
    "common_info(calls_data)"
   ]
  },
  {
   "cell_type": "markdown",
   "metadata": {},
   "source": [
    "Дополнительно оценим долю звонков с нулевой длительностью."
   ]
  },
  {
   "cell_type": "code",
   "execution_count": 325,
   "metadata": {},
   "outputs": [
    {
     "data": {
      "text/plain": [
       "0.19551644316336553"
      ]
     },
     "execution_count": 325,
     "metadata": {},
     "output_type": "execute_result"
    }
   ],
   "source": [
    "calls_data.query('duration == 0')['duration'].count() / calls_data['duration'].count()"
   ]
  },
  {
   "cell_type": "markdown",
   "metadata": {},
   "source": [
    "#### 1.2 internet_data"
   ]
  },
  {
   "cell_type": "code",
   "execution_count": 326,
   "metadata": {},
   "outputs": [
    {
     "name": "stdout",
     "output_type": "stream",
     "text": [
      "INFO\n",
      "<class 'pandas.core.frame.DataFrame'>\n",
      "RangeIndex: 149396 entries, 0 to 149395\n",
      "Data columns (total 5 columns):\n",
      "Unnamed: 0      149396 non-null int64\n",
      "id              149396 non-null object\n",
      "mb_used         149396 non-null float64\n",
      "session_date    149396 non-null object\n",
      "user_id         149396 non-null int64\n",
      "dtypes: float64(1), int64(2), object(2)\n",
      "memory usage: 5.7+ MB\n",
      "\n",
      " HEAD 10 \n",
      "    Unnamed: 0      id  mb_used session_date  user_id\n",
      "0           0  1000_0   112.95   2018-11-25     1000\n",
      "1           1  1000_1 1,052.81   2018-09-07     1000\n",
      "2           2  1000_2 1,197.26   2018-06-25     1000\n",
      "3           3  1000_3   550.27   2018-08-22     1000\n",
      "4           4  1000_4   302.56   2018-09-24     1000\n",
      "5           5  1000_5   399.97   2018-10-02     1000\n",
      "6           6  1000_6   540.08   2018-09-07     1000\n",
      "7           7  1000_7   415.70   2018-07-11     1000\n",
      "8           8  1000_8   505.40   2018-10-08     1000\n",
      "9           9  1000_9   345.54   2018-09-03     1000 \n",
      "\n",
      "DESCRIBE \n",
      "        Unnamed: 0    mb_used    user_id\n",
      "count  149,396.00 149,396.00 149,396.00\n",
      "mean    74,697.50     370.19   1,252.10\n",
      "std     43,127.05     278.30     144.05\n",
      "min          0.00       0.00   1,000.00\n",
      "25%     37,348.75     138.19   1,130.00\n",
      "50%     74,697.50     348.01   1,251.00\n",
      "75%    112,046.25     559.55   1,380.00\n",
      "max    149,395.00   1,724.83   1,499.00 \n",
      "\n"
     ]
    }
   ],
   "source": [
    "common_info(internet_data)"
   ]
  },
  {
   "cell_type": "markdown",
   "metadata": {},
   "source": [
    "Наблюдается минимальное значение израсходованного траффика равное 0. Оценим долю таких записей:"
   ]
  },
  {
   "cell_type": "code",
   "execution_count": 327,
   "metadata": {},
   "outputs": [
    {
     "data": {
      "text/plain": [
       "0.13118155773916304"
      ]
     },
     "execution_count": 327,
     "metadata": {},
     "output_type": "execute_result"
    }
   ],
   "source": [
    "internet_data.query('mb_used == 0')['mb_used'].count() / internet_data['mb_used'].count()"
   ]
  },
  {
   "cell_type": "markdown",
   "metadata": {},
   "source": [
    "#### 1.3 messages_data"
   ]
  },
  {
   "cell_type": "code",
   "execution_count": 328,
   "metadata": {},
   "outputs": [
    {
     "name": "stdout",
     "output_type": "stream",
     "text": [
      "INFO\n",
      "<class 'pandas.core.frame.DataFrame'>\n",
      "RangeIndex: 123036 entries, 0 to 123035\n",
      "Data columns (total 3 columns):\n",
      "id              123036 non-null object\n",
      "message_date    123036 non-null object\n",
      "user_id         123036 non-null int64\n",
      "dtypes: int64(1), object(2)\n",
      "memory usage: 2.8+ MB\n",
      "\n",
      " HEAD 10 \n",
      "        id message_date  user_id\n",
      "0  1000_0   2018-06-27     1000\n",
      "1  1000_1   2018-10-08     1000\n",
      "2  1000_2   2018-08-04     1000\n",
      "3  1000_3   2018-06-16     1000\n",
      "4  1000_4   2018-12-05     1000\n",
      "5  1000_5   2018-06-20     1000\n",
      "6  1000_6   2018-11-19     1000\n",
      "7  1000_7   2018-10-29     1000\n",
      "8  1000_8   2018-06-25     1000\n",
      "9  1000_9   2018-12-18     1000 \n",
      "\n",
      "DESCRIBE \n",
      "          user_id\n",
      "count 123,036.00\n",
      "mean    1,256.99\n",
      "std       143.52\n",
      "min     1,000.00\n",
      "25%     1,134.00\n",
      "50%     1,271.00\n",
      "75%     1,381.00\n",
      "max     1,499.00 \n",
      "\n"
     ]
    }
   ],
   "source": [
    "common_info(messages_data)"
   ]
  },
  {
   "cell_type": "markdown",
   "metadata": {},
   "source": [
    "#### 1.4 tariffs_data"
   ]
  },
  {
   "cell_type": "code",
   "execution_count": 329,
   "metadata": {},
   "outputs": [
    {
     "name": "stdout",
     "output_type": "stream",
     "text": [
      "INFO\n",
      "<class 'pandas.core.frame.DataFrame'>\n",
      "RangeIndex: 2 entries, 0 to 1\n",
      "Data columns (total 8 columns):\n",
      "messages_included        2 non-null int64\n",
      "mb_per_month_included    2 non-null int64\n",
      "minutes_included         2 non-null int64\n",
      "rub_monthly_fee          2 non-null int64\n",
      "rub_per_gb               2 non-null int64\n",
      "rub_per_message          2 non-null int64\n",
      "rub_per_minute           2 non-null int64\n",
      "tariff_name              2 non-null object\n",
      "dtypes: int64(7), object(1)\n",
      "memory usage: 256.0+ bytes\n",
      "\n",
      " HEAD 10 \n",
      "    messages_included  mb_per_month_included  minutes_included  \\\n",
      "0                 50                  15360               500   \n",
      "1               1000                  30720              3000   \n",
      "\n",
      "   rub_monthly_fee  rub_per_gb  rub_per_message  rub_per_minute tariff_name  \n",
      "0              550         200                3               3       smart  \n",
      "1             1950         150                1               1       ultra   \n",
      "\n",
      "DESCRIBE \n",
      "        messages_included  mb_per_month_included  minutes_included  \\\n",
      "count               2.00                   2.00              2.00   \n",
      "mean              525.00              23,040.00          1,750.00   \n",
      "std               671.75              10,861.16          1,767.77   \n",
      "min                50.00              15,360.00            500.00   \n",
      "25%               287.50              19,200.00          1,125.00   \n",
      "50%               525.00              23,040.00          1,750.00   \n",
      "75%               762.50              26,880.00          2,375.00   \n",
      "max             1,000.00              30,720.00          3,000.00   \n",
      "\n",
      "       rub_monthly_fee  rub_per_gb  rub_per_message  rub_per_minute  \n",
      "count             2.00        2.00             2.00            2.00  \n",
      "mean          1,250.00      175.00             2.00            2.00  \n",
      "std             989.95       35.36             1.41            1.41  \n",
      "min             550.00      150.00             1.00            1.00  \n",
      "25%             900.00      162.50             1.50            1.50  \n",
      "50%           1,250.00      175.00             2.00            2.00  \n",
      "75%           1,600.00      187.50             2.50            2.50  \n",
      "max           1,950.00      200.00             3.00            3.00   \n",
      "\n"
     ]
    }
   ],
   "source": [
    "common_info(tariffs_data)"
   ]
  },
  {
   "cell_type": "markdown",
   "metadata": {},
   "source": [
    "#### 1.5 users_data"
   ]
  },
  {
   "cell_type": "code",
   "execution_count": 330,
   "metadata": {},
   "outputs": [
    {
     "name": "stdout",
     "output_type": "stream",
     "text": [
      "INFO\n",
      "<class 'pandas.core.frame.DataFrame'>\n",
      "RangeIndex: 500 entries, 0 to 499\n",
      "Data columns (total 8 columns):\n",
      "user_id       500 non-null int64\n",
      "age           500 non-null int64\n",
      "churn_date    38 non-null object\n",
      "city          500 non-null object\n",
      "first_name    500 non-null object\n",
      "last_name     500 non-null object\n",
      "reg_date      500 non-null object\n",
      "tariff        500 non-null object\n",
      "dtypes: int64(2), object(6)\n",
      "memory usage: 31.4+ KB\n",
      "\n",
      " HEAD 10 \n",
      "    user_id  age churn_date              city first_name  last_name  \\\n",
      "0     1000   52        NaN         Краснодар     Рафаил  Верещагин   \n",
      "1     1001   41        NaN            Москва       Иван       Ежов   \n",
      "2     1002   59        NaN       Стерлитамак    Евгений  Абрамович   \n",
      "3     1003   23        NaN            Москва      Белла   Белякова   \n",
      "4     1004   68        NaN       Новокузнецк    Татьяна   Авдеенко   \n",
      "5     1005   67        NaN  Набережные Челны   Афанасий     Горлов   \n",
      "6     1006   21        NaN         Ульяновск     Леонид   Ермолаев   \n",
      "7     1007   65        NaN            Москва        Юна   Березина   \n",
      "8     1008   63        NaN         Челябинск     Рустэм  Пономарёв   \n",
      "9     1009   24        NaN             Пермь   Василиса    Блинова   \n",
      "\n",
      "     reg_date tariff  \n",
      "0  2018-05-25  ultra  \n",
      "1  2018-11-01  smart  \n",
      "2  2018-06-17  smart  \n",
      "3  2018-08-17  ultra  \n",
      "4  2018-05-14  ultra  \n",
      "5  2018-01-25  smart  \n",
      "6  2018-02-26  smart  \n",
      "7  2018-04-19  smart  \n",
      "8  2018-12-19  smart  \n",
      "9  2018-03-22  smart   \n",
      "\n",
      "DESCRIBE \n",
      "        user_id    age\n",
      "count   500.00 500.00\n",
      "mean  1,249.50  46.59\n",
      "std     144.48  16.67\n",
      "min   1,000.00  18.00\n",
      "25%   1,124.75  32.00\n",
      "50%   1,249.50  46.00\n",
      "75%   1,374.25  62.00\n",
      "max   1,499.00  75.00 \n",
      "\n"
     ]
    }
   ],
   "source": [
    "common_info(users_data)"
   ]
  },
  {
   "cell_type": "markdown",
   "metadata": {},
   "source": [
    "## Шаг 1. Открыть файл с данными и изучить общую информацию. Выводы."
   ]
  },
  {
   "cell_type": "markdown",
   "metadata": {},
   "source": [
    "Исходный массив данных представлен пятью файлами:\n",
    "\n",
    "#### - calls.csv:\n",
    "- 202 607 записей\n",
    "- почти 20% записей содержат \"нулевую\" длительность разговоров (`duration` = 0)\n",
    "- столбцы имеют удобочитаемые названия\n",
    "- для удобства дальнейшей работы необходимо сменить исходный тип `call_date` c object на DateTime\n",
    "- учитывая практику Оператора округлять значения в большую сторону целесообразно округлить все значения `duration` соответствующим образом  и заменить нулевые значения на 1. Также, для удобочитаемости, сменить тип `duration` с float на int\n",
    "\n",
    "#### - internet.csv:\n",
    "- 149 396 записей\n",
    "- 13% записей содержат нулевой объем израсходованного трафика (`mb_used` = 0)\n",
    "- столбцы имеют удобочитаемые названия\n",
    "- для удобства дальнейшей работы необходимо сменить исходный тип `session_date` c object на DateTime и тип `mb_used` c float на int\n",
    "- целесообразно заменить нулевые значения `mb_used` на 1, учитывая практику Оператора, и округлить все значения в большую сторону\n",
    "\n",
    "#### - messages.csv:\n",
    "- 123 036 записей\n",
    "- столбцы имеют удобочитаемые названия\n",
    "- для удобства дальнейшей работы необходимо сменить исходный тип `message_date` c object на DateTime\n",
    "\n",
    "#### - tariffs.csv:\n",
    "- 2 записи\n",
    "- столбцы имеют удобочитаемые названия\n",
    "- целесообразно преобразовать мегабайты трафика в столбце `mb_per_month_included` в гигабайты (1Гб = 1024Мб), так как тарификация трафика ведется в гигабайтах (см. столбец `rub_per_gb`)\n",
    "\n",
    "#### - users.csv:\n",
    "- 500 записей\n",
    "- подавляющая часть значений (более 92%) в столбце `churn_date` пропущена. В соответствии с условиями проекта это подразумевает , что тариф еще действует.\n",
    "- для удобства дальнейшей работы необходимо сменить исходный тип `churn_date` и `reg_date` c object на DateTime\n",
    "\n"
   ]
  },
  {
   "cell_type": "markdown",
   "metadata": {},
   "source": [
    "## Шаг 2. Подготовка данных\n",
    "\n",
    "* \t\tПриведите данные к нужным типам;\n",
    "* \t\tНайдите и исправьте ошибки в данных.\n",
    "\n",
    "Поясните, какие ошибки вы нашли и как их исправили. Обратите внимание, что длительность многих звонков — 0.0 минут. Это могут быть пропущенные звонки. Обрабатывать ли эти нулевые значения, решать вам — оцените, как их отсутствие повлияет на результаты анализа.\n",
    "\n",
    "Посчитайте для каждого пользователя:\n",
    "\n",
    "* \t\tколичество сделанных звонков и израсходованных минут разговора по месяцам;\n",
    "* \t\tколичество отправленных сообщений по месяцам;\n",
    "* \t\tобъем израсходованного интернет-трафика по месяцам;\n",
    "* \t\tпомесячную выручку с каждого пользователя (вычтите бесплатный лимит из суммарного количества звонков, сообщений и интернет-трафика; остаток умножьте на значение из тарифного плана; прибавьте абонентскую плату, соответствующую тарифному плану)."
   ]
  },
  {
   "cell_type": "markdown",
   "metadata": {},
   "source": [
    "### 2.1 Замена типов данных"
   ]
  },
  {
   "cell_type": "markdown",
   "metadata": {},
   "source": [
    "#### Датафрейм calls_data"
   ]
  },
  {
   "cell_type": "code",
   "execution_count": 331,
   "metadata": {},
   "outputs": [],
   "source": [
    "# Меняем формат даты\n",
    "calls_data['call_date'] = pd.to_datetime(calls_data['call_date'], format = '%Y-%m-%d')\n",
    "# Округляем, в большую сторону, все значения в duration и меняем тип с float на int\n",
    "calls_data['duration'] = np.ceil(calls_data['duration'], out = None).astype('int')\n",
    "# Заменяем в duration нули на единицы\n",
    "calls_data.loc[calls_data['duration'] == 0, 'duration'] = 1"
   ]
  },
  {
   "cell_type": "markdown",
   "metadata": {},
   "source": [
    "#### Датафрейм internet_data"
   ]
  },
  {
   "cell_type": "code",
   "execution_count": 332,
   "metadata": {},
   "outputs": [],
   "source": [
    "# Меняем формат даты\n",
    "internet_data['session_date'] = pd.to_datetime(internet_data['session_date'], format = '%Y-%m-%d')\n",
    "# Округляем, в большую сторону, все значения в duration и меняем тип с float на int\n",
    "internet_data['mb_used'] = np.ceil(internet_data['mb_used'], out = None).astype('int')\n",
    "# Заменяем в mb_used нули на единицы\n",
    "internet_data.loc[internet_data['mb_used'] == 0, 'mb_used'] = 1\n",
    "# Добавим столбец gb_used, куда пребразуем мегабайты в гигабайты\n",
    "def mb_in_gb(x):\n",
    "    return x/1024\n",
    "\n",
    "internet_data['gb_used'] = internet_data['mb_used'].apply(mb_in_gb)"
   ]
  },
  {
   "cell_type": "markdown",
   "metadata": {},
   "source": [
    "#### Датафрейм messages_data"
   ]
  },
  {
   "cell_type": "code",
   "execution_count": 333,
   "metadata": {},
   "outputs": [],
   "source": [
    "# Меняем формат даты\n",
    "messages_data['message_date'] = pd.to_datetime(messages_data['message_date'], format = '%Y-%m-%d')"
   ]
  },
  {
   "cell_type": "markdown",
   "metadata": {},
   "source": [
    "#### Датафрейм tariffs_data"
   ]
  },
  {
   "cell_type": "code",
   "execution_count": 334,
   "metadata": {},
   "outputs": [],
   "source": [
    "# Добавим столбец  gb_per_month_included, куда пребразуем мегабайты в гигабайты\n",
    "tariffs_data['gb_per_month_included'] = tariffs_data['mb_per_month_included'].apply(mb_in_gb)"
   ]
  },
  {
   "cell_type": "markdown",
   "metadata": {},
   "source": [
    "#### Датафрейм users_data"
   ]
  },
  {
   "cell_type": "code",
   "execution_count": 335,
   "metadata": {},
   "outputs": [],
   "source": [
    "# Меняем тип churn_date и reg_date c object на DateTime\n",
    "users_data['churn_date'] = pd.to_datetime(users_data['churn_date'], format = '%Y-%m-%d')\n",
    "users_data['reg_date'] = pd.to_datetime(users_data['reg_date'], format = '%Y-%m-%d')"
   ]
  },
  {
   "cell_type": "markdown",
   "metadata": {},
   "source": [
    "### 2.1 Замена типов данных. Выводы.\n",
    "\n",
    "- все столбцы с датами приведены к типу datetime\n",
    "- изменены типы данных в `calls_data['duration']` и `internet_data['mb_used']` с float на int\n",
    "- произведено округление, в большую сторону, значений `duration` и `mb_used`, в соответствии с правилами Оператора\n",
    "- нулевые значения `duration` и `mb_used` заменены на 1\n",
    "- в датафреймах `internet_data` и `tariffs_data` добавлены столбцы с преобразованными в гигабайты из мегабайтов данными"
   ]
  },
  {
   "cell_type": "markdown",
   "metadata": {},
   "source": [
    "### 2.2 Обработка пропусков"
   ]
  },
  {
   "cell_type": "markdown",
   "metadata": {},
   "source": [
    "Проанализируем общую информацию по пропускам в каждом датафрейме"
   ]
  },
  {
   "cell_type": "markdown",
   "metadata": {},
   "source": [
    "#### Датафрейм calls_data"
   ]
  },
  {
   "cell_type": "code",
   "execution_count": 336,
   "metadata": {},
   "outputs": [
    {
     "data": {
      "text/plain": [
       "id           0\n",
       "call_date    0\n",
       "duration     0\n",
       "user_id      0\n",
       "dtype: int64"
      ]
     },
     "execution_count": 336,
     "metadata": {},
     "output_type": "execute_result"
    }
   ],
   "source": [
    "calls_data.isnull().sum()"
   ]
  },
  {
   "cell_type": "markdown",
   "metadata": {},
   "source": [
    "#### Датафрейм internet_data"
   ]
  },
  {
   "cell_type": "code",
   "execution_count": 337,
   "metadata": {},
   "outputs": [
    {
     "data": {
      "text/plain": [
       "Unnamed: 0      0\n",
       "id              0\n",
       "mb_used         0\n",
       "session_date    0\n",
       "user_id         0\n",
       "gb_used         0\n",
       "dtype: int64"
      ]
     },
     "execution_count": 337,
     "metadata": {},
     "output_type": "execute_result"
    }
   ],
   "source": [
    "internet_data.isnull().sum()"
   ]
  },
  {
   "cell_type": "markdown",
   "metadata": {},
   "source": [
    "#### Датафрейм messages_data"
   ]
  },
  {
   "cell_type": "code",
   "execution_count": 338,
   "metadata": {},
   "outputs": [
    {
     "data": {
      "text/plain": [
       "id              0\n",
       "message_date    0\n",
       "user_id         0\n",
       "dtype: int64"
      ]
     },
     "execution_count": 338,
     "metadata": {},
     "output_type": "execute_result"
    }
   ],
   "source": [
    "messages_data.isnull().sum()"
   ]
  },
  {
   "cell_type": "markdown",
   "metadata": {},
   "source": [
    "#### Датафрейм tariffs_data"
   ]
  },
  {
   "cell_type": "code",
   "execution_count": 339,
   "metadata": {},
   "outputs": [
    {
     "data": {
      "text/plain": [
       "messages_included        0\n",
       "mb_per_month_included    0\n",
       "minutes_included         0\n",
       "rub_monthly_fee          0\n",
       "rub_per_gb               0\n",
       "rub_per_message          0\n",
       "rub_per_minute           0\n",
       "tariff_name              0\n",
       "gb_per_month_included    0\n",
       "dtype: int64"
      ]
     },
     "execution_count": 339,
     "metadata": {},
     "output_type": "execute_result"
    }
   ],
   "source": [
    "tariffs_data.isnull().sum()"
   ]
  },
  {
   "cell_type": "markdown",
   "metadata": {},
   "source": [
    "#### Датафрейм users_data"
   ]
  },
  {
   "cell_type": "code",
   "execution_count": 340,
   "metadata": {},
   "outputs": [
    {
     "data": {
      "text/plain": [
       "user_id         0\n",
       "age             0\n",
       "churn_date    462\n",
       "city            0\n",
       "first_name      0\n",
       "last_name       0\n",
       "reg_date        0\n",
       "tariff          0\n",
       "dtype: int64"
      ]
     },
     "execution_count": 340,
     "metadata": {},
     "output_type": "execute_result"
    }
   ],
   "source": [
    "users_data.isnull().sum()"
   ]
  },
  {
   "cell_type": "markdown",
   "metadata": {},
   "source": [
    "Наблюдаем 462 пропуска в `churn_date`. Учитывая, что в условиях проекта указано, что пробелы означают то, что тариф действовал на момент выгрузки - оставляем пробелы как есть."
   ]
  },
  {
   "cell_type": "markdown",
   "metadata": {},
   "source": [
    "### 2.2 Обработка пропусков. Выводы.\n",
    "\n",
    "- во всех датафреймах, за исключением `users_data`, пробелов нет\n",
    "- в `users_data` пробелы оставлены как есть, так как в рамках стоящих в проекте задач эта информация не критична. Тем не менее в дальнейших рекомендациях Оператору следует отметить необходимость введения отдельного идентификатора для абонентов с действующими тарифами."
   ]
  },
  {
   "cell_type": "markdown",
   "metadata": {},
   "source": [
    "### 2.3 Обработка дубликатов\n",
    "\n",
    "Проанализируем информацию дубликатах в каждом датафрейме"
   ]
  },
  {
   "cell_type": "markdown",
   "metadata": {},
   "source": [
    "#### Датафрейм calls_data"
   ]
  },
  {
   "cell_type": "code",
   "execution_count": 341,
   "metadata": {},
   "outputs": [
    {
     "data": {
      "text/plain": [
       "0"
      ]
     },
     "execution_count": 341,
     "metadata": {},
     "output_type": "execute_result"
    }
   ],
   "source": [
    "calls_data.duplicated().sum()"
   ]
  },
  {
   "cell_type": "markdown",
   "metadata": {},
   "source": [
    "#### Датафрейм internet_data"
   ]
  },
  {
   "cell_type": "code",
   "execution_count": 342,
   "metadata": {},
   "outputs": [
    {
     "data": {
      "text/plain": [
       "0"
      ]
     },
     "execution_count": 342,
     "metadata": {},
     "output_type": "execute_result"
    }
   ],
   "source": [
    "internet_data.duplicated().sum()"
   ]
  },
  {
   "cell_type": "markdown",
   "metadata": {},
   "source": [
    "#### Датафрейм messages_data"
   ]
  },
  {
   "cell_type": "code",
   "execution_count": 343,
   "metadata": {},
   "outputs": [
    {
     "data": {
      "text/plain": [
       "0"
      ]
     },
     "execution_count": 343,
     "metadata": {},
     "output_type": "execute_result"
    }
   ],
   "source": [
    "messages_data.duplicated().sum()"
   ]
  },
  {
   "cell_type": "markdown",
   "metadata": {},
   "source": [
    "#### Датафрейм tariffs_data"
   ]
  },
  {
   "cell_type": "code",
   "execution_count": 344,
   "metadata": {},
   "outputs": [
    {
     "data": {
      "text/plain": [
       "0"
      ]
     },
     "execution_count": 344,
     "metadata": {},
     "output_type": "execute_result"
    }
   ],
   "source": [
    "tariffs_data.duplicated().sum()"
   ]
  },
  {
   "cell_type": "markdown",
   "metadata": {},
   "source": [
    "#### Датафрейм users_data"
   ]
  },
  {
   "cell_type": "code",
   "execution_count": 345,
   "metadata": {},
   "outputs": [
    {
     "data": {
      "text/plain": [
       "0"
      ]
     },
     "execution_count": 345,
     "metadata": {},
     "output_type": "execute_result"
    }
   ],
   "source": [
    "users_data.duplicated().sum()"
   ]
  },
  {
   "cell_type": "markdown",
   "metadata": {},
   "source": [
    "### 2.3 Обработка дубликатов. Выводы.\n",
    "\n",
    "- во всех датасетах дубликаты отсутствуют"
   ]
  },
  {
   "cell_type": "markdown",
   "metadata": {},
   "source": [
    "### 2.4 Рассчеты для каждого пользователя\n",
    "\n",
    "* \t\tколичество сделанных звонков и израсходованных минут разговора по месяцам;\n",
    "* \t\tколичество отправленных сообщений по месяцам;\n",
    "* \t\tобъем израсходованного интернет-трафика по месяцам;\n",
    "* \t\tпомесячная выручка с каждого пользователя (вычесть бесплатный лимит из суммарного количества звонков, сообщений и интернет-трафика; остаток умножить на значение из тарифного плана; прибавить абонентскую плату, соответствующую тарифному плану)."
   ]
  },
  {
   "cell_type": "markdown",
   "metadata": {},
   "source": [
    "#### 2.4.1 Количество сделанных звонков и израсходованных минут разговора по месяцам"
   ]
  },
  {
   "cell_type": "code",
   "execution_count": 346,
   "metadata": {},
   "outputs": [
    {
     "data": {
      "text/html": [
       "<div>\n",
       "<style scoped>\n",
       "    .dataframe tbody tr th:only-of-type {\n",
       "        vertical-align: middle;\n",
       "    }\n",
       "\n",
       "    .dataframe tbody tr th {\n",
       "        vertical-align: top;\n",
       "    }\n",
       "\n",
       "    .dataframe thead tr th {\n",
       "        text-align: left;\n",
       "    }\n",
       "\n",
       "    .dataframe thead tr:last-of-type th {\n",
       "        text-align: right;\n",
       "    }\n",
       "</style>\n",
       "<table border=\"1\" class=\"dataframe\">\n",
       "  <thead>\n",
       "    <tr>\n",
       "      <th></th>\n",
       "      <th></th>\n",
       "      <th>count</th>\n",
       "      <th>sum</th>\n",
       "    </tr>\n",
       "    <tr>\n",
       "      <th></th>\n",
       "      <th></th>\n",
       "      <th>duration</th>\n",
       "      <th>duration</th>\n",
       "    </tr>\n",
       "    <tr>\n",
       "      <th>month</th>\n",
       "      <th>user_id</th>\n",
       "      <th></th>\n",
       "      <th></th>\n",
       "    </tr>\n",
       "  </thead>\n",
       "  <tbody>\n",
       "    <tr>\n",
       "      <td rowspan=\"5\" valign=\"top\">1</td>\n",
       "      <td>1005</td>\n",
       "      <td>15</td>\n",
       "      <td>99</td>\n",
       "    </tr>\n",
       "    <tr>\n",
       "      <td>1032</td>\n",
       "      <td>61</td>\n",
       "      <td>397</td>\n",
       "    </tr>\n",
       "    <tr>\n",
       "      <td>1045</td>\n",
       "      <td>1</td>\n",
       "      <td>9</td>\n",
       "    </tr>\n",
       "    <tr>\n",
       "      <td>1055</td>\n",
       "      <td>64</td>\n",
       "      <td>568</td>\n",
       "    </tr>\n",
       "    <tr>\n",
       "      <td>1071</td>\n",
       "      <td>24</td>\n",
       "      <td>200</td>\n",
       "    </tr>\n",
       "    <tr>\n",
       "      <td>...</td>\n",
       "      <td>...</td>\n",
       "      <td>...</td>\n",
       "      <td>...</td>\n",
       "    </tr>\n",
       "    <tr>\n",
       "      <td rowspan=\"5\" valign=\"top\">12</td>\n",
       "      <td>1494</td>\n",
       "      <td>62</td>\n",
       "      <td>426</td>\n",
       "    </tr>\n",
       "    <tr>\n",
       "      <td>1495</td>\n",
       "      <td>155</td>\n",
       "      <td>1066</td>\n",
       "    </tr>\n",
       "    <tr>\n",
       "      <td>1496</td>\n",
       "      <td>80</td>\n",
       "      <td>533</td>\n",
       "    </tr>\n",
       "    <tr>\n",
       "      <td>1497</td>\n",
       "      <td>71</td>\n",
       "      <td>558</td>\n",
       "    </tr>\n",
       "    <tr>\n",
       "      <td>1499</td>\n",
       "      <td>69</td>\n",
       "      <td>505</td>\n",
       "    </tr>\n",
       "  </tbody>\n",
       "</table>\n",
       "<p>3174 rows × 2 columns</p>\n",
       "</div>"
      ],
      "text/plain": [
       "                 count      sum\n",
       "              duration duration\n",
       "month user_id                  \n",
       "1     1005          15       99\n",
       "      1032          61      397\n",
       "      1045           1        9\n",
       "      1055          64      568\n",
       "      1071          24      200\n",
       "...                ...      ...\n",
       "12    1494          62      426\n",
       "      1495         155     1066\n",
       "      1496          80      533\n",
       "      1497          71      558\n",
       "      1499          69      505\n",
       "\n",
       "[3174 rows x 2 columns]"
      ]
     },
     "execution_count": 346,
     "metadata": {},
     "output_type": "execute_result"
    }
   ],
   "source": [
    "# добавим новый столбец со значением месяца\n",
    "calls_data['month'] = calls_data['call_date'].dt.month\n",
    "\n",
    "# строим сводную таблицу\n",
    "call_and_min_by_month = calls_data.pivot_table(index = ['month', 'user_id'], values = 'duration', aggfunc=['count', 'sum'])\n",
    "call_and_min_by_month"
   ]
  },
  {
   "cell_type": "code",
   "execution_count": 347,
   "metadata": {},
   "outputs": [
    {
     "data": {
      "text/html": [
       "<div>\n",
       "<style scoped>\n",
       "    .dataframe tbody tr th:only-of-type {\n",
       "        vertical-align: middle;\n",
       "    }\n",
       "\n",
       "    .dataframe tbody tr th {\n",
       "        vertical-align: top;\n",
       "    }\n",
       "\n",
       "    .dataframe thead th {\n",
       "        text-align: right;\n",
       "    }\n",
       "</style>\n",
       "<table border=\"1\" class=\"dataframe\">\n",
       "  <thead>\n",
       "    <tr style=\"text-align: right;\">\n",
       "      <th></th>\n",
       "      <th>month</th>\n",
       "      <th>user_id</th>\n",
       "      <th>total_calls_month</th>\n",
       "      <th>total_minutes_month</th>\n",
       "    </tr>\n",
       "  </thead>\n",
       "  <tbody>\n",
       "    <tr>\n",
       "      <td>0</td>\n",
       "      <td>1</td>\n",
       "      <td>1005</td>\n",
       "      <td>15</td>\n",
       "      <td>99</td>\n",
       "    </tr>\n",
       "    <tr>\n",
       "      <td>1</td>\n",
       "      <td>1</td>\n",
       "      <td>1032</td>\n",
       "      <td>61</td>\n",
       "      <td>397</td>\n",
       "    </tr>\n",
       "    <tr>\n",
       "      <td>2</td>\n",
       "      <td>1</td>\n",
       "      <td>1045</td>\n",
       "      <td>1</td>\n",
       "      <td>9</td>\n",
       "    </tr>\n",
       "    <tr>\n",
       "      <td>3</td>\n",
       "      <td>1</td>\n",
       "      <td>1055</td>\n",
       "      <td>64</td>\n",
       "      <td>568</td>\n",
       "    </tr>\n",
       "    <tr>\n",
       "      <td>4</td>\n",
       "      <td>1</td>\n",
       "      <td>1071</td>\n",
       "      <td>24</td>\n",
       "      <td>200</td>\n",
       "    </tr>\n",
       "    <tr>\n",
       "      <td>...</td>\n",
       "      <td>...</td>\n",
       "      <td>...</td>\n",
       "      <td>...</td>\n",
       "      <td>...</td>\n",
       "    </tr>\n",
       "    <tr>\n",
       "      <td>3169</td>\n",
       "      <td>12</td>\n",
       "      <td>1494</td>\n",
       "      <td>62</td>\n",
       "      <td>426</td>\n",
       "    </tr>\n",
       "    <tr>\n",
       "      <td>3170</td>\n",
       "      <td>12</td>\n",
       "      <td>1495</td>\n",
       "      <td>155</td>\n",
       "      <td>1066</td>\n",
       "    </tr>\n",
       "    <tr>\n",
       "      <td>3171</td>\n",
       "      <td>12</td>\n",
       "      <td>1496</td>\n",
       "      <td>80</td>\n",
       "      <td>533</td>\n",
       "    </tr>\n",
       "    <tr>\n",
       "      <td>3172</td>\n",
       "      <td>12</td>\n",
       "      <td>1497</td>\n",
       "      <td>71</td>\n",
       "      <td>558</td>\n",
       "    </tr>\n",
       "    <tr>\n",
       "      <td>3173</td>\n",
       "      <td>12</td>\n",
       "      <td>1499</td>\n",
       "      <td>69</td>\n",
       "      <td>505</td>\n",
       "    </tr>\n",
       "  </tbody>\n",
       "</table>\n",
       "<p>3174 rows × 4 columns</p>\n",
       "</div>"
      ],
      "text/plain": [
       "      month  user_id  total_calls_month  total_minutes_month\n",
       "0         1     1005                 15                   99\n",
       "1         1     1032                 61                  397\n",
       "2         1     1045                  1                    9\n",
       "3         1     1055                 64                  568\n",
       "4         1     1071                 24                  200\n",
       "...     ...      ...                ...                  ...\n",
       "3169     12     1494                 62                  426\n",
       "3170     12     1495                155                 1066\n",
       "3171     12     1496                 80                  533\n",
       "3172     12     1497                 71                  558\n",
       "3173     12     1499                 69                  505\n",
       "\n",
       "[3174 rows x 4 columns]"
      ]
     },
     "execution_count": 347,
     "metadata": {},
     "output_type": "execute_result"
    }
   ],
   "source": [
    "# создаем новый датафрейм для суммарных значений\n",
    "total_volumes_per_user = pd.DataFrame(call_and_min_by_month.to_records())\n",
    "total_volumes_per_user.columns = ['month', 'user_id', 'total_calls_month','total_minutes_month']\n",
    "total_volumes_per_user"
   ]
  },
  {
   "cell_type": "markdown",
   "metadata": {},
   "source": [
    "#### 2.4.2 Количество отправленных сообщений по месяцам"
   ]
  },
  {
   "cell_type": "code",
   "execution_count": 348,
   "metadata": {},
   "outputs": [],
   "source": [
    "# добавим новый столбец со значением месяца\n",
    "messages_data['month'] = messages_data['message_date'].dt.month\n"
   ]
  },
  {
   "cell_type": "code",
   "execution_count": 349,
   "metadata": {},
   "outputs": [
    {
     "data": {
      "text/html": [
       "<div>\n",
       "<style scoped>\n",
       "    .dataframe tbody tr th:only-of-type {\n",
       "        vertical-align: middle;\n",
       "    }\n",
       "\n",
       "    .dataframe tbody tr th {\n",
       "        vertical-align: top;\n",
       "    }\n",
       "\n",
       "    .dataframe thead th {\n",
       "        text-align: right;\n",
       "    }\n",
       "</style>\n",
       "<table border=\"1\" class=\"dataframe\">\n",
       "  <thead>\n",
       "    <tr style=\"text-align: right;\">\n",
       "      <th></th>\n",
       "      <th></th>\n",
       "      <th>message_date</th>\n",
       "    </tr>\n",
       "    <tr>\n",
       "      <th>month</th>\n",
       "      <th>user_id</th>\n",
       "      <th></th>\n",
       "    </tr>\n",
       "  </thead>\n",
       "  <tbody>\n",
       "    <tr>\n",
       "      <td rowspan=\"5\" valign=\"top\">1</td>\n",
       "      <td>1005</td>\n",
       "      <td>7</td>\n",
       "    </tr>\n",
       "    <tr>\n",
       "      <td>1032</td>\n",
       "      <td>38</td>\n",
       "    </tr>\n",
       "    <tr>\n",
       "      <td>1045</td>\n",
       "      <td>5</td>\n",
       "    </tr>\n",
       "    <tr>\n",
       "      <td>1055</td>\n",
       "      <td>30</td>\n",
       "    </tr>\n",
       "    <tr>\n",
       "      <td>1071</td>\n",
       "      <td>16</td>\n",
       "    </tr>\n",
       "    <tr>\n",
       "      <td>...</td>\n",
       "      <td>...</td>\n",
       "      <td>...</td>\n",
       "    </tr>\n",
       "    <tr>\n",
       "      <td rowspan=\"5\" valign=\"top\">12</td>\n",
       "      <td>1493</td>\n",
       "      <td>78</td>\n",
       "    </tr>\n",
       "    <tr>\n",
       "      <td>1495</td>\n",
       "      <td>84</td>\n",
       "    </tr>\n",
       "    <tr>\n",
       "      <td>1496</td>\n",
       "      <td>51</td>\n",
       "    </tr>\n",
       "    <tr>\n",
       "      <td>1497</td>\n",
       "      <td>17</td>\n",
       "    </tr>\n",
       "    <tr>\n",
       "      <td>1499</td>\n",
       "      <td>66</td>\n",
       "    </tr>\n",
       "  </tbody>\n",
       "</table>\n",
       "<p>2717 rows × 1 columns</p>\n",
       "</div>"
      ],
      "text/plain": [
       "               message_date\n",
       "month user_id              \n",
       "1     1005                7\n",
       "      1032               38\n",
       "      1045                5\n",
       "      1055               30\n",
       "      1071               16\n",
       "...                     ...\n",
       "12    1493               78\n",
       "      1495               84\n",
       "      1496               51\n",
       "      1497               17\n",
       "      1499               66\n",
       "\n",
       "[2717 rows x 1 columns]"
      ]
     },
     "execution_count": 349,
     "metadata": {},
     "output_type": "execute_result"
    }
   ],
   "source": [
    "# строим сводную таблицу\n",
    "messages_by_month = messages_data.pivot_table(index = ['month', 'user_id'], values = 'message_date', aggfunc = 'count')\n",
    "messages_by_month"
   ]
  },
  {
   "cell_type": "code",
   "execution_count": 350,
   "metadata": {},
   "outputs": [
    {
     "data": {
      "text/html": [
       "<div>\n",
       "<style scoped>\n",
       "    .dataframe tbody tr th:only-of-type {\n",
       "        vertical-align: middle;\n",
       "    }\n",
       "\n",
       "    .dataframe tbody tr th {\n",
       "        vertical-align: top;\n",
       "    }\n",
       "\n",
       "    .dataframe thead th {\n",
       "        text-align: right;\n",
       "    }\n",
       "</style>\n",
       "<table border=\"1\" class=\"dataframe\">\n",
       "  <thead>\n",
       "    <tr style=\"text-align: right;\">\n",
       "      <th></th>\n",
       "      <th>month</th>\n",
       "      <th>user_id</th>\n",
       "      <th>total_messages_month</th>\n",
       "    </tr>\n",
       "  </thead>\n",
       "  <tbody>\n",
       "    <tr>\n",
       "      <td>0</td>\n",
       "      <td>1</td>\n",
       "      <td>1005</td>\n",
       "      <td>7</td>\n",
       "    </tr>\n",
       "    <tr>\n",
       "      <td>1</td>\n",
       "      <td>1</td>\n",
       "      <td>1032</td>\n",
       "      <td>38</td>\n",
       "    </tr>\n",
       "    <tr>\n",
       "      <td>2</td>\n",
       "      <td>1</td>\n",
       "      <td>1045</td>\n",
       "      <td>5</td>\n",
       "    </tr>\n",
       "    <tr>\n",
       "      <td>3</td>\n",
       "      <td>1</td>\n",
       "      <td>1055</td>\n",
       "      <td>30</td>\n",
       "    </tr>\n",
       "    <tr>\n",
       "      <td>4</td>\n",
       "      <td>1</td>\n",
       "      <td>1071</td>\n",
       "      <td>16</td>\n",
       "    </tr>\n",
       "    <tr>\n",
       "      <td>...</td>\n",
       "      <td>...</td>\n",
       "      <td>...</td>\n",
       "      <td>...</td>\n",
       "    </tr>\n",
       "    <tr>\n",
       "      <td>2712</td>\n",
       "      <td>12</td>\n",
       "      <td>1493</td>\n",
       "      <td>78</td>\n",
       "    </tr>\n",
       "    <tr>\n",
       "      <td>2713</td>\n",
       "      <td>12</td>\n",
       "      <td>1495</td>\n",
       "      <td>84</td>\n",
       "    </tr>\n",
       "    <tr>\n",
       "      <td>2714</td>\n",
       "      <td>12</td>\n",
       "      <td>1496</td>\n",
       "      <td>51</td>\n",
       "    </tr>\n",
       "    <tr>\n",
       "      <td>2715</td>\n",
       "      <td>12</td>\n",
       "      <td>1497</td>\n",
       "      <td>17</td>\n",
       "    </tr>\n",
       "    <tr>\n",
       "      <td>2716</td>\n",
       "      <td>12</td>\n",
       "      <td>1499</td>\n",
       "      <td>66</td>\n",
       "    </tr>\n",
       "  </tbody>\n",
       "</table>\n",
       "<p>2717 rows × 3 columns</p>\n",
       "</div>"
      ],
      "text/plain": [
       "      month  user_id  total_messages_month\n",
       "0         1     1005                     7\n",
       "1         1     1032                    38\n",
       "2         1     1045                     5\n",
       "3         1     1055                    30\n",
       "4         1     1071                    16\n",
       "...     ...      ...                   ...\n",
       "2712     12     1493                    78\n",
       "2713     12     1495                    84\n",
       "2714     12     1496                    51\n",
       "2715     12     1497                    17\n",
       "2716     12     1499                    66\n",
       "\n",
       "[2717 rows x 3 columns]"
      ]
     },
     "execution_count": 350,
     "metadata": {},
     "output_type": "execute_result"
    }
   ],
   "source": [
    "# создаем новый датафрейм для суммарных значений\n",
    "temporary_messages_data = pd.DataFrame(messages_by_month.to_records())\n",
    "# переименовываем столбец для удобочитаемости\n",
    "temporary_messages_data.rename(columns = {'message_date':'total_messages_month'}, inplace = True)\n",
    "temporary_messages_data"
   ]
  },
  {
   "cell_type": "markdown",
   "metadata": {},
   "source": [
    "#### 2.4.3 Объем израсходованного интернет-трафика по месяцам"
   ]
  },
  {
   "cell_type": "code",
   "execution_count": 351,
   "metadata": {},
   "outputs": [],
   "source": [
    "# добавим новый столбец со значением месяца\n",
    "internet_data['month'] = internet_data['session_date'].dt.month"
   ]
  },
  {
   "cell_type": "code",
   "execution_count": 352,
   "metadata": {},
   "outputs": [
    {
     "data": {
      "text/html": [
       "<div>\n",
       "<style scoped>\n",
       "    .dataframe tbody tr th:only-of-type {\n",
       "        vertical-align: middle;\n",
       "    }\n",
       "\n",
       "    .dataframe tbody tr th {\n",
       "        vertical-align: top;\n",
       "    }\n",
       "\n",
       "    .dataframe thead th {\n",
       "        text-align: right;\n",
       "    }\n",
       "</style>\n",
       "<table border=\"1\" class=\"dataframe\">\n",
       "  <thead>\n",
       "    <tr style=\"text-align: right;\">\n",
       "      <th></th>\n",
       "      <th></th>\n",
       "      <th>gb_used</th>\n",
       "    </tr>\n",
       "    <tr>\n",
       "      <th>month</th>\n",
       "      <th>user_id</th>\n",
       "      <th></th>\n",
       "    </tr>\n",
       "  </thead>\n",
       "  <tbody>\n",
       "    <tr>\n",
       "      <td rowspan=\"5\" valign=\"top\">1</td>\n",
       "      <td>1005</td>\n",
       "      <td>2.67</td>\n",
       "    </tr>\n",
       "    <tr>\n",
       "      <td>1032</td>\n",
       "      <td>23.59</td>\n",
       "    </tr>\n",
       "    <tr>\n",
       "      <td>1045</td>\n",
       "      <td>2.29</td>\n",
       "    </tr>\n",
       "    <tr>\n",
       "      <td>1055</td>\n",
       "      <td>16.71</td>\n",
       "    </tr>\n",
       "    <tr>\n",
       "      <td>1071</td>\n",
       "      <td>15.26</td>\n",
       "    </tr>\n",
       "    <tr>\n",
       "      <td>...</td>\n",
       "      <td>...</td>\n",
       "      <td>...</td>\n",
       "    </tr>\n",
       "    <tr>\n",
       "      <td rowspan=\"5\" valign=\"top\">12</td>\n",
       "      <td>1494</td>\n",
       "      <td>17.24</td>\n",
       "    </tr>\n",
       "    <tr>\n",
       "      <td>1495</td>\n",
       "      <td>22.90</td>\n",
       "    </tr>\n",
       "    <tr>\n",
       "      <td>1496</td>\n",
       "      <td>20.28</td>\n",
       "    </tr>\n",
       "    <tr>\n",
       "      <td>1497</td>\n",
       "      <td>19.48</td>\n",
       "    </tr>\n",
       "    <tr>\n",
       "      <td>1499</td>\n",
       "      <td>12.78</td>\n",
       "    </tr>\n",
       "  </tbody>\n",
       "</table>\n",
       "<p>3203 rows × 1 columns</p>\n",
       "</div>"
      ],
      "text/plain": [
       "               gb_used\n",
       "month user_id         \n",
       "1     1005        2.67\n",
       "      1032       23.59\n",
       "      1045        2.29\n",
       "      1055       16.71\n",
       "      1071       15.26\n",
       "...                ...\n",
       "12    1494       17.24\n",
       "      1495       22.90\n",
       "      1496       20.28\n",
       "      1497       19.48\n",
       "      1499       12.78\n",
       "\n",
       "[3203 rows x 1 columns]"
      ]
     },
     "execution_count": 352,
     "metadata": {},
     "output_type": "execute_result"
    }
   ],
   "source": [
    "# строим сводную таблицу\n",
    "traffic_by_month = internet_data.pivot_table(index = ['month', 'user_id'], values = 'gb_used', aggfunc = 'sum')\n",
    "traffic_by_month"
   ]
  },
  {
   "cell_type": "code",
   "execution_count": 353,
   "metadata": {},
   "outputs": [
    {
     "data": {
      "text/html": [
       "<div>\n",
       "<style scoped>\n",
       "    .dataframe tbody tr th:only-of-type {\n",
       "        vertical-align: middle;\n",
       "    }\n",
       "\n",
       "    .dataframe tbody tr th {\n",
       "        vertical-align: top;\n",
       "    }\n",
       "\n",
       "    .dataframe thead th {\n",
       "        text-align: right;\n",
       "    }\n",
       "</style>\n",
       "<table border=\"1\" class=\"dataframe\">\n",
       "  <thead>\n",
       "    <tr style=\"text-align: right;\">\n",
       "      <th></th>\n",
       "      <th>month</th>\n",
       "      <th>user_id</th>\n",
       "      <th>gb_used</th>\n",
       "    </tr>\n",
       "  </thead>\n",
       "  <tbody>\n",
       "    <tr>\n",
       "      <td>0</td>\n",
       "      <td>1</td>\n",
       "      <td>1005</td>\n",
       "      <td>2.67</td>\n",
       "    </tr>\n",
       "    <tr>\n",
       "      <td>1</td>\n",
       "      <td>1</td>\n",
       "      <td>1032</td>\n",
       "      <td>23.59</td>\n",
       "    </tr>\n",
       "    <tr>\n",
       "      <td>2</td>\n",
       "      <td>1</td>\n",
       "      <td>1045</td>\n",
       "      <td>2.29</td>\n",
       "    </tr>\n",
       "    <tr>\n",
       "      <td>3</td>\n",
       "      <td>1</td>\n",
       "      <td>1055</td>\n",
       "      <td>16.71</td>\n",
       "    </tr>\n",
       "    <tr>\n",
       "      <td>4</td>\n",
       "      <td>1</td>\n",
       "      <td>1071</td>\n",
       "      <td>15.26</td>\n",
       "    </tr>\n",
       "    <tr>\n",
       "      <td>...</td>\n",
       "      <td>...</td>\n",
       "      <td>...</td>\n",
       "      <td>...</td>\n",
       "    </tr>\n",
       "    <tr>\n",
       "      <td>3198</td>\n",
       "      <td>12</td>\n",
       "      <td>1494</td>\n",
       "      <td>17.24</td>\n",
       "    </tr>\n",
       "    <tr>\n",
       "      <td>3199</td>\n",
       "      <td>12</td>\n",
       "      <td>1495</td>\n",
       "      <td>22.90</td>\n",
       "    </tr>\n",
       "    <tr>\n",
       "      <td>3200</td>\n",
       "      <td>12</td>\n",
       "      <td>1496</td>\n",
       "      <td>20.28</td>\n",
       "    </tr>\n",
       "    <tr>\n",
       "      <td>3201</td>\n",
       "      <td>12</td>\n",
       "      <td>1497</td>\n",
       "      <td>19.48</td>\n",
       "    </tr>\n",
       "    <tr>\n",
       "      <td>3202</td>\n",
       "      <td>12</td>\n",
       "      <td>1499</td>\n",
       "      <td>12.78</td>\n",
       "    </tr>\n",
       "  </tbody>\n",
       "</table>\n",
       "<p>3203 rows × 3 columns</p>\n",
       "</div>"
      ],
      "text/plain": [
       "      month  user_id  gb_used\n",
       "0         1     1005     2.67\n",
       "1         1     1032    23.59\n",
       "2         1     1045     2.29\n",
       "3         1     1055    16.71\n",
       "4         1     1071    15.26\n",
       "...     ...      ...      ...\n",
       "3198     12     1494    17.24\n",
       "3199     12     1495    22.90\n",
       "3200     12     1496    20.28\n",
       "3201     12     1497    19.48\n",
       "3202     12     1499    12.78\n",
       "\n",
       "[3203 rows x 3 columns]"
      ]
     },
     "execution_count": 353,
     "metadata": {},
     "output_type": "execute_result"
    }
   ],
   "source": [
    "# создаем новый датафрейм для суммарных значений\n",
    "temporary_internet_data = pd.DataFrame(traffic_by_month.to_records())\n",
    "temporary_internet_data"
   ]
  },
  {
   "cell_type": "markdown",
   "metadata": {},
   "source": [
    "#### 2.4.4 Помесячная выручка с каждого пользователя"
   ]
  },
  {
   "cell_type": "markdown",
   "metadata": {},
   "source": [
    "Объеденим все новые датафреймы с суммарными значениями в один"
   ]
  },
  {
   "cell_type": "code",
   "execution_count": 354,
   "metadata": {},
   "outputs": [
    {
     "data": {
      "text/html": [
       "<div>\n",
       "<style scoped>\n",
       "    .dataframe tbody tr th:only-of-type {\n",
       "        vertical-align: middle;\n",
       "    }\n",
       "\n",
       "    .dataframe tbody tr th {\n",
       "        vertical-align: top;\n",
       "    }\n",
       "\n",
       "    .dataframe thead th {\n",
       "        text-align: right;\n",
       "    }\n",
       "</style>\n",
       "<table border=\"1\" class=\"dataframe\">\n",
       "  <thead>\n",
       "    <tr style=\"text-align: right;\">\n",
       "      <th></th>\n",
       "      <th>month</th>\n",
       "      <th>user_id</th>\n",
       "      <th>total_calls_month</th>\n",
       "      <th>total_minutes_month</th>\n",
       "      <th>total_messages_month</th>\n",
       "      <th>gb_used</th>\n",
       "    </tr>\n",
       "  </thead>\n",
       "  <tbody>\n",
       "    <tr>\n",
       "      <td>0</td>\n",
       "      <td>1</td>\n",
       "      <td>1005</td>\n",
       "      <td>15.00</td>\n",
       "      <td>99.00</td>\n",
       "      <td>7.00</td>\n",
       "      <td>2.67</td>\n",
       "    </tr>\n",
       "    <tr>\n",
       "      <td>1</td>\n",
       "      <td>1</td>\n",
       "      <td>1032</td>\n",
       "      <td>61.00</td>\n",
       "      <td>397.00</td>\n",
       "      <td>38.00</td>\n",
       "      <td>23.59</td>\n",
       "    </tr>\n",
       "    <tr>\n",
       "      <td>2</td>\n",
       "      <td>1</td>\n",
       "      <td>1045</td>\n",
       "      <td>1.00</td>\n",
       "      <td>9.00</td>\n",
       "      <td>5.00</td>\n",
       "      <td>2.29</td>\n",
       "    </tr>\n",
       "    <tr>\n",
       "      <td>3</td>\n",
       "      <td>1</td>\n",
       "      <td>1055</td>\n",
       "      <td>64.00</td>\n",
       "      <td>568.00</td>\n",
       "      <td>30.00</td>\n",
       "      <td>16.71</td>\n",
       "    </tr>\n",
       "    <tr>\n",
       "      <td>4</td>\n",
       "      <td>1</td>\n",
       "      <td>1071</td>\n",
       "      <td>24.00</td>\n",
       "      <td>200.00</td>\n",
       "      <td>16.00</td>\n",
       "      <td>15.26</td>\n",
       "    </tr>\n",
       "    <tr>\n",
       "      <td>...</td>\n",
       "      <td>...</td>\n",
       "      <td>...</td>\n",
       "      <td>...</td>\n",
       "      <td>...</td>\n",
       "      <td>...</td>\n",
       "      <td>...</td>\n",
       "    </tr>\n",
       "    <tr>\n",
       "      <td>3209</td>\n",
       "      <td>12</td>\n",
       "      <td>1231</td>\n",
       "      <td>nan</td>\n",
       "      <td>nan</td>\n",
       "      <td>191.00</td>\n",
       "      <td>31.72</td>\n",
       "    </tr>\n",
       "    <tr>\n",
       "      <td>3210</td>\n",
       "      <td>12</td>\n",
       "      <td>1328</td>\n",
       "      <td>nan</td>\n",
       "      <td>nan</td>\n",
       "      <td>7.00</td>\n",
       "      <td>38.54</td>\n",
       "    </tr>\n",
       "    <tr>\n",
       "      <td>3211</td>\n",
       "      <td>12</td>\n",
       "      <td>1473</td>\n",
       "      <td>nan</td>\n",
       "      <td>nan</td>\n",
       "      <td>20.00</td>\n",
       "      <td>18.00</td>\n",
       "    </tr>\n",
       "    <tr>\n",
       "      <td>3212</td>\n",
       "      <td>12</td>\n",
       "      <td>1489</td>\n",
       "      <td>nan</td>\n",
       "      <td>nan</td>\n",
       "      <td>35.00</td>\n",
       "      <td>16.94</td>\n",
       "    </tr>\n",
       "    <tr>\n",
       "      <td>3213</td>\n",
       "      <td>4</td>\n",
       "      <td>1476</td>\n",
       "      <td>nan</td>\n",
       "      <td>nan</td>\n",
       "      <td>nan</td>\n",
       "      <td>0.52</td>\n",
       "    </tr>\n",
       "  </tbody>\n",
       "</table>\n",
       "<p>3214 rows × 6 columns</p>\n",
       "</div>"
      ],
      "text/plain": [
       "      month  user_id  total_calls_month  total_minutes_month  \\\n",
       "0         1     1005              15.00                99.00   \n",
       "1         1     1032              61.00               397.00   \n",
       "2         1     1045               1.00                 9.00   \n",
       "3         1     1055              64.00               568.00   \n",
       "4         1     1071              24.00               200.00   \n",
       "...     ...      ...                ...                  ...   \n",
       "3209     12     1231                nan                  nan   \n",
       "3210     12     1328                nan                  nan   \n",
       "3211     12     1473                nan                  nan   \n",
       "3212     12     1489                nan                  nan   \n",
       "3213      4     1476                nan                  nan   \n",
       "\n",
       "      total_messages_month  gb_used  \n",
       "0                     7.00     2.67  \n",
       "1                    38.00    23.59  \n",
       "2                     5.00     2.29  \n",
       "3                    30.00    16.71  \n",
       "4                    16.00    15.26  \n",
       "...                    ...      ...  \n",
       "3209                191.00    31.72  \n",
       "3210                  7.00    38.54  \n",
       "3211                 20.00    18.00  \n",
       "3212                 35.00    16.94  \n",
       "3213                   nan     0.52  \n",
       "\n",
       "[3214 rows x 6 columns]"
      ]
     },
     "execution_count": 354,
     "metadata": {},
     "output_type": "execute_result"
    }
   ],
   "source": [
    "agg_values_per_user = total_volumes_per_user.merge(temporary_messages_data, on = ['month','user_id'], how = 'outer')\n",
    "agg_values_per_user = agg_values_per_user.merge(traffic_by_month, on = ['month','user_id'], how = 'outer')\n",
    "agg_values_per_user"
   ]
  },
  {
   "cell_type": "markdown",
   "metadata": {},
   "source": [
    "Добавим в таблицу указание тарифа пользователя и его условия, а также основную информацию о пользователе.\n",
    "\n",
    "Так как наименование столбца с указанием тарифа, в датафреймах `users_data` и `tariffs_data`, отличаются  - сначала унифицируем название."
   ]
  },
  {
   "cell_type": "code",
   "execution_count": 355,
   "metadata": {},
   "outputs": [],
   "source": [
    "tariffs_data.rename(columns = {'tariff_name':'tariff'}, inplace = True)"
   ]
  },
  {
   "cell_type": "markdown",
   "metadata": {},
   "source": [
    "Теперь объединим таблицы"
   ]
  },
  {
   "cell_type": "code",
   "execution_count": 356,
   "metadata": {},
   "outputs": [
    {
     "data": {
      "text/html": [
       "<div>\n",
       "<style scoped>\n",
       "    .dataframe tbody tr th:only-of-type {\n",
       "        vertical-align: middle;\n",
       "    }\n",
       "\n",
       "    .dataframe tbody tr th {\n",
       "        vertical-align: top;\n",
       "    }\n",
       "\n",
       "    .dataframe thead th {\n",
       "        text-align: right;\n",
       "    }\n",
       "</style>\n",
       "<table border=\"1\" class=\"dataframe\">\n",
       "  <thead>\n",
       "    <tr style=\"text-align: right;\">\n",
       "      <th></th>\n",
       "      <th>month</th>\n",
       "      <th>user_id</th>\n",
       "      <th>total_calls_month</th>\n",
       "      <th>total_minutes_month</th>\n",
       "      <th>total_messages_month</th>\n",
       "      <th>gb_used</th>\n",
       "      <th>city</th>\n",
       "      <th>reg_date</th>\n",
       "      <th>tariff</th>\n",
       "      <th>messages_included</th>\n",
       "      <th>mb_per_month_included</th>\n",
       "      <th>minutes_included</th>\n",
       "      <th>rub_monthly_fee</th>\n",
       "      <th>rub_per_gb</th>\n",
       "      <th>rub_per_message</th>\n",
       "      <th>rub_per_minute</th>\n",
       "      <th>gb_per_month_included</th>\n",
       "    </tr>\n",
       "  </thead>\n",
       "  <tbody>\n",
       "    <tr>\n",
       "      <td>0</td>\n",
       "      <td>1</td>\n",
       "      <td>1005</td>\n",
       "      <td>15.00</td>\n",
       "      <td>99.00</td>\n",
       "      <td>7.00</td>\n",
       "      <td>2.67</td>\n",
       "      <td>Набережные Челны</td>\n",
       "      <td>2018-01-25</td>\n",
       "      <td>smart</td>\n",
       "      <td>50</td>\n",
       "      <td>15360</td>\n",
       "      <td>500</td>\n",
       "      <td>550</td>\n",
       "      <td>200</td>\n",
       "      <td>3</td>\n",
       "      <td>3</td>\n",
       "      <td>15.00</td>\n",
       "    </tr>\n",
       "    <tr>\n",
       "      <td>1</td>\n",
       "      <td>1</td>\n",
       "      <td>1032</td>\n",
       "      <td>61.00</td>\n",
       "      <td>397.00</td>\n",
       "      <td>38.00</td>\n",
       "      <td>23.59</td>\n",
       "      <td>Ульяновск</td>\n",
       "      <td>2018-01-04</td>\n",
       "      <td>smart</td>\n",
       "      <td>50</td>\n",
       "      <td>15360</td>\n",
       "      <td>500</td>\n",
       "      <td>550</td>\n",
       "      <td>200</td>\n",
       "      <td>3</td>\n",
       "      <td>3</td>\n",
       "      <td>15.00</td>\n",
       "    </tr>\n",
       "    <tr>\n",
       "      <td>2</td>\n",
       "      <td>1</td>\n",
       "      <td>1045</td>\n",
       "      <td>1.00</td>\n",
       "      <td>9.00</td>\n",
       "      <td>5.00</td>\n",
       "      <td>2.29</td>\n",
       "      <td>Улан-Удэ</td>\n",
       "      <td>2018-01-30</td>\n",
       "      <td>smart</td>\n",
       "      <td>50</td>\n",
       "      <td>15360</td>\n",
       "      <td>500</td>\n",
       "      <td>550</td>\n",
       "      <td>200</td>\n",
       "      <td>3</td>\n",
       "      <td>3</td>\n",
       "      <td>15.00</td>\n",
       "    </tr>\n",
       "    <tr>\n",
       "      <td>3</td>\n",
       "      <td>1</td>\n",
       "      <td>1055</td>\n",
       "      <td>64.00</td>\n",
       "      <td>568.00</td>\n",
       "      <td>30.00</td>\n",
       "      <td>16.71</td>\n",
       "      <td>Казань</td>\n",
       "      <td>2018-01-02</td>\n",
       "      <td>smart</td>\n",
       "      <td>50</td>\n",
       "      <td>15360</td>\n",
       "      <td>500</td>\n",
       "      <td>550</td>\n",
       "      <td>200</td>\n",
       "      <td>3</td>\n",
       "      <td>3</td>\n",
       "      <td>15.00</td>\n",
       "    </tr>\n",
       "    <tr>\n",
       "      <td>4</td>\n",
       "      <td>1</td>\n",
       "      <td>1071</td>\n",
       "      <td>24.00</td>\n",
       "      <td>200.00</td>\n",
       "      <td>16.00</td>\n",
       "      <td>15.26</td>\n",
       "      <td>Омск</td>\n",
       "      <td>2018-01-09</td>\n",
       "      <td>smart</td>\n",
       "      <td>50</td>\n",
       "      <td>15360</td>\n",
       "      <td>500</td>\n",
       "      <td>550</td>\n",
       "      <td>200</td>\n",
       "      <td>3</td>\n",
       "      <td>3</td>\n",
       "      <td>15.00</td>\n",
       "    </tr>\n",
       "    <tr>\n",
       "      <td>...</td>\n",
       "      <td>...</td>\n",
       "      <td>...</td>\n",
       "      <td>...</td>\n",
       "      <td>...</td>\n",
       "      <td>...</td>\n",
       "      <td>...</td>\n",
       "      <td>...</td>\n",
       "      <td>...</td>\n",
       "      <td>...</td>\n",
       "      <td>...</td>\n",
       "      <td>...</td>\n",
       "      <td>...</td>\n",
       "      <td>...</td>\n",
       "      <td>...</td>\n",
       "      <td>...</td>\n",
       "      <td>...</td>\n",
       "      <td>...</td>\n",
       "    </tr>\n",
       "    <tr>\n",
       "      <td>3209</td>\n",
       "      <td>12</td>\n",
       "      <td>1231</td>\n",
       "      <td>nan</td>\n",
       "      <td>nan</td>\n",
       "      <td>191.00</td>\n",
       "      <td>31.72</td>\n",
       "      <td>Чебоксары</td>\n",
       "      <td>2018-05-23</td>\n",
       "      <td>ultra</td>\n",
       "      <td>1000</td>\n",
       "      <td>30720</td>\n",
       "      <td>3000</td>\n",
       "      <td>1950</td>\n",
       "      <td>150</td>\n",
       "      <td>1</td>\n",
       "      <td>1</td>\n",
       "      <td>30.00</td>\n",
       "    </tr>\n",
       "    <tr>\n",
       "      <td>3210</td>\n",
       "      <td>12</td>\n",
       "      <td>1328</td>\n",
       "      <td>nan</td>\n",
       "      <td>nan</td>\n",
       "      <td>7.00</td>\n",
       "      <td>38.54</td>\n",
       "      <td>Мурманск</td>\n",
       "      <td>2018-10-16</td>\n",
       "      <td>ultra</td>\n",
       "      <td>1000</td>\n",
       "      <td>30720</td>\n",
       "      <td>3000</td>\n",
       "      <td>1950</td>\n",
       "      <td>150</td>\n",
       "      <td>1</td>\n",
       "      <td>1</td>\n",
       "      <td>30.00</td>\n",
       "    </tr>\n",
       "    <tr>\n",
       "      <td>3211</td>\n",
       "      <td>12</td>\n",
       "      <td>1473</td>\n",
       "      <td>nan</td>\n",
       "      <td>nan</td>\n",
       "      <td>20.00</td>\n",
       "      <td>18.00</td>\n",
       "      <td>Красноярск</td>\n",
       "      <td>2018-08-05</td>\n",
       "      <td>ultra</td>\n",
       "      <td>1000</td>\n",
       "      <td>30720</td>\n",
       "      <td>3000</td>\n",
       "      <td>1950</td>\n",
       "      <td>150</td>\n",
       "      <td>1</td>\n",
       "      <td>1</td>\n",
       "      <td>30.00</td>\n",
       "    </tr>\n",
       "    <tr>\n",
       "      <td>3212</td>\n",
       "      <td>12</td>\n",
       "      <td>1489</td>\n",
       "      <td>nan</td>\n",
       "      <td>nan</td>\n",
       "      <td>35.00</td>\n",
       "      <td>16.94</td>\n",
       "      <td>Санкт-Петербург</td>\n",
       "      <td>2018-08-15</td>\n",
       "      <td>smart</td>\n",
       "      <td>50</td>\n",
       "      <td>15360</td>\n",
       "      <td>500</td>\n",
       "      <td>550</td>\n",
       "      <td>200</td>\n",
       "      <td>3</td>\n",
       "      <td>3</td>\n",
       "      <td>15.00</td>\n",
       "    </tr>\n",
       "    <tr>\n",
       "      <td>3213</td>\n",
       "      <td>4</td>\n",
       "      <td>1476</td>\n",
       "      <td>nan</td>\n",
       "      <td>nan</td>\n",
       "      <td>nan</td>\n",
       "      <td>0.52</td>\n",
       "      <td>Москва</td>\n",
       "      <td>2018-04-30</td>\n",
       "      <td>ultra</td>\n",
       "      <td>1000</td>\n",
       "      <td>30720</td>\n",
       "      <td>3000</td>\n",
       "      <td>1950</td>\n",
       "      <td>150</td>\n",
       "      <td>1</td>\n",
       "      <td>1</td>\n",
       "      <td>30.00</td>\n",
       "    </tr>\n",
       "  </tbody>\n",
       "</table>\n",
       "<p>3214 rows × 17 columns</p>\n",
       "</div>"
      ],
      "text/plain": [
       "      month  user_id  total_calls_month  total_minutes_month  \\\n",
       "0         1     1005              15.00                99.00   \n",
       "1         1     1032              61.00               397.00   \n",
       "2         1     1045               1.00                 9.00   \n",
       "3         1     1055              64.00               568.00   \n",
       "4         1     1071              24.00               200.00   \n",
       "...     ...      ...                ...                  ...   \n",
       "3209     12     1231                nan                  nan   \n",
       "3210     12     1328                nan                  nan   \n",
       "3211     12     1473                nan                  nan   \n",
       "3212     12     1489                nan                  nan   \n",
       "3213      4     1476                nan                  nan   \n",
       "\n",
       "      total_messages_month  gb_used              city   reg_date tariff  \\\n",
       "0                     7.00     2.67  Набережные Челны 2018-01-25  smart   \n",
       "1                    38.00    23.59         Ульяновск 2018-01-04  smart   \n",
       "2                     5.00     2.29          Улан-Удэ 2018-01-30  smart   \n",
       "3                    30.00    16.71            Казань 2018-01-02  smart   \n",
       "4                    16.00    15.26              Омск 2018-01-09  smart   \n",
       "...                    ...      ...               ...        ...    ...   \n",
       "3209                191.00    31.72         Чебоксары 2018-05-23  ultra   \n",
       "3210                  7.00    38.54          Мурманск 2018-10-16  ultra   \n",
       "3211                 20.00    18.00        Красноярск 2018-08-05  ultra   \n",
       "3212                 35.00    16.94   Санкт-Петербург 2018-08-15  smart   \n",
       "3213                   nan     0.52            Москва 2018-04-30  ultra   \n",
       "\n",
       "      messages_included  mb_per_month_included  minutes_included  \\\n",
       "0                    50                  15360               500   \n",
       "1                    50                  15360               500   \n",
       "2                    50                  15360               500   \n",
       "3                    50                  15360               500   \n",
       "4                    50                  15360               500   \n",
       "...                 ...                    ...               ...   \n",
       "3209               1000                  30720              3000   \n",
       "3210               1000                  30720              3000   \n",
       "3211               1000                  30720              3000   \n",
       "3212                 50                  15360               500   \n",
       "3213               1000                  30720              3000   \n",
       "\n",
       "      rub_monthly_fee  rub_per_gb  rub_per_message  rub_per_minute  \\\n",
       "0                 550         200                3               3   \n",
       "1                 550         200                3               3   \n",
       "2                 550         200                3               3   \n",
       "3                 550         200                3               3   \n",
       "4                 550         200                3               3   \n",
       "...               ...         ...              ...             ...   \n",
       "3209             1950         150                1               1   \n",
       "3210             1950         150                1               1   \n",
       "3211             1950         150                1               1   \n",
       "3212              550         200                3               3   \n",
       "3213             1950         150                1               1   \n",
       "\n",
       "      gb_per_month_included  \n",
       "0                     15.00  \n",
       "1                     15.00  \n",
       "2                     15.00  \n",
       "3                     15.00  \n",
       "4                     15.00  \n",
       "...                     ...  \n",
       "3209                  30.00  \n",
       "3210                  30.00  \n",
       "3211                  30.00  \n",
       "3212                  15.00  \n",
       "3213                  30.00  \n",
       "\n",
       "[3214 rows x 17 columns]"
      ]
     },
     "execution_count": 356,
     "metadata": {},
     "output_type": "execute_result"
    }
   ],
   "source": [
    "# agg_values_per_user = agg_values_per_user.merge(users_data, on = 'user_id', how = 'left').merge(tariffs_data, on = 'tariff', how = 'left')\n",
    "agg_values_per_user = agg_values_per_user.merge(users_data[['user_id', 'city', 'reg_date', 'tariff']], on = 'user_id', how = 'left').merge(tariffs_data, on = 'tariff', how = 'left')\n",
    "\n",
    "agg_values_per_user"
   ]
  },
  {
   "cell_type": "markdown",
   "metadata": {},
   "source": [
    "Таблица для расчетов готова. Проверим ее пропуски и дубли."
   ]
  },
  {
   "cell_type": "code",
   "execution_count": 357,
   "metadata": {},
   "outputs": [
    {
     "data": {
      "text/plain": [
       "0"
      ]
     },
     "execution_count": 357,
     "metadata": {},
     "output_type": "execute_result"
    }
   ],
   "source": [
    "agg_values_per_user.duplicated().sum()"
   ]
  },
  {
   "cell_type": "code",
   "execution_count": 358,
   "metadata": {},
   "outputs": [
    {
     "data": {
      "text/plain": [
       "month                      0\n",
       "user_id                    0\n",
       "total_calls_month         40\n",
       "total_minutes_month       40\n",
       "total_messages_month     497\n",
       "gb_used                   11\n",
       "city                       0\n",
       "reg_date                   0\n",
       "tariff                     0\n",
       "messages_included          0\n",
       "mb_per_month_included      0\n",
       "minutes_included           0\n",
       "rub_monthly_fee            0\n",
       "rub_per_gb                 0\n",
       "rub_per_message            0\n",
       "rub_per_minute             0\n",
       "gb_per_month_included      0\n",
       "dtype: int64"
      ]
     },
     "execution_count": 358,
     "metadata": {},
     "output_type": "execute_result"
    }
   ],
   "source": [
    "agg_values_per_user.isnull().sum()"
   ]
  },
  {
   "cell_type": "markdown",
   "metadata": {},
   "source": [
    "Наблюдаются пропуски в столбцах количества звонков, длительности звонков, количества смс, использованного трафика. Особенно много неиспользованных смс, что вполне объяснимо - подавляющее большинство пользователей давно предпочитают мессенджеры и соц.сети. Заменим пропуски на нули. `churn_date` оставляем как есть."
   ]
  },
  {
   "cell_type": "code",
   "execution_count": 359,
   "metadata": {},
   "outputs": [],
   "source": [
    "agg_values_per_user['total_calls_month'] = agg_values_per_user['total_calls_month'].fillna(0)\n",
    "agg_values_per_user['total_minutes_month'] = agg_values_per_user['total_minutes_month'].fillna(0)\n",
    "agg_values_per_user['total_messages_month'] = agg_values_per_user['total_messages_month'].fillna(0)\n",
    "agg_values_per_user['gb_used'] = agg_values_per_user['gb_used'].fillna(0)"
   ]
  },
  {
   "cell_type": "markdown",
   "metadata": {},
   "source": [
    "Перепроверим на пропуски и дубликаты"
   ]
  },
  {
   "cell_type": "code",
   "execution_count": 360,
   "metadata": {},
   "outputs": [
    {
     "data": {
      "text/plain": [
       "0"
      ]
     },
     "execution_count": 360,
     "metadata": {},
     "output_type": "execute_result"
    }
   ],
   "source": [
    "agg_values_per_user.duplicated().sum()"
   ]
  },
  {
   "cell_type": "code",
   "execution_count": 361,
   "metadata": {},
   "outputs": [
    {
     "data": {
      "text/plain": [
       "month                    0\n",
       "user_id                  0\n",
       "total_calls_month        0\n",
       "total_minutes_month      0\n",
       "total_messages_month     0\n",
       "gb_used                  0\n",
       "city                     0\n",
       "reg_date                 0\n",
       "tariff                   0\n",
       "messages_included        0\n",
       "mb_per_month_included    0\n",
       "minutes_included         0\n",
       "rub_monthly_fee          0\n",
       "rub_per_gb               0\n",
       "rub_per_message          0\n",
       "rub_per_minute           0\n",
       "gb_per_month_included    0\n",
       "dtype: int64"
      ]
     },
     "execution_count": 361,
     "metadata": {},
     "output_type": "execute_result"
    }
   ],
   "source": [
    "agg_values_per_user.isnull().sum()"
   ]
  },
  {
   "cell_type": "markdown",
   "metadata": {},
   "source": [
    "Готово. Можно приступать к расчетам."
   ]
  },
  {
   "cell_type": "code",
   "execution_count": 362,
   "metadata": {},
   "outputs": [],
   "source": [
    "# Создадим функцию для расчета выручки, без учета абонентской платы\n",
    "def revenue_wo_fee(row):\n",
    "    messages_revenue = (row['total_messages_month'] - row['messages_included']) * row['rub_per_message']\n",
    "    # internet_revenue = (row['gb_used'] - row['gb_per_month_included']) * row['rub_per_gb']\n",
    "    internet_revenue = (np.ceil(row['gb_used'], out = None) - row['gb_per_month_included']) * row['rub_per_gb']\n",
    "    calls_revenue = (row['total_minutes_month'] - row['minutes_included']) * row['rub_per_minute']\n",
    "    \n",
    "    revenue_wo_fee = 0\n",
    "    for i in [messages_revenue, internet_revenue, calls_revenue]:\n",
    "        if i > 0:\n",
    "            revenue_wo_fee += i\n",
    "    return revenue_wo_fee\n",
    "            "
   ]
  },
  {
   "cell_type": "code",
   "execution_count": 363,
   "metadata": {},
   "outputs": [],
   "source": [
    "# Запишем результат функции в новый столбец\n",
    "agg_values_per_user['revenue_wo_fee'] = agg_values_per_user.apply(revenue_wo_fee, axis = 1)"
   ]
  },
  {
   "cell_type": "code",
   "execution_count": 364,
   "metadata": {},
   "outputs": [
    {
     "data": {
      "text/html": [
       "<div>\n",
       "<style scoped>\n",
       "    .dataframe tbody tr th:only-of-type {\n",
       "        vertical-align: middle;\n",
       "    }\n",
       "\n",
       "    .dataframe tbody tr th {\n",
       "        vertical-align: top;\n",
       "    }\n",
       "\n",
       "    .dataframe thead th {\n",
       "        text-align: right;\n",
       "    }\n",
       "</style>\n",
       "<table border=\"1\" class=\"dataframe\">\n",
       "  <thead>\n",
       "    <tr style=\"text-align: right;\">\n",
       "      <th></th>\n",
       "      <th>month</th>\n",
       "      <th>user_id</th>\n",
       "      <th>total_calls_month</th>\n",
       "      <th>total_minutes_month</th>\n",
       "      <th>total_messages_month</th>\n",
       "      <th>gb_used</th>\n",
       "      <th>city</th>\n",
       "      <th>reg_date</th>\n",
       "      <th>tariff</th>\n",
       "      <th>messages_included</th>\n",
       "      <th>mb_per_month_included</th>\n",
       "      <th>minutes_included</th>\n",
       "      <th>rub_monthly_fee</th>\n",
       "      <th>rub_per_gb</th>\n",
       "      <th>rub_per_message</th>\n",
       "      <th>rub_per_minute</th>\n",
       "      <th>gb_per_month_included</th>\n",
       "      <th>revenue_wo_fee</th>\n",
       "    </tr>\n",
       "  </thead>\n",
       "  <tbody>\n",
       "    <tr>\n",
       "      <td>0</td>\n",
       "      <td>1</td>\n",
       "      <td>1005</td>\n",
       "      <td>15.00</td>\n",
       "      <td>99.00</td>\n",
       "      <td>7.00</td>\n",
       "      <td>2.67</td>\n",
       "      <td>Набережные Челны</td>\n",
       "      <td>2018-01-25</td>\n",
       "      <td>smart</td>\n",
       "      <td>50</td>\n",
       "      <td>15360</td>\n",
       "      <td>500</td>\n",
       "      <td>550</td>\n",
       "      <td>200</td>\n",
       "      <td>3</td>\n",
       "      <td>3</td>\n",
       "      <td>15.00</td>\n",
       "      <td>0.00</td>\n",
       "    </tr>\n",
       "    <tr>\n",
       "      <td>1</td>\n",
       "      <td>1</td>\n",
       "      <td>1032</td>\n",
       "      <td>61.00</td>\n",
       "      <td>397.00</td>\n",
       "      <td>38.00</td>\n",
       "      <td>23.59</td>\n",
       "      <td>Ульяновск</td>\n",
       "      <td>2018-01-04</td>\n",
       "      <td>smart</td>\n",
       "      <td>50</td>\n",
       "      <td>15360</td>\n",
       "      <td>500</td>\n",
       "      <td>550</td>\n",
       "      <td>200</td>\n",
       "      <td>3</td>\n",
       "      <td>3</td>\n",
       "      <td>15.00</td>\n",
       "      <td>1,800.00</td>\n",
       "    </tr>\n",
       "    <tr>\n",
       "      <td>2</td>\n",
       "      <td>1</td>\n",
       "      <td>1045</td>\n",
       "      <td>1.00</td>\n",
       "      <td>9.00</td>\n",
       "      <td>5.00</td>\n",
       "      <td>2.29</td>\n",
       "      <td>Улан-Удэ</td>\n",
       "      <td>2018-01-30</td>\n",
       "      <td>smart</td>\n",
       "      <td>50</td>\n",
       "      <td>15360</td>\n",
       "      <td>500</td>\n",
       "      <td>550</td>\n",
       "      <td>200</td>\n",
       "      <td>3</td>\n",
       "      <td>3</td>\n",
       "      <td>15.00</td>\n",
       "      <td>0.00</td>\n",
       "    </tr>\n",
       "    <tr>\n",
       "      <td>3</td>\n",
       "      <td>1</td>\n",
       "      <td>1055</td>\n",
       "      <td>64.00</td>\n",
       "      <td>568.00</td>\n",
       "      <td>30.00</td>\n",
       "      <td>16.71</td>\n",
       "      <td>Казань</td>\n",
       "      <td>2018-01-02</td>\n",
       "      <td>smart</td>\n",
       "      <td>50</td>\n",
       "      <td>15360</td>\n",
       "      <td>500</td>\n",
       "      <td>550</td>\n",
       "      <td>200</td>\n",
       "      <td>3</td>\n",
       "      <td>3</td>\n",
       "      <td>15.00</td>\n",
       "      <td>604.00</td>\n",
       "    </tr>\n",
       "    <tr>\n",
       "      <td>4</td>\n",
       "      <td>1</td>\n",
       "      <td>1071</td>\n",
       "      <td>24.00</td>\n",
       "      <td>200.00</td>\n",
       "      <td>16.00</td>\n",
       "      <td>15.26</td>\n",
       "      <td>Омск</td>\n",
       "      <td>2018-01-09</td>\n",
       "      <td>smart</td>\n",
       "      <td>50</td>\n",
       "      <td>15360</td>\n",
       "      <td>500</td>\n",
       "      <td>550</td>\n",
       "      <td>200</td>\n",
       "      <td>3</td>\n",
       "      <td>3</td>\n",
       "      <td>15.00</td>\n",
       "      <td>200.00</td>\n",
       "    </tr>\n",
       "    <tr>\n",
       "      <td>...</td>\n",
       "      <td>...</td>\n",
       "      <td>...</td>\n",
       "      <td>...</td>\n",
       "      <td>...</td>\n",
       "      <td>...</td>\n",
       "      <td>...</td>\n",
       "      <td>...</td>\n",
       "      <td>...</td>\n",
       "      <td>...</td>\n",
       "      <td>...</td>\n",
       "      <td>...</td>\n",
       "      <td>...</td>\n",
       "      <td>...</td>\n",
       "      <td>...</td>\n",
       "      <td>...</td>\n",
       "      <td>...</td>\n",
       "      <td>...</td>\n",
       "      <td>...</td>\n",
       "    </tr>\n",
       "    <tr>\n",
       "      <td>3209</td>\n",
       "      <td>12</td>\n",
       "      <td>1231</td>\n",
       "      <td>0.00</td>\n",
       "      <td>0.00</td>\n",
       "      <td>191.00</td>\n",
       "      <td>31.72</td>\n",
       "      <td>Чебоксары</td>\n",
       "      <td>2018-05-23</td>\n",
       "      <td>ultra</td>\n",
       "      <td>1000</td>\n",
       "      <td>30720</td>\n",
       "      <td>3000</td>\n",
       "      <td>1950</td>\n",
       "      <td>150</td>\n",
       "      <td>1</td>\n",
       "      <td>1</td>\n",
       "      <td>30.00</td>\n",
       "      <td>300.00</td>\n",
       "    </tr>\n",
       "    <tr>\n",
       "      <td>3210</td>\n",
       "      <td>12</td>\n",
       "      <td>1328</td>\n",
       "      <td>0.00</td>\n",
       "      <td>0.00</td>\n",
       "      <td>7.00</td>\n",
       "      <td>38.54</td>\n",
       "      <td>Мурманск</td>\n",
       "      <td>2018-10-16</td>\n",
       "      <td>ultra</td>\n",
       "      <td>1000</td>\n",
       "      <td>30720</td>\n",
       "      <td>3000</td>\n",
       "      <td>1950</td>\n",
       "      <td>150</td>\n",
       "      <td>1</td>\n",
       "      <td>1</td>\n",
       "      <td>30.00</td>\n",
       "      <td>1,350.00</td>\n",
       "    </tr>\n",
       "    <tr>\n",
       "      <td>3211</td>\n",
       "      <td>12</td>\n",
       "      <td>1473</td>\n",
       "      <td>0.00</td>\n",
       "      <td>0.00</td>\n",
       "      <td>20.00</td>\n",
       "      <td>18.00</td>\n",
       "      <td>Красноярск</td>\n",
       "      <td>2018-08-05</td>\n",
       "      <td>ultra</td>\n",
       "      <td>1000</td>\n",
       "      <td>30720</td>\n",
       "      <td>3000</td>\n",
       "      <td>1950</td>\n",
       "      <td>150</td>\n",
       "      <td>1</td>\n",
       "      <td>1</td>\n",
       "      <td>30.00</td>\n",
       "      <td>0.00</td>\n",
       "    </tr>\n",
       "    <tr>\n",
       "      <td>3212</td>\n",
       "      <td>12</td>\n",
       "      <td>1489</td>\n",
       "      <td>0.00</td>\n",
       "      <td>0.00</td>\n",
       "      <td>35.00</td>\n",
       "      <td>16.94</td>\n",
       "      <td>Санкт-Петербург</td>\n",
       "      <td>2018-08-15</td>\n",
       "      <td>smart</td>\n",
       "      <td>50</td>\n",
       "      <td>15360</td>\n",
       "      <td>500</td>\n",
       "      <td>550</td>\n",
       "      <td>200</td>\n",
       "      <td>3</td>\n",
       "      <td>3</td>\n",
       "      <td>15.00</td>\n",
       "      <td>400.00</td>\n",
       "    </tr>\n",
       "    <tr>\n",
       "      <td>3213</td>\n",
       "      <td>4</td>\n",
       "      <td>1476</td>\n",
       "      <td>0.00</td>\n",
       "      <td>0.00</td>\n",
       "      <td>0.00</td>\n",
       "      <td>0.52</td>\n",
       "      <td>Москва</td>\n",
       "      <td>2018-04-30</td>\n",
       "      <td>ultra</td>\n",
       "      <td>1000</td>\n",
       "      <td>30720</td>\n",
       "      <td>3000</td>\n",
       "      <td>1950</td>\n",
       "      <td>150</td>\n",
       "      <td>1</td>\n",
       "      <td>1</td>\n",
       "      <td>30.00</td>\n",
       "      <td>0.00</td>\n",
       "    </tr>\n",
       "  </tbody>\n",
       "</table>\n",
       "<p>3214 rows × 18 columns</p>\n",
       "</div>"
      ],
      "text/plain": [
       "      month  user_id  total_calls_month  total_minutes_month  \\\n",
       "0         1     1005              15.00                99.00   \n",
       "1         1     1032              61.00               397.00   \n",
       "2         1     1045               1.00                 9.00   \n",
       "3         1     1055              64.00               568.00   \n",
       "4         1     1071              24.00               200.00   \n",
       "...     ...      ...                ...                  ...   \n",
       "3209     12     1231               0.00                 0.00   \n",
       "3210     12     1328               0.00                 0.00   \n",
       "3211     12     1473               0.00                 0.00   \n",
       "3212     12     1489               0.00                 0.00   \n",
       "3213      4     1476               0.00                 0.00   \n",
       "\n",
       "      total_messages_month  gb_used              city   reg_date tariff  \\\n",
       "0                     7.00     2.67  Набережные Челны 2018-01-25  smart   \n",
       "1                    38.00    23.59         Ульяновск 2018-01-04  smart   \n",
       "2                     5.00     2.29          Улан-Удэ 2018-01-30  smart   \n",
       "3                    30.00    16.71            Казань 2018-01-02  smart   \n",
       "4                    16.00    15.26              Омск 2018-01-09  smart   \n",
       "...                    ...      ...               ...        ...    ...   \n",
       "3209                191.00    31.72         Чебоксары 2018-05-23  ultra   \n",
       "3210                  7.00    38.54          Мурманск 2018-10-16  ultra   \n",
       "3211                 20.00    18.00        Красноярск 2018-08-05  ultra   \n",
       "3212                 35.00    16.94   Санкт-Петербург 2018-08-15  smart   \n",
       "3213                  0.00     0.52            Москва 2018-04-30  ultra   \n",
       "\n",
       "      messages_included  mb_per_month_included  minutes_included  \\\n",
       "0                    50                  15360               500   \n",
       "1                    50                  15360               500   \n",
       "2                    50                  15360               500   \n",
       "3                    50                  15360               500   \n",
       "4                    50                  15360               500   \n",
       "...                 ...                    ...               ...   \n",
       "3209               1000                  30720              3000   \n",
       "3210               1000                  30720              3000   \n",
       "3211               1000                  30720              3000   \n",
       "3212                 50                  15360               500   \n",
       "3213               1000                  30720              3000   \n",
       "\n",
       "      rub_monthly_fee  rub_per_gb  rub_per_message  rub_per_minute  \\\n",
       "0                 550         200                3               3   \n",
       "1                 550         200                3               3   \n",
       "2                 550         200                3               3   \n",
       "3                 550         200                3               3   \n",
       "4                 550         200                3               3   \n",
       "...               ...         ...              ...             ...   \n",
       "3209             1950         150                1               1   \n",
       "3210             1950         150                1               1   \n",
       "3211             1950         150                1               1   \n",
       "3212              550         200                3               3   \n",
       "3213             1950         150                1               1   \n",
       "\n",
       "      gb_per_month_included  revenue_wo_fee  \n",
       "0                     15.00            0.00  \n",
       "1                     15.00        1,800.00  \n",
       "2                     15.00            0.00  \n",
       "3                     15.00          604.00  \n",
       "4                     15.00          200.00  \n",
       "...                     ...             ...  \n",
       "3209                  30.00          300.00  \n",
       "3210                  30.00        1,350.00  \n",
       "3211                  30.00            0.00  \n",
       "3212                  15.00          400.00  \n",
       "3213                  30.00            0.00  \n",
       "\n",
       "[3214 rows x 18 columns]"
      ]
     },
     "execution_count": 364,
     "metadata": {},
     "output_type": "execute_result"
    }
   ],
   "source": [
    "agg_values_per_user"
   ]
  },
  {
   "cell_type": "markdown",
   "metadata": {},
   "source": [
    "Добавим еще один столбец с показателем общей выручки (+ абонентская плата)"
   ]
  },
  {
   "cell_type": "code",
   "execution_count": 365,
   "metadata": {},
   "outputs": [],
   "source": [
    "agg_values_per_user['total_revenue'] = agg_values_per_user['revenue_wo_fee'] + agg_values_per_user['rub_monthly_fee']"
   ]
  },
  {
   "cell_type": "code",
   "execution_count": 366,
   "metadata": {},
   "outputs": [
    {
     "data": {
      "text/html": [
       "<div>\n",
       "<style scoped>\n",
       "    .dataframe tbody tr th:only-of-type {\n",
       "        vertical-align: middle;\n",
       "    }\n",
       "\n",
       "    .dataframe tbody tr th {\n",
       "        vertical-align: top;\n",
       "    }\n",
       "\n",
       "    .dataframe thead th {\n",
       "        text-align: right;\n",
       "    }\n",
       "</style>\n",
       "<table border=\"1\" class=\"dataframe\">\n",
       "  <thead>\n",
       "    <tr style=\"text-align: right;\">\n",
       "      <th></th>\n",
       "      <th>month</th>\n",
       "      <th>user_id</th>\n",
       "      <th>total_calls_month</th>\n",
       "      <th>total_minutes_month</th>\n",
       "      <th>total_messages_month</th>\n",
       "      <th>gb_used</th>\n",
       "      <th>city</th>\n",
       "      <th>reg_date</th>\n",
       "      <th>tariff</th>\n",
       "      <th>messages_included</th>\n",
       "      <th>mb_per_month_included</th>\n",
       "      <th>minutes_included</th>\n",
       "      <th>rub_monthly_fee</th>\n",
       "      <th>rub_per_gb</th>\n",
       "      <th>rub_per_message</th>\n",
       "      <th>rub_per_minute</th>\n",
       "      <th>gb_per_month_included</th>\n",
       "      <th>revenue_wo_fee</th>\n",
       "      <th>total_revenue</th>\n",
       "    </tr>\n",
       "  </thead>\n",
       "  <tbody>\n",
       "    <tr>\n",
       "      <td>0</td>\n",
       "      <td>1</td>\n",
       "      <td>1005</td>\n",
       "      <td>15.00</td>\n",
       "      <td>99.00</td>\n",
       "      <td>7.00</td>\n",
       "      <td>2.67</td>\n",
       "      <td>Набережные Челны</td>\n",
       "      <td>2018-01-25</td>\n",
       "      <td>smart</td>\n",
       "      <td>50</td>\n",
       "      <td>15360</td>\n",
       "      <td>500</td>\n",
       "      <td>550</td>\n",
       "      <td>200</td>\n",
       "      <td>3</td>\n",
       "      <td>3</td>\n",
       "      <td>15.00</td>\n",
       "      <td>0.00</td>\n",
       "      <td>550.00</td>\n",
       "    </tr>\n",
       "    <tr>\n",
       "      <td>1</td>\n",
       "      <td>1</td>\n",
       "      <td>1032</td>\n",
       "      <td>61.00</td>\n",
       "      <td>397.00</td>\n",
       "      <td>38.00</td>\n",
       "      <td>23.59</td>\n",
       "      <td>Ульяновск</td>\n",
       "      <td>2018-01-04</td>\n",
       "      <td>smart</td>\n",
       "      <td>50</td>\n",
       "      <td>15360</td>\n",
       "      <td>500</td>\n",
       "      <td>550</td>\n",
       "      <td>200</td>\n",
       "      <td>3</td>\n",
       "      <td>3</td>\n",
       "      <td>15.00</td>\n",
       "      <td>1,800.00</td>\n",
       "      <td>2,350.00</td>\n",
       "    </tr>\n",
       "    <tr>\n",
       "      <td>2</td>\n",
       "      <td>1</td>\n",
       "      <td>1045</td>\n",
       "      <td>1.00</td>\n",
       "      <td>9.00</td>\n",
       "      <td>5.00</td>\n",
       "      <td>2.29</td>\n",
       "      <td>Улан-Удэ</td>\n",
       "      <td>2018-01-30</td>\n",
       "      <td>smart</td>\n",
       "      <td>50</td>\n",
       "      <td>15360</td>\n",
       "      <td>500</td>\n",
       "      <td>550</td>\n",
       "      <td>200</td>\n",
       "      <td>3</td>\n",
       "      <td>3</td>\n",
       "      <td>15.00</td>\n",
       "      <td>0.00</td>\n",
       "      <td>550.00</td>\n",
       "    </tr>\n",
       "    <tr>\n",
       "      <td>3</td>\n",
       "      <td>1</td>\n",
       "      <td>1055</td>\n",
       "      <td>64.00</td>\n",
       "      <td>568.00</td>\n",
       "      <td>30.00</td>\n",
       "      <td>16.71</td>\n",
       "      <td>Казань</td>\n",
       "      <td>2018-01-02</td>\n",
       "      <td>smart</td>\n",
       "      <td>50</td>\n",
       "      <td>15360</td>\n",
       "      <td>500</td>\n",
       "      <td>550</td>\n",
       "      <td>200</td>\n",
       "      <td>3</td>\n",
       "      <td>3</td>\n",
       "      <td>15.00</td>\n",
       "      <td>604.00</td>\n",
       "      <td>1,154.00</td>\n",
       "    </tr>\n",
       "    <tr>\n",
       "      <td>4</td>\n",
       "      <td>1</td>\n",
       "      <td>1071</td>\n",
       "      <td>24.00</td>\n",
       "      <td>200.00</td>\n",
       "      <td>16.00</td>\n",
       "      <td>15.26</td>\n",
       "      <td>Омск</td>\n",
       "      <td>2018-01-09</td>\n",
       "      <td>smart</td>\n",
       "      <td>50</td>\n",
       "      <td>15360</td>\n",
       "      <td>500</td>\n",
       "      <td>550</td>\n",
       "      <td>200</td>\n",
       "      <td>3</td>\n",
       "      <td>3</td>\n",
       "      <td>15.00</td>\n",
       "      <td>200.00</td>\n",
       "      <td>750.00</td>\n",
       "    </tr>\n",
       "    <tr>\n",
       "      <td>...</td>\n",
       "      <td>...</td>\n",
       "      <td>...</td>\n",
       "      <td>...</td>\n",
       "      <td>...</td>\n",
       "      <td>...</td>\n",
       "      <td>...</td>\n",
       "      <td>...</td>\n",
       "      <td>...</td>\n",
       "      <td>...</td>\n",
       "      <td>...</td>\n",
       "      <td>...</td>\n",
       "      <td>...</td>\n",
       "      <td>...</td>\n",
       "      <td>...</td>\n",
       "      <td>...</td>\n",
       "      <td>...</td>\n",
       "      <td>...</td>\n",
       "      <td>...</td>\n",
       "      <td>...</td>\n",
       "    </tr>\n",
       "    <tr>\n",
       "      <td>3209</td>\n",
       "      <td>12</td>\n",
       "      <td>1231</td>\n",
       "      <td>0.00</td>\n",
       "      <td>0.00</td>\n",
       "      <td>191.00</td>\n",
       "      <td>31.72</td>\n",
       "      <td>Чебоксары</td>\n",
       "      <td>2018-05-23</td>\n",
       "      <td>ultra</td>\n",
       "      <td>1000</td>\n",
       "      <td>30720</td>\n",
       "      <td>3000</td>\n",
       "      <td>1950</td>\n",
       "      <td>150</td>\n",
       "      <td>1</td>\n",
       "      <td>1</td>\n",
       "      <td>30.00</td>\n",
       "      <td>300.00</td>\n",
       "      <td>2,250.00</td>\n",
       "    </tr>\n",
       "    <tr>\n",
       "      <td>3210</td>\n",
       "      <td>12</td>\n",
       "      <td>1328</td>\n",
       "      <td>0.00</td>\n",
       "      <td>0.00</td>\n",
       "      <td>7.00</td>\n",
       "      <td>38.54</td>\n",
       "      <td>Мурманск</td>\n",
       "      <td>2018-10-16</td>\n",
       "      <td>ultra</td>\n",
       "      <td>1000</td>\n",
       "      <td>30720</td>\n",
       "      <td>3000</td>\n",
       "      <td>1950</td>\n",
       "      <td>150</td>\n",
       "      <td>1</td>\n",
       "      <td>1</td>\n",
       "      <td>30.00</td>\n",
       "      <td>1,350.00</td>\n",
       "      <td>3,300.00</td>\n",
       "    </tr>\n",
       "    <tr>\n",
       "      <td>3211</td>\n",
       "      <td>12</td>\n",
       "      <td>1473</td>\n",
       "      <td>0.00</td>\n",
       "      <td>0.00</td>\n",
       "      <td>20.00</td>\n",
       "      <td>18.00</td>\n",
       "      <td>Красноярск</td>\n",
       "      <td>2018-08-05</td>\n",
       "      <td>ultra</td>\n",
       "      <td>1000</td>\n",
       "      <td>30720</td>\n",
       "      <td>3000</td>\n",
       "      <td>1950</td>\n",
       "      <td>150</td>\n",
       "      <td>1</td>\n",
       "      <td>1</td>\n",
       "      <td>30.00</td>\n",
       "      <td>0.00</td>\n",
       "      <td>1,950.00</td>\n",
       "    </tr>\n",
       "    <tr>\n",
       "      <td>3212</td>\n",
       "      <td>12</td>\n",
       "      <td>1489</td>\n",
       "      <td>0.00</td>\n",
       "      <td>0.00</td>\n",
       "      <td>35.00</td>\n",
       "      <td>16.94</td>\n",
       "      <td>Санкт-Петербург</td>\n",
       "      <td>2018-08-15</td>\n",
       "      <td>smart</td>\n",
       "      <td>50</td>\n",
       "      <td>15360</td>\n",
       "      <td>500</td>\n",
       "      <td>550</td>\n",
       "      <td>200</td>\n",
       "      <td>3</td>\n",
       "      <td>3</td>\n",
       "      <td>15.00</td>\n",
       "      <td>400.00</td>\n",
       "      <td>950.00</td>\n",
       "    </tr>\n",
       "    <tr>\n",
       "      <td>3213</td>\n",
       "      <td>4</td>\n",
       "      <td>1476</td>\n",
       "      <td>0.00</td>\n",
       "      <td>0.00</td>\n",
       "      <td>0.00</td>\n",
       "      <td>0.52</td>\n",
       "      <td>Москва</td>\n",
       "      <td>2018-04-30</td>\n",
       "      <td>ultra</td>\n",
       "      <td>1000</td>\n",
       "      <td>30720</td>\n",
       "      <td>3000</td>\n",
       "      <td>1950</td>\n",
       "      <td>150</td>\n",
       "      <td>1</td>\n",
       "      <td>1</td>\n",
       "      <td>30.00</td>\n",
       "      <td>0.00</td>\n",
       "      <td>1,950.00</td>\n",
       "    </tr>\n",
       "  </tbody>\n",
       "</table>\n",
       "<p>3214 rows × 19 columns</p>\n",
       "</div>"
      ],
      "text/plain": [
       "      month  user_id  total_calls_month  total_minutes_month  \\\n",
       "0         1     1005              15.00                99.00   \n",
       "1         1     1032              61.00               397.00   \n",
       "2         1     1045               1.00                 9.00   \n",
       "3         1     1055              64.00               568.00   \n",
       "4         1     1071              24.00               200.00   \n",
       "...     ...      ...                ...                  ...   \n",
       "3209     12     1231               0.00                 0.00   \n",
       "3210     12     1328               0.00                 0.00   \n",
       "3211     12     1473               0.00                 0.00   \n",
       "3212     12     1489               0.00                 0.00   \n",
       "3213      4     1476               0.00                 0.00   \n",
       "\n",
       "      total_messages_month  gb_used              city   reg_date tariff  \\\n",
       "0                     7.00     2.67  Набережные Челны 2018-01-25  smart   \n",
       "1                    38.00    23.59         Ульяновск 2018-01-04  smart   \n",
       "2                     5.00     2.29          Улан-Удэ 2018-01-30  smart   \n",
       "3                    30.00    16.71            Казань 2018-01-02  smart   \n",
       "4                    16.00    15.26              Омск 2018-01-09  smart   \n",
       "...                    ...      ...               ...        ...    ...   \n",
       "3209                191.00    31.72         Чебоксары 2018-05-23  ultra   \n",
       "3210                  7.00    38.54          Мурманск 2018-10-16  ultra   \n",
       "3211                 20.00    18.00        Красноярск 2018-08-05  ultra   \n",
       "3212                 35.00    16.94   Санкт-Петербург 2018-08-15  smart   \n",
       "3213                  0.00     0.52            Москва 2018-04-30  ultra   \n",
       "\n",
       "      messages_included  mb_per_month_included  minutes_included  \\\n",
       "0                    50                  15360               500   \n",
       "1                    50                  15360               500   \n",
       "2                    50                  15360               500   \n",
       "3                    50                  15360               500   \n",
       "4                    50                  15360               500   \n",
       "...                 ...                    ...               ...   \n",
       "3209               1000                  30720              3000   \n",
       "3210               1000                  30720              3000   \n",
       "3211               1000                  30720              3000   \n",
       "3212                 50                  15360               500   \n",
       "3213               1000                  30720              3000   \n",
       "\n",
       "      rub_monthly_fee  rub_per_gb  rub_per_message  rub_per_minute  \\\n",
       "0                 550         200                3               3   \n",
       "1                 550         200                3               3   \n",
       "2                 550         200                3               3   \n",
       "3                 550         200                3               3   \n",
       "4                 550         200                3               3   \n",
       "...               ...         ...              ...             ...   \n",
       "3209             1950         150                1               1   \n",
       "3210             1950         150                1               1   \n",
       "3211             1950         150                1               1   \n",
       "3212              550         200                3               3   \n",
       "3213             1950         150                1               1   \n",
       "\n",
       "      gb_per_month_included  revenue_wo_fee  total_revenue  \n",
       "0                     15.00            0.00         550.00  \n",
       "1                     15.00        1,800.00       2,350.00  \n",
       "2                     15.00            0.00         550.00  \n",
       "3                     15.00          604.00       1,154.00  \n",
       "4                     15.00          200.00         750.00  \n",
       "...                     ...             ...            ...  \n",
       "3209                  30.00          300.00       2,250.00  \n",
       "3210                  30.00        1,350.00       3,300.00  \n",
       "3211                  30.00            0.00       1,950.00  \n",
       "3212                  15.00          400.00         950.00  \n",
       "3213                  30.00            0.00       1,950.00  \n",
       "\n",
       "[3214 rows x 19 columns]"
      ]
     },
     "execution_count": 366,
     "metadata": {},
     "output_type": "execute_result"
    }
   ],
   "source": [
    "agg_values_per_user"
   ]
  },
  {
   "cell_type": "markdown",
   "metadata": {},
   "source": [
    "## Шаг 3. Анализ данных.\n",
    "\n",
    "Опишите поведение клиентов оператора, исходя из выборки.\n",
    "\n",
    "- Сколько минут разговора, сколько сообщений и какой объём интернет-трафика требуется пользователям каждого тарифа в месяц?\n",
    "- Рассчитать среднее количество, дисперсию и стандартное отклонение. Построить гистограммы. Описать распределения."
   ]
  },
  {
   "cell_type": "code",
   "execution_count": 367,
   "metadata": {},
   "outputs": [
    {
     "data": {
      "text/plain": [
       "350"
      ]
     },
     "execution_count": 367,
     "metadata": {},
     "output_type": "execute_result"
    }
   ],
   "source": [
    "# Определяем число пользователей тарифа \"Смарт\" в выборке\n",
    "smart_users = agg_values_per_user.query('tariff == \"smart\"')\n",
    "len(smart_users.groupby('user_id'))"
   ]
  },
  {
   "cell_type": "code",
   "execution_count": 368,
   "metadata": {},
   "outputs": [
    {
     "data": {
      "text/plain": [
       "148"
      ]
     },
     "execution_count": 368,
     "metadata": {},
     "output_type": "execute_result"
    }
   ],
   "source": [
    "# Определяем число пользователей тарифа \"Ультра\" в выборке\n",
    "smart_users = agg_values_per_user.query('tariff == \"ultra\"')\n",
    "len(smart_users.groupby('user_id'))"
   ]
  },
  {
   "cell_type": "code",
   "execution_count": 369,
   "metadata": {},
   "outputs": [
    {
     "data": {
      "text/html": [
       "<div>\n",
       "<style scoped>\n",
       "    .dataframe tbody tr th:only-of-type {\n",
       "        vertical-align: middle;\n",
       "    }\n",
       "\n",
       "    .dataframe tbody tr th {\n",
       "        vertical-align: top;\n",
       "    }\n",
       "\n",
       "    .dataframe thead th {\n",
       "        text-align: right;\n",
       "    }\n",
       "</style>\n",
       "<table border=\"1\" class=\"dataframe\">\n",
       "  <thead>\n",
       "    <tr style=\"text-align: right;\">\n",
       "      <th></th>\n",
       "      <th>total_minutes_month</th>\n",
       "      <th>total_messages_month</th>\n",
       "      <th>gb_used</th>\n",
       "      <th>revenue_wo_fee</th>\n",
       "      <th>total_revenue</th>\n",
       "    </tr>\n",
       "    <tr>\n",
       "      <th>tariff</th>\n",
       "      <th></th>\n",
       "      <th></th>\n",
       "      <th></th>\n",
       "      <th></th>\n",
       "      <th></th>\n",
       "    </tr>\n",
       "  </thead>\n",
       "  <tbody>\n",
       "    <tr>\n",
       "      <td>smart</td>\n",
       "      <td>429.45</td>\n",
       "      <td>33.38</td>\n",
       "      <td>15.86</td>\n",
       "      <td>762.51</td>\n",
       "      <td>1,312.51</td>\n",
       "    </tr>\n",
       "    <tr>\n",
       "      <td>ultra</td>\n",
       "      <td>540.78</td>\n",
       "      <td>49.36</td>\n",
       "      <td>19.03</td>\n",
       "      <td>121.07</td>\n",
       "      <td>2,071.07</td>\n",
       "    </tr>\n",
       "  </tbody>\n",
       "</table>\n",
       "</div>"
      ],
      "text/plain": [
       "        total_minutes_month  total_messages_month  gb_used  revenue_wo_fee  \\\n",
       "tariff                                                                       \n",
       "smart                429.45                 33.38    15.86          762.51   \n",
       "ultra                540.78                 49.36    19.03          121.07   \n",
       "\n",
       "        total_revenue  \n",
       "tariff                 \n",
       "smart        1,312.51  \n",
       "ultra        2,071.07  "
      ]
     },
     "execution_count": 369,
     "metadata": {},
     "output_type": "execute_result"
    }
   ],
   "source": [
    "# Строим сводную таблицу для тарифов по основным показателям\n",
    "tariffs_pivot = agg_values_per_user.pivot_table(index = ['tariff'], values = ['total_minutes_month','total_messages_month','gb_used', 'revenue_wo_fee', 'total_revenue'])\n",
    "order = ['total_minutes_month','total_messages_month','gb_used', 'revenue_wo_fee', 'total_revenue']\n",
    "tariffs_pivot = tariffs_pivot.reindex(columns = order)\n",
    "tariffs_pivot"
   ]
  },
  {
   "cell_type": "markdown",
   "metadata": {},
   "source": [
    "Исходя из анализа средних значений пользователей тарифов, можно сделать предварительный вывод о том, что пользователи тарифа \"Смарт\" приносят более чем в 6 раз большую выручку, при использовании не включенных в тариф услуг. Тем не менее, если смотреть в целом, пользователи \"Ультры\", даже при том, что их значительно меньше,  приносят значительно больше денег и более активны в плане потребления услуг Оператора.\n",
    "\n",
    "В среднем пользователям необходимо:\n",
    "\n",
    "- тариф \"Смарт\" - 429.45 минут разговоров, 33.38 смс и 15.86 ГБ трафика\n",
    "- тариф \"Ультра\" - 540.78 минут разговоров, 49.36 смс и 19.03 ГБ трафика"
   ]
  },
  {
   "cell_type": "markdown",
   "metadata": {},
   "source": [
    "### 3.1 Анализ длительности разговоров"
   ]
  },
  {
   "cell_type": "markdown",
   "metadata": {},
   "source": [
    "#### Тариф \"Ультра\""
   ]
  },
  {
   "cell_type": "code",
   "execution_count": 370,
   "metadata": {},
   "outputs": [
    {
     "data": {
      "text/html": [
       "<div>\n",
       "<style scoped>\n",
       "    .dataframe tbody tr th:only-of-type {\n",
       "        vertical-align: middle;\n",
       "    }\n",
       "\n",
       "    .dataframe tbody tr th {\n",
       "        vertical-align: top;\n",
       "    }\n",
       "\n",
       "    .dataframe thead th {\n",
       "        text-align: right;\n",
       "    }\n",
       "</style>\n",
       "<table border=\"1\" class=\"dataframe\">\n",
       "  <thead>\n",
       "    <tr style=\"text-align: right;\">\n",
       "      <th></th>\n",
       "      <th>total_minutes_month</th>\n",
       "    </tr>\n",
       "  </thead>\n",
       "  <tbody>\n",
       "    <tr>\n",
       "      <td>count</td>\n",
       "      <td>985.00</td>\n",
       "    </tr>\n",
       "    <tr>\n",
       "      <td>mean</td>\n",
       "      <td>540.78</td>\n",
       "    </tr>\n",
       "    <tr>\n",
       "      <td>std</td>\n",
       "      <td>325.74</td>\n",
       "    </tr>\n",
       "    <tr>\n",
       "      <td>min</td>\n",
       "      <td>0.00</td>\n",
       "    </tr>\n",
       "    <tr>\n",
       "      <td>25%</td>\n",
       "      <td>292.00</td>\n",
       "    </tr>\n",
       "    <tr>\n",
       "      <td>50%</td>\n",
       "      <td>532.00</td>\n",
       "    </tr>\n",
       "    <tr>\n",
       "      <td>75%</td>\n",
       "      <td>773.00</td>\n",
       "    </tr>\n",
       "    <tr>\n",
       "      <td>max</td>\n",
       "      <td>1,727.00</td>\n",
       "    </tr>\n",
       "  </tbody>\n",
       "</table>\n",
       "</div>"
      ],
      "text/plain": [
       "       total_minutes_month\n",
       "count               985.00\n",
       "mean                540.78\n",
       "std                 325.74\n",
       "min                   0.00\n",
       "25%                 292.00\n",
       "50%                 532.00\n",
       "75%                 773.00\n",
       "max               1,727.00"
      ]
     },
     "execution_count": 370,
     "metadata": {},
     "output_type": "execute_result"
    }
   ],
   "source": [
    "agg_values_per_user.query('tariff == \"ultra\"')[['total_minutes_month']].describe()"
   ]
  },
  {
   "cell_type": "markdown",
   "metadata": {},
   "source": [
    "Среднее - 540.78 мин/мес. Медиана - 532 мин/мес."
   ]
  },
  {
   "cell_type": "code",
   "execution_count": 371,
   "metadata": {},
   "outputs": [
    {
     "name": "stdout",
     "output_type": "stream",
     "text": [
      "Дисперсия(\"Ультра\", продолжительность разговоров):  \n",
      "\n",
      " total_minutes_month   106,105.73\n",
      "dtype: float64\n"
     ]
    }
   ],
   "source": [
    "# Оценим дисперсию\n",
    "print('Дисперсия(\"Ультра\", продолжительность разговоров): ', '\\n\\n',np.var(agg_values_per_user.query('tariff == \"ultra\"')[['total_minutes_month']], ddof=1))"
   ]
  },
  {
   "cell_type": "code",
   "execution_count": 372,
   "metadata": {},
   "outputs": [
    {
     "data": {
      "image/png": "[encoded data removed]",
      "text/plain": [
       "<Figure size 648x432 with 1 Axes>"
      ]
     },
     "metadata": {
      "needs_background": "light"
     },
     "output_type": "display_data"
    }
   ],
   "source": [
    "#  Построим гистограмму\n",
    "plt.figure(figsize=(9, 6))\n",
    "with sns.axes_style('whitegrid'):\n",
    "    sns.distplot(agg_values_per_user.query('tariff == \"ultra\"')[['total_minutes_month']], bins= 50, kde=True)\n",
    "    plt.xlabel('Количество минут (мин/мес)')\n",
    "    plt.ylabel('Число звонков')\n",
    "    plt.title('Гистограмма распределения продолжительности  звонков по тарифу \"Ультра\"')"
   ]
  },
  {
   "cell_type": "markdown",
   "metadata": {},
   "source": [
    "#### Тариф \"Смарт\""
   ]
  },
  {
   "cell_type": "code",
   "execution_count": 373,
   "metadata": {},
   "outputs": [
    {
     "data": {
      "text/html": [
       "<div>\n",
       "<style scoped>\n",
       "    .dataframe tbody tr th:only-of-type {\n",
       "        vertical-align: middle;\n",
       "    }\n",
       "\n",
       "    .dataframe tbody tr th {\n",
       "        vertical-align: top;\n",
       "    }\n",
       "\n",
       "    .dataframe thead th {\n",
       "        text-align: right;\n",
       "    }\n",
       "</style>\n",
       "<table border=\"1\" class=\"dataframe\">\n",
       "  <thead>\n",
       "    <tr style=\"text-align: right;\">\n",
       "      <th></th>\n",
       "      <th>total_minutes_month</th>\n",
       "    </tr>\n",
       "  </thead>\n",
       "  <tbody>\n",
       "    <tr>\n",
       "      <td>count</td>\n",
       "      <td>2,229.00</td>\n",
       "    </tr>\n",
       "    <tr>\n",
       "      <td>mean</td>\n",
       "      <td>429.45</td>\n",
       "    </tr>\n",
       "    <tr>\n",
       "      <td>std</td>\n",
       "      <td>194.87</td>\n",
       "    </tr>\n",
       "    <tr>\n",
       "      <td>min</td>\n",
       "      <td>0.00</td>\n",
       "    </tr>\n",
       "    <tr>\n",
       "      <td>25%</td>\n",
       "      <td>291.00</td>\n",
       "    </tr>\n",
       "    <tr>\n",
       "      <td>50%</td>\n",
       "      <td>435.00</td>\n",
       "    </tr>\n",
       "    <tr>\n",
       "      <td>75%</td>\n",
       "      <td>560.00</td>\n",
       "    </tr>\n",
       "    <tr>\n",
       "      <td>max</td>\n",
       "      <td>1,471.00</td>\n",
       "    </tr>\n",
       "  </tbody>\n",
       "</table>\n",
       "</div>"
      ],
      "text/plain": [
       "       total_minutes_month\n",
       "count             2,229.00\n",
       "mean                429.45\n",
       "std                 194.87\n",
       "min                   0.00\n",
       "25%                 291.00\n",
       "50%                 435.00\n",
       "75%                 560.00\n",
       "max               1,471.00"
      ]
     },
     "execution_count": 373,
     "metadata": {},
     "output_type": "execute_result"
    }
   ],
   "source": [
    "agg_values_per_user.query('tariff == \"smart\"')[['total_minutes_month']].describe()"
   ]
  },
  {
   "cell_type": "markdown",
   "metadata": {},
   "source": [
    "Среднее - 429.45 мин/мес. Медиана - 435.00 мин/мес."
   ]
  },
  {
   "cell_type": "code",
   "execution_count": 374,
   "metadata": {},
   "outputs": [
    {
     "name": "stdout",
     "output_type": "stream",
     "text": [
      "Дисперсия(\"Смарт\", продолжительность разговоров):  \n",
      "\n",
      " total_minutes_month   37,974.77\n",
      "dtype: float64\n"
     ]
    }
   ],
   "source": [
    "# Оценим дисперсию\n",
    "print('Дисперсия(\"Смарт\", продолжительность разговоров): ', '\\n\\n',np.var(agg_values_per_user.query('tariff == \"smart\"')[['total_minutes_month']], ddof=1))"
   ]
  },
  {
   "cell_type": "code",
   "execution_count": 375,
   "metadata": {},
   "outputs": [
    {
     "data": {
      "image/png": "[encoded data removed]",
      "text/plain": [
       "<Figure size 648x432 with 1 Axes>"
      ]
     },
     "metadata": {
      "needs_background": "light"
     },
     "output_type": "display_data"
    }
   ],
   "source": [
    "#  Построим гистограмму\n",
    "plt.figure(figsize=(9, 6))\n",
    "with sns.axes_style('whitegrid'):\n",
    "    sns.distplot(agg_values_per_user.query('tariff == \"smart\"')[['total_minutes_month']], bins= 100, kde=True)\n",
    "    plt.xlabel('Количество минут (мин/мес)')\n",
    "    plt.ylabel('Число звонков')\n",
    "    plt.title('Гистограмма распределения продолжительности  звонков по тарифу \"Смарт\"')"
   ]
  },
  {
   "cell_type": "code",
   "execution_count": 376,
   "metadata": {},
   "outputs": [
    {
     "data": {
      "text/plain": [
       "<matplotlib.axes._subplots.AxesSubplot at 0x7ffadfb3d0d0>"
      ]
     },
     "execution_count": 376,
     "metadata": {},
     "output_type": "execute_result"
    },
    {
     "data": {
      "image/png": "[encoded data removed]",
      "text/plain": [
       "<Figure size 432x288 with 1 Axes>"
      ]
     },
     "metadata": {
      "needs_background": "light"
     },
     "output_type": "display_data"
    }
   ],
   "source": [
    "sns.boxplot(x = 'tariff', y= 'total_minutes_month', data = agg_values_per_user, palette='rainbow')"
   ]
  },
  {
   "cell_type": "code",
   "execution_count": 377,
   "metadata": {},
   "outputs": [
    {
     "data": {
      "text/html": [
       "<style  type=\"text/css\" >\n",
       "</style><table id=\"T_15387e00_ccfd_11ea_a143_02420a392b02\" ><thead>    <tr>        <th class=\"blank level0\" ></th>        <th class=\"col_heading level0 col0\" colspan=4>total_minutes_month</th>    </tr>    <tr>        <th class=\"blank level1\" ></th>        <th class=\"col_heading level1 col0\" >median</th>        <th class=\"col_heading level1 col1\" >mean</th>        <th class=\"col_heading level1 col2\" >var</th>        <th class=\"col_heading level1 col3\" >std</th>    </tr>    <tr>        <th class=\"index_name level0\" >tariff</th>        <th class=\"blank\" ></th>        <th class=\"blank\" ></th>        <th class=\"blank\" ></th>        <th class=\"blank\" ></th>    </tr></thead><tbody>\n",
       "                <tr>\n",
       "                        <th id=\"T_15387e00_ccfd_11ea_a143_02420a392b02level0_row0\" class=\"row_heading level0 row0\" >smart</th>\n",
       "                        <td id=\"T_15387e00_ccfd_11ea_a143_02420a392b02row0_col0\" class=\"data row0 col0\" >435.00</td>\n",
       "                        <td id=\"T_15387e00_ccfd_11ea_a143_02420a392b02row0_col1\" class=\"data row0 col1\" >429.45</td>\n",
       "                        <td id=\"T_15387e00_ccfd_11ea_a143_02420a392b02row0_col2\" class=\"data row0 col2\" >37974.77</td>\n",
       "                        <td id=\"T_15387e00_ccfd_11ea_a143_02420a392b02row0_col3\" class=\"data row0 col3\" >194.87</td>\n",
       "            </tr>\n",
       "            <tr>\n",
       "                        <th id=\"T_15387e00_ccfd_11ea_a143_02420a392b02level0_row1\" class=\"row_heading level0 row1\" >ultra</th>\n",
       "                        <td id=\"T_15387e00_ccfd_11ea_a143_02420a392b02row1_col0\" class=\"data row1 col0\" >532.00</td>\n",
       "                        <td id=\"T_15387e00_ccfd_11ea_a143_02420a392b02row1_col1\" class=\"data row1 col1\" >540.78</td>\n",
       "                        <td id=\"T_15387e00_ccfd_11ea_a143_02420a392b02row1_col2\" class=\"data row1 col2\" >106105.73</td>\n",
       "                        <td id=\"T_15387e00_ccfd_11ea_a143_02420a392b02row1_col3\" class=\"data row1 col3\" >325.74</td>\n",
       "            </tr>\n",
       "    </tbody></table>"
      ],
      "text/plain": [
       "<pandas.io.formats.style.Styler at 0x7ffadfb0d510>"
      ]
     },
     "execution_count": 377,
     "metadata": {},
     "output_type": "execute_result"
    }
   ],
   "source": [
    "agg_values_per_user.groupby('tariff')\\\n",
    "  .agg({'total_minutes_month':['median','mean','var','std']})\\\n",
    "  .style.format(\"{:.2f}\")"
   ]
  },
  {
   "cell_type": "markdown",
   "metadata": {},
   "source": [
    "### 3.1 Анализ длительности разговоров. Выводы.\n",
    "\n",
    "- в принципе, оба распределения длительности разговоров для тарифов близки к нормальному, но в тарифе \"Смарт\" распределение, все таки, более классическое. Возможно это объясняется относительно малым количеством пользователей тарифа \"Ультра\" в нашей и без того достаточно малой по объему выборке.\n",
    "- у пользователей \"Ультры\" более высокие значения как средней продолжительности разговора так и медианы , в сравнении с пользователями \"Смарта\" (540.78 мин/мес и 532 мин/мес против 429.45 мин/мес и 435.00 мин/мес, соответственно). Но также обращает на себя внимание и то, что дисперсия у \"Ультры\" значительно выше чем у \"Смарта\" (106,105.73 против 37,974.77)\n",
    "- количество абонетов тарифа \"Ультра\", которые полностью используют включенный в тариф объем звонков (3000 мин/мес) ничтожно мало\n",
    "\n",
    "- пользователям \"Смарта\", в среднем, в месяц достаточно около 450 минут. Таким образом, практически идеально используется объем включенных в тариф минут разговора (500 мин/мес). Но значительная часть абонентов не укладываются в лимит и приобретают дополнительные минуты.\n",
    "- пользователи \"Ультры\", в среднем, тратят минут немногим больше - около 550 и еще имеют огромный запас в виде дополнительных бесплатных 2 550 минут. Лишь единицы разговаривают более 1500 минут  Оператор достоин похвалы...Но стоит ли быть настолько щедрым?\n"
   ]
  },
  {
   "cell_type": "markdown",
   "metadata": {},
   "source": [
    "### 3.2 Анализ количества сообщений."
   ]
  },
  {
   "cell_type": "markdown",
   "metadata": {},
   "source": [
    "#### Тариф \"Ультра\""
   ]
  },
  {
   "cell_type": "code",
   "execution_count": 378,
   "metadata": {},
   "outputs": [
    {
     "data": {
      "text/html": [
       "<div>\n",
       "<style scoped>\n",
       "    .dataframe tbody tr th:only-of-type {\n",
       "        vertical-align: middle;\n",
       "    }\n",
       "\n",
       "    .dataframe tbody tr th {\n",
       "        vertical-align: top;\n",
       "    }\n",
       "\n",
       "    .dataframe thead th {\n",
       "        text-align: right;\n",
       "    }\n",
       "</style>\n",
       "<table border=\"1\" class=\"dataframe\">\n",
       "  <thead>\n",
       "    <tr style=\"text-align: right;\">\n",
       "      <th></th>\n",
       "      <th>total_messages_month</th>\n",
       "    </tr>\n",
       "  </thead>\n",
       "  <tbody>\n",
       "    <tr>\n",
       "      <td>count</td>\n",
       "      <td>985.00</td>\n",
       "    </tr>\n",
       "    <tr>\n",
       "      <td>mean</td>\n",
       "      <td>49.36</td>\n",
       "    </tr>\n",
       "    <tr>\n",
       "      <td>std</td>\n",
       "      <td>47.80</td>\n",
       "    </tr>\n",
       "    <tr>\n",
       "      <td>min</td>\n",
       "      <td>0.00</td>\n",
       "    </tr>\n",
       "    <tr>\n",
       "      <td>25%</td>\n",
       "      <td>6.00</td>\n",
       "    </tr>\n",
       "    <tr>\n",
       "      <td>50%</td>\n",
       "      <td>38.00</td>\n",
       "    </tr>\n",
       "    <tr>\n",
       "      <td>75%</td>\n",
       "      <td>79.00</td>\n",
       "    </tr>\n",
       "    <tr>\n",
       "      <td>max</td>\n",
       "      <td>224.00</td>\n",
       "    </tr>\n",
       "  </tbody>\n",
       "</table>\n",
       "</div>"
      ],
      "text/plain": [
       "       total_messages_month\n",
       "count                985.00\n",
       "mean                  49.36\n",
       "std                   47.80\n",
       "min                    0.00\n",
       "25%                    6.00\n",
       "50%                   38.00\n",
       "75%                   79.00\n",
       "max                  224.00"
      ]
     },
     "execution_count": 378,
     "metadata": {},
     "output_type": "execute_result"
    }
   ],
   "source": [
    "agg_values_per_user.query('tariff == \"ultra\"')[['total_messages_month']].describe()"
   ]
  },
  {
   "cell_type": "markdown",
   "metadata": {},
   "source": [
    "Среднее - 49.36 смс/мес. Медиана - 38.00 смс/мес."
   ]
  },
  {
   "cell_type": "code",
   "execution_count": 379,
   "metadata": {},
   "outputs": [
    {
     "name": "stdout",
     "output_type": "stream",
     "text": [
      "Дисперсия(\"Ультра\", количество сообщений):  \n",
      "\n",
      " total_messages_month   2,285.27\n",
      "dtype: float64\n"
     ]
    }
   ],
   "source": [
    "# Оценим дисперсию\n",
    "print('Дисперсия(\"Ультра\", количество сообщений): ', '\\n\\n',np.var(agg_values_per_user.query('tariff == \"ultra\"')[['total_messages_month']], ddof=1))"
   ]
  },
  {
   "cell_type": "code",
   "execution_count": 380,
   "metadata": {},
   "outputs": [
    {
     "data": {
      "image/png": "[encoded data removed]",
      "text/plain": [
       "<Figure size 648x432 with 1 Axes>"
      ]
     },
     "metadata": {
      "needs_background": "light"
     },
     "output_type": "display_data"
    }
   ],
   "source": [
    "#  Построим гистограмму\n",
    "plt.figure(figsize=(9, 6))\n",
    "with sns.axes_style('whitegrid'):\n",
    "    sns.distplot(agg_values_per_user.query('tariff == \"ultra\"')[['total_messages_month']], bins= 30, kde=True)\n",
    "    plt.xlabel('Количество сообщений (смс/мес)')\n",
    "    plt.ylabel('Число пользователей')\n",
    "    plt.title('Гистограмма распределения количества смс по тарифу \"Ультра\"')"
   ]
  },
  {
   "cell_type": "markdown",
   "metadata": {},
   "source": [
    "#### Тариф \"Смарт\""
   ]
  },
  {
   "cell_type": "code",
   "execution_count": 381,
   "metadata": {},
   "outputs": [
    {
     "data": {
      "text/html": [
       "<div>\n",
       "<style scoped>\n",
       "    .dataframe tbody tr th:only-of-type {\n",
       "        vertical-align: middle;\n",
       "    }\n",
       "\n",
       "    .dataframe tbody tr th {\n",
       "        vertical-align: top;\n",
       "    }\n",
       "\n",
       "    .dataframe thead th {\n",
       "        text-align: right;\n",
       "    }\n",
       "</style>\n",
       "<table border=\"1\" class=\"dataframe\">\n",
       "  <thead>\n",
       "    <tr style=\"text-align: right;\">\n",
       "      <th></th>\n",
       "      <th>total_messages_month</th>\n",
       "    </tr>\n",
       "  </thead>\n",
       "  <tbody>\n",
       "    <tr>\n",
       "      <td>count</td>\n",
       "      <td>2,229.00</td>\n",
       "    </tr>\n",
       "    <tr>\n",
       "      <td>mean</td>\n",
       "      <td>33.38</td>\n",
       "    </tr>\n",
       "    <tr>\n",
       "      <td>std</td>\n",
       "      <td>28.23</td>\n",
       "    </tr>\n",
       "    <tr>\n",
       "      <td>min</td>\n",
       "      <td>0.00</td>\n",
       "    </tr>\n",
       "    <tr>\n",
       "      <td>25%</td>\n",
       "      <td>10.00</td>\n",
       "    </tr>\n",
       "    <tr>\n",
       "      <td>50%</td>\n",
       "      <td>28.00</td>\n",
       "    </tr>\n",
       "    <tr>\n",
       "      <td>75%</td>\n",
       "      <td>51.00</td>\n",
       "    </tr>\n",
       "    <tr>\n",
       "      <td>max</td>\n",
       "      <td>143.00</td>\n",
       "    </tr>\n",
       "  </tbody>\n",
       "</table>\n",
       "</div>"
      ],
      "text/plain": [
       "       total_messages_month\n",
       "count              2,229.00\n",
       "mean                  33.38\n",
       "std                   28.23\n",
       "min                    0.00\n",
       "25%                   10.00\n",
       "50%                   28.00\n",
       "75%                   51.00\n",
       "max                  143.00"
      ]
     },
     "execution_count": 381,
     "metadata": {},
     "output_type": "execute_result"
    }
   ],
   "source": [
    "agg_values_per_user.query('tariff == \"smart\"')[['total_messages_month']].describe()"
   ]
  },
  {
   "cell_type": "markdown",
   "metadata": {},
   "source": [
    "Среднее - 33.38 смс/мес. Медиана - 28.00 смс/мес."
   ]
  },
  {
   "cell_type": "code",
   "execution_count": 382,
   "metadata": {},
   "outputs": [
    {
     "name": "stdout",
     "output_type": "stream",
     "text": [
      "Дисперсия(\"Смарт\", количество сообщений):  \n",
      "\n",
      " total_messages_month   796.81\n",
      "dtype: float64\n"
     ]
    }
   ],
   "source": [
    "# Оценим дисперсию\n",
    "print('Дисперсия(\"Смарт\", количество сообщений): ', '\\n\\n',np.var(agg_values_per_user.query('tariff == \"smart\"')[['total_messages_month']], ddof=1))"
   ]
  },
  {
   "cell_type": "code",
   "execution_count": 383,
   "metadata": {},
   "outputs": [
    {
     "data": {
      "image/png": "[encoded data removed]",
      "text/plain": [
       "<Figure size 648x432 with 1 Axes>"
      ]
     },
     "metadata": {
      "needs_background": "light"
     },
     "output_type": "display_data"
    }
   ],
   "source": [
    "#  Построим гистограмму\n",
    "plt.figure(figsize=(9, 6))\n",
    "with sns.axes_style('whitegrid'):\n",
    "    sns.distplot(agg_values_per_user.query('tariff == \"smart\"')[['total_messages_month']], bins= 30, kde=True)\n",
    "    plt.xlabel('Количество сообщений (смс/мес)')\n",
    "    plt.ylabel('Число пользователей')\n",
    "    plt.title('Гистограмма распределения количества смс по тарифу \"Смарт\"')"
   ]
  },
  {
   "cell_type": "code",
   "execution_count": 384,
   "metadata": {},
   "outputs": [
    {
     "data": {
      "text/plain": [
       "<matplotlib.axes._subplots.AxesSubplot at 0x7ffa9ef34450>"
      ]
     },
     "execution_count": 384,
     "metadata": {},
     "output_type": "execute_result"
    },
    {
     "data": {
      "image/png": "[encoded data removed]",
      "text/plain": [
       "<Figure size 432x288 with 1 Axes>"
      ]
     },
     "metadata": {
      "needs_background": "light"
     },
     "output_type": "display_data"
    }
   ],
   "source": [
    "sns.boxplot(x = 'tariff', y= 'total_messages_month', data = agg_values_per_user, palette='rainbow')"
   ]
  },
  {
   "cell_type": "code",
   "execution_count": 385,
   "metadata": {},
   "outputs": [
    {
     "data": {
      "text/html": [
       "<style  type=\"text/css\" >\n",
       "</style><table id=\"T_163bb9ac_ccfd_11ea_a143_02420a392b02\" ><thead>    <tr>        <th class=\"blank level0\" ></th>        <th class=\"col_heading level0 col0\" colspan=4>total_messages_month</th>    </tr>    <tr>        <th class=\"blank level1\" ></th>        <th class=\"col_heading level1 col0\" >median</th>        <th class=\"col_heading level1 col1\" >mean</th>        <th class=\"col_heading level1 col2\" >var</th>        <th class=\"col_heading level1 col3\" >std</th>    </tr>    <tr>        <th class=\"index_name level0\" >tariff</th>        <th class=\"blank\" ></th>        <th class=\"blank\" ></th>        <th class=\"blank\" ></th>        <th class=\"blank\" ></th>    </tr></thead><tbody>\n",
       "                <tr>\n",
       "                        <th id=\"T_163bb9ac_ccfd_11ea_a143_02420a392b02level0_row0\" class=\"row_heading level0 row0\" >smart</th>\n",
       "                        <td id=\"T_163bb9ac_ccfd_11ea_a143_02420a392b02row0_col0\" class=\"data row0 col0\" >28.00</td>\n",
       "                        <td id=\"T_163bb9ac_ccfd_11ea_a143_02420a392b02row0_col1\" class=\"data row0 col1\" >33.38</td>\n",
       "                        <td id=\"T_163bb9ac_ccfd_11ea_a143_02420a392b02row0_col2\" class=\"data row0 col2\" >796.81</td>\n",
       "                        <td id=\"T_163bb9ac_ccfd_11ea_a143_02420a392b02row0_col3\" class=\"data row0 col3\" >28.23</td>\n",
       "            </tr>\n",
       "            <tr>\n",
       "                        <th id=\"T_163bb9ac_ccfd_11ea_a143_02420a392b02level0_row1\" class=\"row_heading level0 row1\" >ultra</th>\n",
       "                        <td id=\"T_163bb9ac_ccfd_11ea_a143_02420a392b02row1_col0\" class=\"data row1 col0\" >38.00</td>\n",
       "                        <td id=\"T_163bb9ac_ccfd_11ea_a143_02420a392b02row1_col1\" class=\"data row1 col1\" >49.36</td>\n",
       "                        <td id=\"T_163bb9ac_ccfd_11ea_a143_02420a392b02row1_col2\" class=\"data row1 col2\" >2285.27</td>\n",
       "                        <td id=\"T_163bb9ac_ccfd_11ea_a143_02420a392b02row1_col3\" class=\"data row1 col3\" >47.80</td>\n",
       "            </tr>\n",
       "    </tbody></table>"
      ],
      "text/plain": [
       "<pandas.io.formats.style.Styler at 0x7ffabc443410>"
      ]
     },
     "execution_count": 385,
     "metadata": {},
     "output_type": "execute_result"
    }
   ],
   "source": [
    "agg_values_per_user.groupby('tariff')\\\n",
    "  .agg({'total_messages_month':['median','mean','var','std']})\\\n",
    "  .style.format(\"{:.2f}\")"
   ]
  },
  {
   "cell_type": "markdown",
   "metadata": {},
   "source": [
    "### 3.2 Анализ количества сообщений. Вывод.\n",
    "\n",
    "- оба распределения имеют общую форму с существенной скошенностью вправо. Тем не менее, учитывая невысокую востребованность данной услуги (в связи с развитием мессенджеров и т.п.) распеределения обоих тарифов близки к нормальному\n",
    "- \"Ультровцы\" и здесь \"впереди планеты всей\" - в среднем шлют значительно больше смс, чем их визави из тарифа \"Смарт\" (Среднее - 49.36 смс/мес. Медиана - 38.00 смс/мес. против Среднее - 33.38 смс/мес. Медиана - 28.00 смс/мес., соответственно). Но опять же - дисперсия у \"Ультровцев\" по прежнему значительно выше \"Смартовцев\" (2,285.27 против 796.81).\n",
    "\n",
    "- пользователи \"Ультры\" очень разные люди в плане использования смс. Кто то (большинство) вовсе ими не пользуется, а кто то использует их достаточно активно. Тем не менее - нет ни одного пользователя кто хотя бы когда-нибудь превысил лимит тарифа на смс-ки (1 000 смс/мес). Такой лимит более чем нравится абонентам тарифа, но с точки зрения Оператора стоило бы пересмотреть его в сторону понижения до уровня в районе 200 смс/мес (граница правого \"уса\")\n",
    "- пользователи \"Смарта\" значительно чаще превышают порог бесплатных смс (50 смс/мес). Около 35% абонентов оплачивали дополнительные смс-ки. Это плюс для Оператора, но может негативно повлиять на мнение абонента."
   ]
  },
  {
   "cell_type": "markdown",
   "metadata": {},
   "source": [
    "### 3.3 Анализ объема интернет-трафика."
   ]
  },
  {
   "cell_type": "markdown",
   "metadata": {},
   "source": [
    "#### Тариф \"Ультра\""
   ]
  },
  {
   "cell_type": "code",
   "execution_count": 386,
   "metadata": {},
   "outputs": [
    {
     "data": {
      "text/html": [
       "<div>\n",
       "<style scoped>\n",
       "    .dataframe tbody tr th:only-of-type {\n",
       "        vertical-align: middle;\n",
       "    }\n",
       "\n",
       "    .dataframe tbody tr th {\n",
       "        vertical-align: top;\n",
       "    }\n",
       "\n",
       "    .dataframe thead th {\n",
       "        text-align: right;\n",
       "    }\n",
       "</style>\n",
       "<table border=\"1\" class=\"dataframe\">\n",
       "  <thead>\n",
       "    <tr style=\"text-align: right;\">\n",
       "      <th></th>\n",
       "      <th>gb_used</th>\n",
       "    </tr>\n",
       "  </thead>\n",
       "  <tbody>\n",
       "    <tr>\n",
       "      <td>count</td>\n",
       "      <td>985.00</td>\n",
       "    </tr>\n",
       "    <tr>\n",
       "      <td>mean</td>\n",
       "      <td>19.03</td>\n",
       "    </tr>\n",
       "    <tr>\n",
       "      <td>std</td>\n",
       "      <td>9.86</td>\n",
       "    </tr>\n",
       "    <tr>\n",
       "      <td>min</td>\n",
       "      <td>0.00</td>\n",
       "    </tr>\n",
       "    <tr>\n",
       "      <td>25%</td>\n",
       "      <td>11.51</td>\n",
       "    </tr>\n",
       "    <tr>\n",
       "      <td>50%</td>\n",
       "      <td>18.87</td>\n",
       "    </tr>\n",
       "    <tr>\n",
       "      <td>75%</td>\n",
       "      <td>26.24</td>\n",
       "    </tr>\n",
       "    <tr>\n",
       "      <td>max</td>\n",
       "      <td>48.63</td>\n",
       "    </tr>\n",
       "  </tbody>\n",
       "</table>\n",
       "</div>"
      ],
      "text/plain": [
       "       gb_used\n",
       "count   985.00\n",
       "mean     19.03\n",
       "std       9.86\n",
       "min       0.00\n",
       "25%      11.51\n",
       "50%      18.87\n",
       "75%      26.24\n",
       "max      48.63"
      ]
     },
     "execution_count": 386,
     "metadata": {},
     "output_type": "execute_result"
    }
   ],
   "source": [
    "agg_values_per_user.query('tariff == \"ultra\"')[['gb_used']].describe()"
   ]
  },
  {
   "cell_type": "markdown",
   "metadata": {},
   "source": [
    "Среднее - 19.03 Гб/мес. Медиана - 18.87 Гб/мес."
   ]
  },
  {
   "cell_type": "code",
   "execution_count": 387,
   "metadata": {},
   "outputs": [
    {
     "name": "stdout",
     "output_type": "stream",
     "text": [
      "Дисперсия(\"Ультра\", объем интернет-трафика):  \n",
      "\n",
      " gb_used   97.23\n",
      "dtype: float64\n"
     ]
    }
   ],
   "source": [
    "# Оценим дисперсию\n",
    "print('Дисперсия(\"Ультра\", объем интернет-трафика): ', '\\n\\n',np.var(agg_values_per_user.query('tariff == \"ultra\"')[['gb_used']], ddof=1))"
   ]
  },
  {
   "cell_type": "code",
   "execution_count": 388,
   "metadata": {},
   "outputs": [
    {
     "data": {
      "image/png": "[encoded data removed]",
      "text/plain": [
       "<Figure size 648x432 with 1 Axes>"
      ]
     },
     "metadata": {
      "needs_background": "light"
     },
     "output_type": "display_data"
    }
   ],
   "source": [
    "#  Построим гистограмму\n",
    "plt.figure(figsize=(9, 6))\n",
    "with sns.axes_style('whitegrid'):\n",
    "    sns.distplot(agg_values_per_user.query('tariff == \"ultra\"')[['gb_used']], bins= 50, kde=True)\n",
    "    plt.xlabel('Объем интернет-трафика (Гб/мес)')\n",
    "    plt.ylabel('Число пользователей')\n",
    "    plt.title('Гистограмма распределения объема интернет-трафика по тарифу \"Ультра\"')"
   ]
  },
  {
   "cell_type": "markdown",
   "metadata": {},
   "source": [
    "#### Тариф \"Смарт\""
   ]
  },
  {
   "cell_type": "code",
   "execution_count": 389,
   "metadata": {},
   "outputs": [
    {
     "data": {
      "text/html": [
       "<div>\n",
       "<style scoped>\n",
       "    .dataframe tbody tr th:only-of-type {\n",
       "        vertical-align: middle;\n",
       "    }\n",
       "\n",
       "    .dataframe tbody tr th {\n",
       "        vertical-align: top;\n",
       "    }\n",
       "\n",
       "    .dataframe thead th {\n",
       "        text-align: right;\n",
       "    }\n",
       "</style>\n",
       "<table border=\"1\" class=\"dataframe\">\n",
       "  <thead>\n",
       "    <tr style=\"text-align: right;\">\n",
       "      <th></th>\n",
       "      <th>gb_used</th>\n",
       "    </tr>\n",
       "  </thead>\n",
       "  <tbody>\n",
       "    <tr>\n",
       "      <td>count</td>\n",
       "      <td>2,229.00</td>\n",
       "    </tr>\n",
       "    <tr>\n",
       "      <td>mean</td>\n",
       "      <td>15.86</td>\n",
       "    </tr>\n",
       "    <tr>\n",
       "      <td>std</td>\n",
       "      <td>5.74</td>\n",
       "    </tr>\n",
       "    <tr>\n",
       "      <td>min</td>\n",
       "      <td>0.00</td>\n",
       "    </tr>\n",
       "    <tr>\n",
       "      <td>25%</td>\n",
       "      <td>12.37</td>\n",
       "    </tr>\n",
       "    <tr>\n",
       "      <td>50%</td>\n",
       "      <td>16.15</td>\n",
       "    </tr>\n",
       "    <tr>\n",
       "      <td>75%</td>\n",
       "      <td>19.61</td>\n",
       "    </tr>\n",
       "    <tr>\n",
       "      <td>max</td>\n",
       "      <td>37.72</td>\n",
       "    </tr>\n",
       "  </tbody>\n",
       "</table>\n",
       "</div>"
      ],
      "text/plain": [
       "       gb_used\n",
       "count 2,229.00\n",
       "mean     15.86\n",
       "std       5.74\n",
       "min       0.00\n",
       "25%      12.37\n",
       "50%      16.15\n",
       "75%      19.61\n",
       "max      37.72"
      ]
     },
     "execution_count": 389,
     "metadata": {},
     "output_type": "execute_result"
    }
   ],
   "source": [
    "agg_values_per_user.query('tariff == \"smart\"')[['gb_used']].describe()"
   ]
  },
  {
   "cell_type": "markdown",
   "metadata": {},
   "source": [
    "Среднее - 15.86 Гб/мес. Медиана - 16.15 Гб/мес."
   ]
  },
  {
   "cell_type": "code",
   "execution_count": 390,
   "metadata": {},
   "outputs": [
    {
     "name": "stdout",
     "output_type": "stream",
     "text": [
      "Дисперсия(\"Смарт\", объем интернет-трафика):  \n",
      "\n",
      " gb_used   32.97\n",
      "dtype: float64\n"
     ]
    }
   ],
   "source": [
    "# Оценим дисперсию\n",
    "print('Дисперсия(\"Смарт\", объем интернет-трафика): ', '\\n\\n',np.var(agg_values_per_user.query('tariff == \"smart\"')[['gb_used']], ddof=1))"
   ]
  },
  {
   "cell_type": "code",
   "execution_count": 391,
   "metadata": {},
   "outputs": [
    {
     "data": {
      "image/png": "[encoded data removed]",
      "text/plain": [
       "<Figure size 648x432 with 1 Axes>"
      ]
     },
     "metadata": {
      "needs_background": "light"
     },
     "output_type": "display_data"
    }
   ],
   "source": [
    "#  Построим гистограмму\n",
    "plt.figure(figsize=(9, 6))\n",
    "with sns.axes_style('whitegrid'):\n",
    "    sns.distplot(agg_values_per_user.query('tariff == \"ultra\"')[['gb_used']], bins= 20, kde=True)\n",
    "    plt.xlabel('Объем интернет-трафика (Гб/мес)')\n",
    "    plt.ylabel('Число пользователей')\n",
    "    plt.title('Гистограмма распределения объема интернет-трафика по тарифу \"Смарт\"')"
   ]
  },
  {
   "cell_type": "code",
   "execution_count": 392,
   "metadata": {},
   "outputs": [
    {
     "data": {
      "text/plain": [
       "<matplotlib.axes._subplots.AxesSubplot at 0x7ffaa3252d10>"
      ]
     },
     "execution_count": 392,
     "metadata": {},
     "output_type": "execute_result"
    },
    {
     "data": {
      "image/png": "[encoded data removed]",
      "text/plain": [
       "<Figure size 432x288 with 1 Axes>"
      ]
     },
     "metadata": {
      "needs_background": "light"
     },
     "output_type": "display_data"
    }
   ],
   "source": [
    "sns.boxplot(x=\"tariff\", y=\"gb_used\", data = agg_values_per_user, palette='rainbow')"
   ]
  },
  {
   "cell_type": "code",
   "execution_count": 393,
   "metadata": {},
   "outputs": [
    {
     "data": {
      "text/html": [
       "<style  type=\"text/css\" >\n",
       "</style><table id=\"T_1748f922_ccfd_11ea_a143_02420a392b02\" ><thead>    <tr>        <th class=\"blank level0\" ></th>        <th class=\"col_heading level0 col0\" colspan=4>gb_used</th>    </tr>    <tr>        <th class=\"blank level1\" ></th>        <th class=\"col_heading level1 col0\" >median</th>        <th class=\"col_heading level1 col1\" >mean</th>        <th class=\"col_heading level1 col2\" >var</th>        <th class=\"col_heading level1 col3\" >std</th>    </tr>    <tr>        <th class=\"index_name level0\" >tariff</th>        <th class=\"blank\" ></th>        <th class=\"blank\" ></th>        <th class=\"blank\" ></th>        <th class=\"blank\" ></th>    </tr></thead><tbody>\n",
       "                <tr>\n",
       "                        <th id=\"T_1748f922_ccfd_11ea_a143_02420a392b02level0_row0\" class=\"row_heading level0 row0\" >smart</th>\n",
       "                        <td id=\"T_1748f922_ccfd_11ea_a143_02420a392b02row0_col0\" class=\"data row0 col0\" >16.15</td>\n",
       "                        <td id=\"T_1748f922_ccfd_11ea_a143_02420a392b02row0_col1\" class=\"data row0 col1\" >15.86</td>\n",
       "                        <td id=\"T_1748f922_ccfd_11ea_a143_02420a392b02row0_col2\" class=\"data row0 col2\" >32.97</td>\n",
       "                        <td id=\"T_1748f922_ccfd_11ea_a143_02420a392b02row0_col3\" class=\"data row0 col3\" >5.74</td>\n",
       "            </tr>\n",
       "            <tr>\n",
       "                        <th id=\"T_1748f922_ccfd_11ea_a143_02420a392b02level0_row1\" class=\"row_heading level0 row1\" >ultra</th>\n",
       "                        <td id=\"T_1748f922_ccfd_11ea_a143_02420a392b02row1_col0\" class=\"data row1 col0\" >18.87</td>\n",
       "                        <td id=\"T_1748f922_ccfd_11ea_a143_02420a392b02row1_col1\" class=\"data row1 col1\" >19.03</td>\n",
       "                        <td id=\"T_1748f922_ccfd_11ea_a143_02420a392b02row1_col2\" class=\"data row1 col2\" >97.23</td>\n",
       "                        <td id=\"T_1748f922_ccfd_11ea_a143_02420a392b02row1_col3\" class=\"data row1 col3\" >9.86</td>\n",
       "            </tr>\n",
       "    </tbody></table>"
      ],
      "text/plain": [
       "<pandas.io.formats.style.Styler at 0x7ffaa330ae10>"
      ]
     },
     "execution_count": 393,
     "metadata": {},
     "output_type": "execute_result"
    }
   ],
   "source": [
    "agg_values_per_user.groupby('tariff')\\\n",
    "  .agg({'gb_used':['median','mean','var','std']})\\\n",
    "  .style.format(\"{:.2f}\")"
   ]
  },
  {
   "cell_type": "markdown",
   "metadata": {},
   "source": [
    "### 3.3 Анализ объема интернет-трафика. Выводы.\n",
    "\n",
    "- распределения близки к нормальному у обоих тарифов\n",
    "- у обоих тарифов наблюдается очень незначительная разница между средним и медианой ( \"Ультра\" - 19.03 Гб/мес. и 18.87 Гб/мес., \"Смарт\" - 15.86 Гб/мес. и 16.15 Гб/мес.)\n",
    "- низкие показатели дисперсии в обоих тарифах\n",
    "- у тарифа \"Ультра\" все показатели распределения незначительно выше чем у тарифа \"Смарт\"\n",
    "\n",
    "- средние объемы потребления интернет-трафика пользователей обоих тарифов достаточно близки и находятся в диапазоне от 16 (\"Смарт\") до 19 (\"Ультра\") Гб в месяц\n",
    "\n",
    "- пользователи \"Ультры\", чаще всего, укладываются в лимит тарифа (30 Гб/мес), но около трети (точнее 29%) пользователей тарифа закупают дополнительные пакеты трафика\n",
    "\n",
    "- пользователи \"Смарта\" намного чаще приобретают дополнительные объемы трафика - большинству не хватает включенных в тариф 15 Гб\n"
   ]
  },
  {
   "cell_type": "markdown",
   "metadata": {},
   "source": [
    "## Шаг 4. Проверка гипотез.\n",
    "\n",
    "- средняя выручка пользователей тарифов «Ультра» и «Смарт» различается;\n",
    "- средняя выручка пользователей из Москвы отличается от выручки пользователей из других регионов;\n",
    "\n",
    "\n",
    "Для проверки вышеописанных гипотез нам необходимо проверить две \"двусторонних\" гипотезы относительно равенства средних двух генеральных совокупностей."
   ]
  },
  {
   "cell_type": "markdown",
   "metadata": {},
   "source": [
    "### 4.1 Гипотеза: \"Средняя выручка пользователей тарифов «Ультра» и «Смарт» различается\".\n",
    "\n",
    "`\"Нулевая\" гипотеза` - средние выручки пользователей тарифов «Ультра» и «Смарт» равны\n",
    "\n",
    "`Альтернативная гипотеза` - средние выручки пользователей тарифов «Ультра» и «Смарт» различаются"
   ]
  },
  {
   "cell_type": "code",
   "execution_count": 394,
   "metadata": {},
   "outputs": [
    {
     "name": "stdout",
     "output_type": "stream",
     "text": [
      "p-значение: [6.85747741e-149]\n",
      "Отвергаем нулевую гипотезу\n"
     ]
    }
   ],
   "source": [
    "# зададим стандартный уровень статистической значимости (5%)\n",
    "alpha = .05\n",
    "\n",
    "ultra_revenue_total = agg_values_per_user.query('tariff == \"ultra\"')[['total_revenue']]\n",
    "smart_revenue_total = agg_values_per_user.query('tariff == \"smart\"')[['total_revenue']]\n",
    "\n",
    "result = st.ttest_ind(smart_revenue_total, ultra_revenue_total)\n",
    "print('p-значение:', result.pvalue)\n",
    "\n",
    "if (result.pvalue < alpha):\n",
    "        print(\"Отвергаем нулевую гипотезу\")\n",
    "else:\n",
    "    print(\"Не получилось отвергнуть нулевую гипотезу\")"
   ]
  },
  {
   "cell_type": "markdown",
   "metadata": {},
   "source": [
    "### 4.1 Гипотеза: \"Средняя выручка пользователей тарифов «Ультра» и «Смарт» различается\". Выводы.\n",
    "\n",
    "\"Нулевая\" гипотеза, о том, что средние выручки пользователей тарифов «Ультра» и «Смарт» равны, отвергнута. Практически нулевая вероятность говорит о том, что случайно получить такое отличие в значениях практически невозможно. Средние выручки \"Ультры\" и \"Смарта\" отличаются."
   ]
  },
  {
   "cell_type": "markdown",
   "metadata": {},
   "source": [
    "### 4.2 Гипотеза: \"Средняя выручка пользователей из Москвы отличается от выручки пользователей из других регионов\".\n",
    "\n",
    "`\"Нулевая\" гипотеза` - средняя выручка пользователей из Москвы НЕ отличается от выручки пользователей из других регионов\n",
    "\n",
    "`Альтернативная гипотеза` - средняя выручка пользователей из Москвы отличается от выручки пользователей из других регионов"
   ]
  },
  {
   "cell_type": "code",
   "execution_count": 395,
   "metadata": {},
   "outputs": [
    {
     "name": "stdout",
     "output_type": "stream",
     "text": [
      "p-значение: [0.57886973]\n",
      "Не получилось отвергнуть нулевую гипотезу\n"
     ]
    }
   ],
   "source": [
    "# зададим стандартный уровень статистической значимости (5%)\n",
    "alpha = .05\n",
    "# создадим две выборки\n",
    "moscow = agg_values_per_user.query('city == \"Москва\"')[['total_revenue']]\n",
    "others = agg_values_per_user.query('city != \"Москва\"')[['total_revenue']]\n",
    "\n",
    "result = st.ttest_ind(moscow, others)\n",
    "print('p-значение:', result.pvalue)\n",
    "\n",
    "if (result.pvalue < alpha):\n",
    "        print(\"Отвергаем нулевую гипотезу\")\n",
    "else:\n",
    "    print(\"Не получилось отвергнуть нулевую гипотезу\")"
   ]
  },
  {
   "cell_type": "markdown",
   "metadata": {},
   "source": [
    "### 4.2 Гипотеза: \"Средняя выручка пользователей из Москвы отличается от выручки пользователей из других регионов\". Вывод.\n",
    "\n",
    "- \"нулевую\" гипотезу \"средняя выручка пользователей из Москвы НЕ отличается от выручки пользователей из других регионов\" не получилось отвергнуть в связи с высоким значением `pvalue`(0.52). Средняя выручка пользователей из Москвы <span style=\"color:purple\"> НЕ </span> отличается от выручки пользователей из других регионов."
   ]
  },
  {
   "cell_type": "markdown",
   "metadata": {},
   "source": [
    "##  Шаг 5. Общий вывод.\n",
    "\n",
    "Цель исследовательского проекта - проанализировать выборку по абонентам Опертора, тарифов \"Ультра\" и \"Смарт\" и дать рекомендации коммерческому департаменту относительно тарифа с наилучшими перспективами по выручке\n",
    "\n",
    "### Вводные данные\n",
    "\n",
    "- выборка представляет собой данные по 500 абонентам Оператора за 2018 год\n",
    "- контракты 92% абонентов были активны на момент 31.12.2018\n",
    "- выборка отражает данные по 76 городам России , 202 697 звонкам, 149 396 интернет-соединениям, 123 036 смс\n",
    "\n",
    "### Анализ абонентов\n",
    "\n",
    "#### Анализ длительности разговоров\n",
    "\n",
    "- в принципе, оба распределения длительности разговоров для тарифов близки к нормальному, но в тарифе \"Смарт\" распределение, все таки, более классическое. Возможно это объясняется относительно малым количеством пользователей тарифа \"Ультра\" в нашей и без того достаточно малой по объему выборке\n",
    "- у пользователей \"Ультры\" более высокие значения как средней продолжительности разговора так и медианы , в сравнении с пользователями \"Смарта\" (540.78 мин/мес и 532 мин/мес против 429.45 мин/мес и 435.00 мин/мес, соответственно). Но также обращает на себя внимание и то, что дисперсия у \"Ультры\" значительно выше чем у \"Смарта\" (106,105.73 против 37,974.77)\n",
    "\n",
    "- пользователям \"Смарта\", в среднем, в месяц достаточно около 450 минут. Таким образом, практически идеально используется объем включенных в тариф минут разговора (500 мин/мес). Но значительная часть абонентов не укладываются в лимит и приобретают дополнительные минуты.\n",
    "\n",
    "- пользователи \"Ультры\", в среднем, тратят минут немногим больше - около 550 и еще имеют огромный запас в виде дополнительных бесплатных 2 550 минут. Лишь единицы разговаривают более 1500 минут  Оператор достоин похвалы...Но стоит ли быть настолько щедрым?\n",
    "\n",
    "#### Анализ количества сообщений\n",
    "\n",
    "- оба распределения имеют общую форму с существенной скошенностью вправо. Тем не менее, учитывая невысокую востребованность данной услуги (в связи с развитием мессенджеров и т.п.) распеределения обоих тарифов близки к нормальному\n",
    "- пользователи тарифа \"Ультра\", в среднем, шлют значительно больше смс, чем их визави из тарифа \"Смарт\" (Среднее - 49.36 смс/мес. Медиана - 38.00 смс/мес. против Среднее - 33.38 смс/мес. Медиана - 28.00 смс/мес., соответственно). Но, дисперсия у пользователей тарифа \"Ультра\" по прежнему значительно выше (2,285.27 против 796.81 у пользователей тарифа \"Смарт\")\n",
    "\n",
    "- пользователи \"Ультры\" очень разные люди в плане использования смс. Кто то (большинство) вовсе ими не пользуется, а кто то использует их достаточно активно. Тем не менее - нет ни одного пользователя кто хотя бы когда-нибудь превысил лимит тарифа на смс-ки (1 000 смс/мес). Такой лимит более чем нравится абонентам тарифа, но с точки зрения Оператора стоило бы пересмотреть его в сторону понижения до уровня в районе 200 смс/мес (граница правого \"уса\")\n",
    "\n",
    "- пользователи \"Смарта\" значительно чаще превышают порог бесплатных смс (50 смс/мес). Около 35% абонентов оплачивали дополнительные смс-ки. Это плюс для Оператора, но может негативно повлиять на мнение абонента.\n",
    "\n",
    "#### Анализ объема интернет-трафика\n",
    "\n",
    "- по сравнению с выше рассмотренными показателями (продолжительность разговора, количество SMS), поведение пользователей разных тарифов по потреблению интернет-трафика слабо отличается друг друга\n",
    "- распределения близки к нормальному у обоих тарифов\n",
    "- у обоих тарифов наблюдается очень незначительная разница между средним и медианой ( \"Ультра\" - 19.03 Гб/мес. и 18.87 Гб/мес., \"Смарт\" - 15.86 Гб/мес. и 16.15 Гб/мес.)\n",
    "- низкие показатели дисперсии в обоих тарифах\n",
    "- у тарифа \"Ультра\" все показатели распределения незначительно выше чем у тарифа \"Смарт\"\n",
    "\n",
    "- средние объемы потребления интернет-трафика пользователей обоих тарифов достаточно близки и находятся в диапазоне от 16 (\"Смарт\") до 19 (\"Ультра\") Гб в месяц\n",
    "\n",
    "- пользователи \"Ультры\", чаще всего, укладываются в лимит тарифа (30 Гб/мес), но около трети (точнее 29%) пользователей тарифа закупают дополнительные пакеты трафика\n",
    "\n",
    "- пользователи \"Смарта\" намного чаще приобретают дополнительные объемы трафика - большинству не хватает включенных в тариф 15 Гб\n",
    "\n",
    "### Проверка гипотез\n",
    "\n",
    "#### Результаты проверки гипотезы: \"Средняя выручка пользователей тарифов «Ультра» и «Смарт» различается\"\n",
    "\n",
    "- \"нулевая\" гипотеза, о том, что средние выручки пользователей тарифов «Ультра» и «Смарт» равны, отвергнута. Практически нулевая вероятность говорит о том, что случайно получить такое отличие в значениях практически невозможно. Средние выручки \"Ультры\" и \"Смарта\" отличаются.\n",
    "\n",
    "#### Результаты проверки гипотезы: \"Средняя выручка пользователей из Москвы отличается от выручки пользователей из других регионов\"\n",
    "\n",
    "- \"нулевую\" гипотезу \"средняя выручка пользователей из Москвы НЕ отличается от выручки пользователей из других регионов\" не получилось отвергнуть в связи с высоким значением `pvalue`(0.52). Средняя выручка пользователей из Москвы не отличается от выручки пользователей из других регионов.\n",
    "\n",
    "### Рекомендации бизнесу по результатам исследования\n",
    "\n",
    "- на основании результатов статистического исследования предоставленной выборки можно предположить, что среднее выручки по тарифу \"Смарт\" ниже, чем по тарифу \"Ультра\". При условии, что доля пользователей тарифа \"Ультра\" в районе 30%, их вклад в выручку составил около 40%. Таким образом, целесообразно рассмотреть возможность увеличения рекламного бюджета для тарифа \"Ультра\";\n",
    "- учитывая, что практически никто из  пользователей тарифа \"Ультра\" не использовал полностью включенный в тариф объем телефонных звонков (3000 мин/мес) - имеет смысл либо пересмотреть условия тарифа, либо провести дифференциацию тарифа (например, разбить на два: \"Ультра Gold\" и \"Ультра Platinum\")\n",
    "- в связи с тем, что нами не было обнаружено значимых доказательств того, что средние выручки в Москве и других регионах значимо отличаются - стоит порекомендовать рекламному отделу Оператора сконцентрировать свои усилия на привлечении абонентов из других регионов, так как стоимость коммуникации с \"лидами\" в регионах чаще всего значительно ниже.\n",
    "\n",
    "#### Благодарю за внимание.\n"
   ]
  }
 ],
 "metadata": {
  "kernelspec": {
   "display_name": "Python 3",
   "language": "python",
   "name": "python3"
  },
  "language_info": {
   "codemirror_mode": {
    "name": "ipython",
    "version": 3
   },
   "file_extension": ".py",
   "mimetype": "text/x-python",
   "name": "python",
   "nbconvert_exporter": "python",
   "pygments_lexer": "ipython3",
   "version": "3.7.0"
  },
  "toc": {
   "base_numbering": 1,
   "nav_menu": {},
   "number_sections": true,
   "sideBar": true,
   "skip_h1_title": true,
   "title_cell": "Table of Contents",
   "title_sidebar": "Contents",
   "toc_cell": false,
   "toc_position": {},
   "toc_section_display": true,
   "toc_window_display": false
  }
 },
 "nbformat": 4,
 "nbformat_minor": 2
}
