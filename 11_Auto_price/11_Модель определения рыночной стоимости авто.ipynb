{
 "cells": [
  {
   "cell_type": "markdown",
   "metadata": {},
   "source": [
    "# Описание проекта\n",
    "\n",
    "Сервис по продаже автомобилей с пробегом разрабатывает приложение для привлечения новых клиентов. В нём можно быстро узнать рыночную стоимость своего автомобиля. В наличии исторические данные: технические характеристики, комплектации и цены автомобилей. Задача - построить модель для определения стоимости. \n",
    "\n",
    "Заказчику важны:\n",
    "\n",
    "- качество предсказания;\n",
    "- скорость предсказания;\n",
    "- время обучения.\n",
    "\n",
    "### Инструкция по выполнению проекта\n",
    "\n",
    "Чтобы усилить исследование, не ограничивайтесь градиентным бустингом. Попробуйте более простые модели — иногда они работают лучше. Это редкие случаи, которые легко пропустить, если всегда применять только бустинг. Поэкспериментируйте и сравните характеристики моделей: скорость работы, точность результата.\n",
    "\n",
    "* \t\tЗагрузите и подготовьте данные.\n",
    "* \t\tОбучите разные модели. Для каждой попробуйте различные гипепараметеры.\n",
    "* \t\tПроанализируйте скорость работы и качество моделей.\n",
    "\n",
    "#### Примечания:\n",
    "\n",
    "* \t\tДля оценки качества моделей применяйте метрику RMSE.\n",
    "* \t\tСамостоятельно освойте библиотеку LightGBM и её средствами постройте модели градиентного бустинга.\n",
    "* \t\tВремя выполнения ячейки кода Jupyter Notebook можно получить специальной командой. Найдите её.\n",
    "* \t\tПоскольку модель градиентного бустинга может обучаться долго, измените у неё только два-три параметра.\n",
    "* \t\tЕсли перестанет работать Jupyter Notebook, удалите лишние переменные оператором del: ",
    " ",
    "del features_train \n",
    "\n",
    "### Описание данных\n",
    "\n",
    "Данные находятся в файле /datasets/autos.csv\n",
    "\n",
    "#### Признаки\n",
    "\n",
    "* \t\tDateCrawled — дата скачивания анкеты из базы\n",
    "* \t\tVehicleType — тип автомобильного кузова\n",
    "* \t\tRegistrationYear — год регистрации автомобиля\n",
    "* \t\tGearbox — тип коробки передач\n",
    "* \t\tPower — мощность (л. с.)\n",
    "* \t\tModel — модель автомобиля\n",
    "* \t\tKilometer — пробег (км)\n",
    "* \t\tRegistrationMonth — месяц регистрации автомобиля\n",
    "* \t\tFuelType — тип топлива\n",
    "* \t\tBrand — марка автомобиля\n",
    "* \t\tNotRepaired — была машина в ремонте или нет\n",
    "* \t\tDateCreated — дата создания анкеты\n",
    "* \t\tNumberOfPictures — количество фотографий автомобиля\n",
    "* \t\tPostalCode — почтовый индекс владельца анкеты (пользователя)\n",
    "* \t\tLastSeen — дата последней активности пользователя\n",
    "\n",
    "#### Целевой признак\n",
    "\n",
    "Price — цена (евро)\n"
   ]
  },
  {
   "cell_type": "markdown",
   "metadata": {},
   "source": [
    "# 1. Подготовка данных"
   ]
  },
  {
   "cell_type": "code",
   "execution_count": 1,
   "metadata": {},
   "outputs": [],
   "source": [
    "# Импортируем необходимые библитеки и методы\n",
    "import numpy as np\n",
    "import pandas as pd\n",
    "import matplotlib.pyplot as plt\n",
    "import seaborn as sns\n",
    "import warnings\n",
    "warnings.filterwarnings('ignore')\n",
    "\n",
    "from scipy import stats as st\n",
    "from matplotlib.pyplot import show\n",
    "from sklearn import preprocessing\n",
    "from sklearn.preprocessing import StandardScaler\n",
    "from sklearn.model_selection import train_test_split\n",
    "from catboost import CatBoostRegressor\n",
    "from sklearn.metrics import mean_squared_error\n",
    "from math import sqrt\n",
    "from lightgbm import LGBMRegressor\n",
    "from sklearn.linear_model import LinearRegression"
   ]
  },
  {
   "cell_type": "code",
   "execution_count": 2,
   "metadata": {},
   "outputs": [
    {
     "name": "stdout",
     "output_type": "stream",
     "text": [
      "INFO\n",
      "<class 'pandas.core.frame.DataFrame'>\n",
      "RangeIndex: 354369 entries, 0 to 354368\n",
      "Data columns (total 16 columns):\n",
      "DateCrawled          354369 non-null object\n",
      "Price                354369 non-null int64\n",
      "VehicleType          316879 non-null object\n",
      "RegistrationYear     354369 non-null int64\n",
      "Gearbox              334536 non-null object\n",
      "Power                354369 non-null int64\n",
      "Model                334664 non-null object\n",
      "Kilometer            354369 non-null int64\n",
      "RegistrationMonth    354369 non-null int64\n",
      "FuelType             321474 non-null object\n",
      "Brand                354369 non-null object\n",
      "NotRepaired          283215 non-null object\n",
      "DateCreated          354369 non-null object\n",
      "NumberOfPictures     354369 non-null int64\n",
      "PostalCode           354369 non-null int64\n",
      "LastSeen             354369 non-null object\n",
      "dtypes: int64(7), object(9)\n",
      "memory usage: 43.3+ MB\n"
     ]
    },
    {
     "data": {
      "text/plain": [
       "None"
      ]
     },
     "metadata": {},
     "output_type": "display_data"
    },
    {
     "name": "stdout",
     "output_type": "stream",
     "text": [
      "HEAD 10\n"
     ]
    },
    {
     "data": {
      "text/html": [
       "<div>\n",
       "<style scoped>\n",
       "    .dataframe tbody tr th:only-of-type {\n",
       "        vertical-align: middle;\n",
       "    }\n",
       "\n",
       "    .dataframe tbody tr th {\n",
       "        vertical-align: top;\n",
       "    }\n",
       "\n",
       "    .dataframe thead th {\n",
       "        text-align: right;\n",
       "    }\n",
       "</style>\n",
       "<table border=\"1\" class=\"dataframe\">\n",
       "  <thead>\n",
       "    <tr style=\"text-align: right;\">\n",
       "      <th></th>\n",
       "      <th>DateCrawled</th>\n",
       "      <th>Price</th>\n",
       "      <th>VehicleType</th>\n",
       "      <th>RegistrationYear</th>\n",
       "      <th>Gearbox</th>\n",
       "      <th>Power</th>\n",
       "      <th>Model</th>\n",
       "      <th>Kilometer</th>\n",
       "      <th>RegistrationMonth</th>\n",
       "      <th>FuelType</th>\n",
       "      <th>Brand</th>\n",
       "      <th>NotRepaired</th>\n",
       "      <th>DateCreated</th>\n",
       "      <th>NumberOfPictures</th>\n",
       "      <th>PostalCode</th>\n",
       "      <th>LastSeen</th>\n",
       "    </tr>\n",
       "  </thead>\n",
       "  <tbody>\n",
       "    <tr>\n",
       "      <td>0</td>\n",
       "      <td>2016-03-24 11:52:17</td>\n",
       "      <td>480</td>\n",
       "      <td>NaN</td>\n",
       "      <td>1993</td>\n",
       "      <td>manual</td>\n",
       "      <td>0</td>\n",
       "      <td>golf</td>\n",
       "      <td>150000</td>\n",
       "      <td>0</td>\n",
       "      <td>petrol</td>\n",
       "      <td>volkswagen</td>\n",
       "      <td>NaN</td>\n",
       "      <td>2016-03-24 00:00:00</td>\n",
       "      <td>0</td>\n",
       "      <td>70435</td>\n",
       "      <td>2016-04-07 03:16:57</td>\n",
       "    </tr>\n",
       "    <tr>\n",
       "      <td>1</td>\n",
       "      <td>2016-03-24 10:58:45</td>\n",
       "      <td>18300</td>\n",
       "      <td>coupe</td>\n",
       "      <td>2011</td>\n",
       "      <td>manual</td>\n",
       "      <td>190</td>\n",
       "      <td>NaN</td>\n",
       "      <td>125000</td>\n",
       "      <td>5</td>\n",
       "      <td>gasoline</td>\n",
       "      <td>audi</td>\n",
       "      <td>yes</td>\n",
       "      <td>2016-03-24 00:00:00</td>\n",
       "      <td>0</td>\n",
       "      <td>66954</td>\n",
       "      <td>2016-04-07 01:46:50</td>\n",
       "    </tr>\n",
       "    <tr>\n",
       "      <td>2</td>\n",
       "      <td>2016-03-14 12:52:21</td>\n",
       "      <td>9800</td>\n",
       "      <td>suv</td>\n",
       "      <td>2004</td>\n",
       "      <td>auto</td>\n",
       "      <td>163</td>\n",
       "      <td>grand</td>\n",
       "      <td>125000</td>\n",
       "      <td>8</td>\n",
       "      <td>gasoline</td>\n",
       "      <td>jeep</td>\n",
       "      <td>NaN</td>\n",
       "      <td>2016-03-14 00:00:00</td>\n",
       "      <td>0</td>\n",
       "      <td>90480</td>\n",
       "      <td>2016-04-05 12:47:46</td>\n",
       "    </tr>\n",
       "    <tr>\n",
       "      <td>3</td>\n",
       "      <td>2016-03-17 16:54:04</td>\n",
       "      <td>1500</td>\n",
       "      <td>small</td>\n",
       "      <td>2001</td>\n",
       "      <td>manual</td>\n",
       "      <td>75</td>\n",
       "      <td>golf</td>\n",
       "      <td>150000</td>\n",
       "      <td>6</td>\n",
       "      <td>petrol</td>\n",
       "      <td>volkswagen</td>\n",
       "      <td>no</td>\n",
       "      <td>2016-03-17 00:00:00</td>\n",
       "      <td>0</td>\n",
       "      <td>91074</td>\n",
       "      <td>2016-03-17 17:40:17</td>\n",
       "    </tr>\n",
       "    <tr>\n",
       "      <td>4</td>\n",
       "      <td>2016-03-31 17:25:20</td>\n",
       "      <td>3600</td>\n",
       "      <td>small</td>\n",
       "      <td>2008</td>\n",
       "      <td>manual</td>\n",
       "      <td>69</td>\n",
       "      <td>fabia</td>\n",
       "      <td>90000</td>\n",
       "      <td>7</td>\n",
       "      <td>gasoline</td>\n",
       "      <td>skoda</td>\n",
       "      <td>no</td>\n",
       "      <td>2016-03-31 00:00:00</td>\n",
       "      <td>0</td>\n",
       "      <td>60437</td>\n",
       "      <td>2016-04-06 10:17:21</td>\n",
       "    </tr>\n",
       "    <tr>\n",
       "      <td>5</td>\n",
       "      <td>2016-04-04 17:36:23</td>\n",
       "      <td>650</td>\n",
       "      <td>sedan</td>\n",
       "      <td>1995</td>\n",
       "      <td>manual</td>\n",
       "      <td>102</td>\n",
       "      <td>3er</td>\n",
       "      <td>150000</td>\n",
       "      <td>10</td>\n",
       "      <td>petrol</td>\n",
       "      <td>bmw</td>\n",
       "      <td>yes</td>\n",
       "      <td>2016-04-04 00:00:00</td>\n",
       "      <td>0</td>\n",
       "      <td>33775</td>\n",
       "      <td>2016-04-06 19:17:07</td>\n",
       "    </tr>\n",
       "    <tr>\n",
       "      <td>6</td>\n",
       "      <td>2016-04-01 20:48:51</td>\n",
       "      <td>2200</td>\n",
       "      <td>convertible</td>\n",
       "      <td>2004</td>\n",
       "      <td>manual</td>\n",
       "      <td>109</td>\n",
       "      <td>2_reihe</td>\n",
       "      <td>150000</td>\n",
       "      <td>8</td>\n",
       "      <td>petrol</td>\n",
       "      <td>peugeot</td>\n",
       "      <td>no</td>\n",
       "      <td>2016-04-01 00:00:00</td>\n",
       "      <td>0</td>\n",
       "      <td>67112</td>\n",
       "      <td>2016-04-05 18:18:39</td>\n",
       "    </tr>\n",
       "    <tr>\n",
       "      <td>7</td>\n",
       "      <td>2016-03-21 18:54:38</td>\n",
       "      <td>0</td>\n",
       "      <td>sedan</td>\n",
       "      <td>1980</td>\n",
       "      <td>manual</td>\n",
       "      <td>50</td>\n",
       "      <td>other</td>\n",
       "      <td>40000</td>\n",
       "      <td>7</td>\n",
       "      <td>petrol</td>\n",
       "      <td>volkswagen</td>\n",
       "      <td>no</td>\n",
       "      <td>2016-03-21 00:00:00</td>\n",
       "      <td>0</td>\n",
       "      <td>19348</td>\n",
       "      <td>2016-03-25 16:47:58</td>\n",
       "    </tr>\n",
       "    <tr>\n",
       "      <td>8</td>\n",
       "      <td>2016-04-04 23:42:13</td>\n",
       "      <td>14500</td>\n",
       "      <td>bus</td>\n",
       "      <td>2014</td>\n",
       "      <td>manual</td>\n",
       "      <td>125</td>\n",
       "      <td>c_max</td>\n",
       "      <td>30000</td>\n",
       "      <td>8</td>\n",
       "      <td>petrol</td>\n",
       "      <td>ford</td>\n",
       "      <td>NaN</td>\n",
       "      <td>2016-04-04 00:00:00</td>\n",
       "      <td>0</td>\n",
       "      <td>94505</td>\n",
       "      <td>2016-04-04 23:42:13</td>\n",
       "    </tr>\n",
       "    <tr>\n",
       "      <td>9</td>\n",
       "      <td>2016-03-17 10:53:50</td>\n",
       "      <td>999</td>\n",
       "      <td>small</td>\n",
       "      <td>1998</td>\n",
       "      <td>manual</td>\n",
       "      <td>101</td>\n",
       "      <td>golf</td>\n",
       "      <td>150000</td>\n",
       "      <td>0</td>\n",
       "      <td>NaN</td>\n",
       "      <td>volkswagen</td>\n",
       "      <td>NaN</td>\n",
       "      <td>2016-03-17 00:00:00</td>\n",
       "      <td>0</td>\n",
       "      <td>27472</td>\n",
       "      <td>2016-03-31 17:17:06</td>\n",
       "    </tr>\n",
       "  </tbody>\n",
       "</table>\n",
       "</div>"
      ],
      "text/plain": [
       "           DateCrawled  Price  VehicleType  RegistrationYear Gearbox  Power  \\\n",
       "0  2016-03-24 11:52:17    480          NaN              1993  manual      0   \n",
       "1  2016-03-24 10:58:45  18300        coupe              2011  manual    190   \n",
       "2  2016-03-14 12:52:21   9800          suv              2004    auto    163   \n",
       "3  2016-03-17 16:54:04   1500        small              2001  manual     75   \n",
       "4  2016-03-31 17:25:20   3600        small              2008  manual     69   \n",
       "5  2016-04-04 17:36:23    650        sedan              1995  manual    102   \n",
       "6  2016-04-01 20:48:51   2200  convertible              2004  manual    109   \n",
       "7  2016-03-21 18:54:38      0        sedan              1980  manual     50   \n",
       "8  2016-04-04 23:42:13  14500          bus              2014  manual    125   \n",
       "9  2016-03-17 10:53:50    999        small              1998  manual    101   \n",
       "\n",
       "     Model  Kilometer  RegistrationMonth  FuelType       Brand NotRepaired  \\\n",
       "0     golf     150000                  0    petrol  volkswagen         NaN   \n",
       "1      NaN     125000                  5  gasoline        audi         yes   \n",
       "2    grand     125000                  8  gasoline        jeep         NaN   \n",
       "3     golf     150000                  6    petrol  volkswagen          no   \n",
       "4    fabia      90000                  7  gasoline       skoda          no   \n",
       "5      3er     150000                 10    petrol         bmw         yes   \n",
       "6  2_reihe     150000                  8    petrol     peugeot          no   \n",
       "7    other      40000                  7    petrol  volkswagen          no   \n",
       "8    c_max      30000                  8    petrol        ford         NaN   \n",
       "9     golf     150000                  0       NaN  volkswagen         NaN   \n",
       "\n",
       "           DateCreated  NumberOfPictures  PostalCode             LastSeen  \n",
       "0  2016-03-24 00:00:00                 0       70435  2016-04-07 03:16:57  \n",
       "1  2016-03-24 00:00:00                 0       66954  2016-04-07 01:46:50  \n",
       "2  2016-03-14 00:00:00                 0       90480  2016-04-05 12:47:46  \n",
       "3  2016-03-17 00:00:00                 0       91074  2016-03-17 17:40:17  \n",
       "4  2016-03-31 00:00:00                 0       60437  2016-04-06 10:17:21  \n",
       "5  2016-04-04 00:00:00                 0       33775  2016-04-06 19:17:07  \n",
       "6  2016-04-01 00:00:00                 0       67112  2016-04-05 18:18:39  \n",
       "7  2016-03-21 00:00:00                 0       19348  2016-03-25 16:47:58  \n",
       "8  2016-04-04 00:00:00                 0       94505  2016-04-04 23:42:13  \n",
       "9  2016-03-17 00:00:00                 0       27472  2016-03-31 17:17:06  "
      ]
     },
     "metadata": {},
     "output_type": "display_data"
    }
   ],
   "source": [
    "# Читаем исходный файл\n",
    "data = pd.read_csv('/datasets/autos.csv')\n",
    "\n",
    "# Смотрим общую информацию\n",
    "print('INFO')\n",
    "display(data.info())\n",
    "print('HEAD 10')\n",
    "display(data.head(10))"
   ]
  },
  {
   "cell_type": "markdown",
   "metadata": {},
   "source": [
    "В исходном датасете присутствуют признаки объективно никак не влияющие на стоимость авто, а именно: `DateCrawled`, `DateCreated`, `NumberOfPictures`, `LastSeen`. Избавимся от них."
   ]
  },
  {
   "cell_type": "code",
   "execution_count": 3,
   "metadata": {},
   "outputs": [
    {
     "data": {
      "text/html": [
       "<div>\n",
       "<style scoped>\n",
       "    .dataframe tbody tr th:only-of-type {\n",
       "        vertical-align: middle;\n",
       "    }\n",
       "\n",
       "    .dataframe tbody tr th {\n",
       "        vertical-align: top;\n",
       "    }\n",
       "\n",
       "    .dataframe thead th {\n",
       "        text-align: right;\n",
       "    }\n",
       "</style>\n",
       "<table border=\"1\" class=\"dataframe\">\n",
       "  <thead>\n",
       "    <tr style=\"text-align: right;\">\n",
       "      <th></th>\n",
       "      <th>Price</th>\n",
       "      <th>VehicleType</th>\n",
       "      <th>RegistrationYear</th>\n",
       "      <th>Gearbox</th>\n",
       "      <th>Power</th>\n",
       "      <th>Model</th>\n",
       "      <th>Kilometer</th>\n",
       "      <th>RegistrationMonth</th>\n",
       "      <th>FuelType</th>\n",
       "      <th>Brand</th>\n",
       "      <th>NotRepaired</th>\n",
       "      <th>PostalCode</th>\n",
       "    </tr>\n",
       "  </thead>\n",
       "  <tbody>\n",
       "    <tr>\n",
       "      <td>0</td>\n",
       "      <td>480</td>\n",
       "      <td>NaN</td>\n",
       "      <td>1993</td>\n",
       "      <td>manual</td>\n",
       "      <td>0</td>\n",
       "      <td>golf</td>\n",
       "      <td>150000</td>\n",
       "      <td>0</td>\n",
       "      <td>petrol</td>\n",
       "      <td>volkswagen</td>\n",
       "      <td>NaN</td>\n",
       "      <td>70435</td>\n",
       "    </tr>\n",
       "    <tr>\n",
       "      <td>1</td>\n",
       "      <td>18300</td>\n",
       "      <td>coupe</td>\n",
       "      <td>2011</td>\n",
       "      <td>manual</td>\n",
       "      <td>190</td>\n",
       "      <td>NaN</td>\n",
       "      <td>125000</td>\n",
       "      <td>5</td>\n",
       "      <td>gasoline</td>\n",
       "      <td>audi</td>\n",
       "      <td>yes</td>\n",
       "      <td>66954</td>\n",
       "    </tr>\n",
       "    <tr>\n",
       "      <td>2</td>\n",
       "      <td>9800</td>\n",
       "      <td>suv</td>\n",
       "      <td>2004</td>\n",
       "      <td>auto</td>\n",
       "      <td>163</td>\n",
       "      <td>grand</td>\n",
       "      <td>125000</td>\n",
       "      <td>8</td>\n",
       "      <td>gasoline</td>\n",
       "      <td>jeep</td>\n",
       "      <td>NaN</td>\n",
       "      <td>90480</td>\n",
       "    </tr>\n",
       "    <tr>\n",
       "      <td>3</td>\n",
       "      <td>1500</td>\n",
       "      <td>small</td>\n",
       "      <td>2001</td>\n",
       "      <td>manual</td>\n",
       "      <td>75</td>\n",
       "      <td>golf</td>\n",
       "      <td>150000</td>\n",
       "      <td>6</td>\n",
       "      <td>petrol</td>\n",
       "      <td>volkswagen</td>\n",
       "      <td>no</td>\n",
       "      <td>91074</td>\n",
       "    </tr>\n",
       "    <tr>\n",
       "      <td>4</td>\n",
       "      <td>3600</td>\n",
       "      <td>small</td>\n",
       "      <td>2008</td>\n",
       "      <td>manual</td>\n",
       "      <td>69</td>\n",
       "      <td>fabia</td>\n",
       "      <td>90000</td>\n",
       "      <td>7</td>\n",
       "      <td>gasoline</td>\n",
       "      <td>skoda</td>\n",
       "      <td>no</td>\n",
       "      <td>60437</td>\n",
       "    </tr>\n",
       "    <tr>\n",
       "      <td>5</td>\n",
       "      <td>650</td>\n",
       "      <td>sedan</td>\n",
       "      <td>1995</td>\n",
       "      <td>manual</td>\n",
       "      <td>102</td>\n",
       "      <td>3er</td>\n",
       "      <td>150000</td>\n",
       "      <td>10</td>\n",
       "      <td>petrol</td>\n",
       "      <td>bmw</td>\n",
       "      <td>yes</td>\n",
       "      <td>33775</td>\n",
       "    </tr>\n",
       "    <tr>\n",
       "      <td>6</td>\n",
       "      <td>2200</td>\n",
       "      <td>convertible</td>\n",
       "      <td>2004</td>\n",
       "      <td>manual</td>\n",
       "      <td>109</td>\n",
       "      <td>2_reihe</td>\n",
       "      <td>150000</td>\n",
       "      <td>8</td>\n",
       "      <td>petrol</td>\n",
       "      <td>peugeot</td>\n",
       "      <td>no</td>\n",
       "      <td>67112</td>\n",
       "    </tr>\n",
       "    <tr>\n",
       "      <td>7</td>\n",
       "      <td>0</td>\n",
       "      <td>sedan</td>\n",
       "      <td>1980</td>\n",
       "      <td>manual</td>\n",
       "      <td>50</td>\n",
       "      <td>other</td>\n",
       "      <td>40000</td>\n",
       "      <td>7</td>\n",
       "      <td>petrol</td>\n",
       "      <td>volkswagen</td>\n",
       "      <td>no</td>\n",
       "      <td>19348</td>\n",
       "    </tr>\n",
       "    <tr>\n",
       "      <td>8</td>\n",
       "      <td>14500</td>\n",
       "      <td>bus</td>\n",
       "      <td>2014</td>\n",
       "      <td>manual</td>\n",
       "      <td>125</td>\n",
       "      <td>c_max</td>\n",
       "      <td>30000</td>\n",
       "      <td>8</td>\n",
       "      <td>petrol</td>\n",
       "      <td>ford</td>\n",
       "      <td>NaN</td>\n",
       "      <td>94505</td>\n",
       "    </tr>\n",
       "    <tr>\n",
       "      <td>9</td>\n",
       "      <td>999</td>\n",
       "      <td>small</td>\n",
       "      <td>1998</td>\n",
       "      <td>manual</td>\n",
       "      <td>101</td>\n",
       "      <td>golf</td>\n",
       "      <td>150000</td>\n",
       "      <td>0</td>\n",
       "      <td>NaN</td>\n",
       "      <td>volkswagen</td>\n",
       "      <td>NaN</td>\n",
       "      <td>27472</td>\n",
       "    </tr>\n",
       "  </tbody>\n",
       "</table>\n",
       "</div>"
      ],
      "text/plain": [
       "   Price  VehicleType  RegistrationYear Gearbox  Power    Model  Kilometer  \\\n",
       "0    480          NaN              1993  manual      0     golf     150000   \n",
       "1  18300        coupe              2011  manual    190      NaN     125000   \n",
       "2   9800          suv              2004    auto    163    grand     125000   \n",
       "3   1500        small              2001  manual     75     golf     150000   \n",
       "4   3600        small              2008  manual     69    fabia      90000   \n",
       "5    650        sedan              1995  manual    102      3er     150000   \n",
       "6   2200  convertible              2004  manual    109  2_reihe     150000   \n",
       "7      0        sedan              1980  manual     50    other      40000   \n",
       "8  14500          bus              2014  manual    125    c_max      30000   \n",
       "9    999        small              1998  manual    101     golf     150000   \n",
       "\n",
       "   RegistrationMonth  FuelType       Brand NotRepaired  PostalCode  \n",
       "0                  0    petrol  volkswagen         NaN       70435  \n",
       "1                  5  gasoline        audi         yes       66954  \n",
       "2                  8  gasoline        jeep         NaN       90480  \n",
       "3                  6    petrol  volkswagen          no       91074  \n",
       "4                  7  gasoline       skoda          no       60437  \n",
       "5                 10    petrol         bmw         yes       33775  \n",
       "6                  8    petrol     peugeot          no       67112  \n",
       "7                  7    petrol  volkswagen          no       19348  \n",
       "8                  8    petrol        ford         NaN       94505  \n",
       "9                  0       NaN  volkswagen         NaN       27472  "
      ]
     },
     "metadata": {},
     "output_type": "display_data"
    }
   ],
   "source": [
    "data = data.drop(['DateCrawled', 'NumberOfPictures', 'DateCreated', 'LastSeen'], axis=1)\n",
    "display(data.head(10))"
   ]
  },
  {
   "cell_type": "markdown",
   "metadata": {},
   "source": [
    "Изучим исходные данные на предмет пропусков и дубликатов."
   ]
  },
  {
   "cell_type": "code",
   "execution_count": 4,
   "metadata": {},
   "outputs": [
    {
     "name": "stdout",
     "output_type": "stream",
     "text": [
      "SPACES\n"
     ]
    },
    {
     "data": {
      "text/plain": [
       "Price                    0\n",
       "VehicleType          37490\n",
       "RegistrationYear         0\n",
       "Gearbox              19833\n",
       "Power                    0\n",
       "Model                19705\n",
       "Kilometer                0\n",
       "RegistrationMonth        0\n",
       "FuelType             32895\n",
       "Brand                    0\n",
       "NotRepaired          71154\n",
       "PostalCode               0\n",
       "dtype: int64"
      ]
     },
     "metadata": {},
     "output_type": "display_data"
    },
    {
     "name": "stdout",
     "output_type": "stream",
     "text": [
      "DUPLICATES\n"
     ]
    },
    {
     "data": {
      "text/plain": [
       "21333"
      ]
     },
     "metadata": {},
     "output_type": "display_data"
    },
    {
     "name": "stdout",
     "output_type": "stream",
     "text": [
      "DIMENSION\n"
     ]
    },
    {
     "data": {
      "text/plain": [
       "(354369, 12)"
      ]
     },
     "execution_count": 4,
     "metadata": {},
     "output_type": "execute_result"
    }
   ],
   "source": [
    "def info_func(df):\n",
    "    print('SPACES')\n",
    "    display(df.isnull().sum())\n",
    "    print('DUPLICATES')\n",
    "    display(df.duplicated().sum())\n",
    "    print('DIMENSION')\n",
    "    return df.shape\n",
    "\n",
    "info_func(data)"
   ]
  },
  {
   "cell_type": "markdown",
   "metadata": {},
   "source": [
    "Наблюдается значительное количество пробелов в ряде признаков. Причем все эти признаки - категориальные. Избавимся от пропусков введя новую категорию `unknown`."
   ]
  },
  {
   "cell_type": "code",
   "execution_count": 5,
   "metadata": {},
   "outputs": [
    {
     "data": {
      "text/html": [
       "<div>\n",
       "<style scoped>\n",
       "    .dataframe tbody tr th:only-of-type {\n",
       "        vertical-align: middle;\n",
       "    }\n",
       "\n",
       "    .dataframe tbody tr th {\n",
       "        vertical-align: top;\n",
       "    }\n",
       "\n",
       "    .dataframe thead th {\n",
       "        text-align: right;\n",
       "    }\n",
       "</style>\n",
       "<table border=\"1\" class=\"dataframe\">\n",
       "  <thead>\n",
       "    <tr style=\"text-align: right;\">\n",
       "      <th></th>\n",
       "      <th>Price</th>\n",
       "      <th>VehicleType</th>\n",
       "      <th>RegistrationYear</th>\n",
       "      <th>Gearbox</th>\n",
       "      <th>Power</th>\n",
       "      <th>Model</th>\n",
       "      <th>Kilometer</th>\n",
       "      <th>RegistrationMonth</th>\n",
       "      <th>FuelType</th>\n",
       "      <th>Brand</th>\n",
       "      <th>NotRepaired</th>\n",
       "      <th>PostalCode</th>\n",
       "    </tr>\n",
       "  </thead>\n",
       "  <tbody>\n",
       "    <tr>\n",
       "      <td>0</td>\n",
       "      <td>480</td>\n",
       "      <td>unknown</td>\n",
       "      <td>1993</td>\n",
       "      <td>manual</td>\n",
       "      <td>0</td>\n",
       "      <td>golf</td>\n",
       "      <td>150000</td>\n",
       "      <td>0</td>\n",
       "      <td>petrol</td>\n",
       "      <td>volkswagen</td>\n",
       "      <td>unknown</td>\n",
       "      <td>70435</td>\n",
       "    </tr>\n",
       "    <tr>\n",
       "      <td>1</td>\n",
       "      <td>18300</td>\n",
       "      <td>coupe</td>\n",
       "      <td>2011</td>\n",
       "      <td>manual</td>\n",
       "      <td>190</td>\n",
       "      <td>unknown</td>\n",
       "      <td>125000</td>\n",
       "      <td>5</td>\n",
       "      <td>gasoline</td>\n",
       "      <td>audi</td>\n",
       "      <td>yes</td>\n",
       "      <td>66954</td>\n",
       "    </tr>\n",
       "    <tr>\n",
       "      <td>2</td>\n",
       "      <td>9800</td>\n",
       "      <td>suv</td>\n",
       "      <td>2004</td>\n",
       "      <td>auto</td>\n",
       "      <td>163</td>\n",
       "      <td>grand</td>\n",
       "      <td>125000</td>\n",
       "      <td>8</td>\n",
       "      <td>gasoline</td>\n",
       "      <td>jeep</td>\n",
       "      <td>unknown</td>\n",
       "      <td>90480</td>\n",
       "    </tr>\n",
       "    <tr>\n",
       "      <td>3</td>\n",
       "      <td>1500</td>\n",
       "      <td>small</td>\n",
       "      <td>2001</td>\n",
       "      <td>manual</td>\n",
       "      <td>75</td>\n",
       "      <td>golf</td>\n",
       "      <td>150000</td>\n",
       "      <td>6</td>\n",
       "      <td>petrol</td>\n",
       "      <td>volkswagen</td>\n",
       "      <td>no</td>\n",
       "      <td>91074</td>\n",
       "    </tr>\n",
       "    <tr>\n",
       "      <td>4</td>\n",
       "      <td>3600</td>\n",
       "      <td>small</td>\n",
       "      <td>2008</td>\n",
       "      <td>manual</td>\n",
       "      <td>69</td>\n",
       "      <td>fabia</td>\n",
       "      <td>90000</td>\n",
       "      <td>7</td>\n",
       "      <td>gasoline</td>\n",
       "      <td>skoda</td>\n",
       "      <td>no</td>\n",
       "      <td>60437</td>\n",
       "    </tr>\n",
       "    <tr>\n",
       "      <td>5</td>\n",
       "      <td>650</td>\n",
       "      <td>sedan</td>\n",
       "      <td>1995</td>\n",
       "      <td>manual</td>\n",
       "      <td>102</td>\n",
       "      <td>3er</td>\n",
       "      <td>150000</td>\n",
       "      <td>10</td>\n",
       "      <td>petrol</td>\n",
       "      <td>bmw</td>\n",
       "      <td>yes</td>\n",
       "      <td>33775</td>\n",
       "    </tr>\n",
       "    <tr>\n",
       "      <td>6</td>\n",
       "      <td>2200</td>\n",
       "      <td>convertible</td>\n",
       "      <td>2004</td>\n",
       "      <td>manual</td>\n",
       "      <td>109</td>\n",
       "      <td>2_reihe</td>\n",
       "      <td>150000</td>\n",
       "      <td>8</td>\n",
       "      <td>petrol</td>\n",
       "      <td>peugeot</td>\n",
       "      <td>no</td>\n",
       "      <td>67112</td>\n",
       "    </tr>\n",
       "    <tr>\n",
       "      <td>7</td>\n",
       "      <td>0</td>\n",
       "      <td>sedan</td>\n",
       "      <td>1980</td>\n",
       "      <td>manual</td>\n",
       "      <td>50</td>\n",
       "      <td>other</td>\n",
       "      <td>40000</td>\n",
       "      <td>7</td>\n",
       "      <td>petrol</td>\n",
       "      <td>volkswagen</td>\n",
       "      <td>no</td>\n",
       "      <td>19348</td>\n",
       "    </tr>\n",
       "    <tr>\n",
       "      <td>8</td>\n",
       "      <td>14500</td>\n",
       "      <td>bus</td>\n",
       "      <td>2014</td>\n",
       "      <td>manual</td>\n",
       "      <td>125</td>\n",
       "      <td>c_max</td>\n",
       "      <td>30000</td>\n",
       "      <td>8</td>\n",
       "      <td>petrol</td>\n",
       "      <td>ford</td>\n",
       "      <td>unknown</td>\n",
       "      <td>94505</td>\n",
       "    </tr>\n",
       "    <tr>\n",
       "      <td>9</td>\n",
       "      <td>999</td>\n",
       "      <td>small</td>\n",
       "      <td>1998</td>\n",
       "      <td>manual</td>\n",
       "      <td>101</td>\n",
       "      <td>golf</td>\n",
       "      <td>150000</td>\n",
       "      <td>0</td>\n",
       "      <td>unknown</td>\n",
       "      <td>volkswagen</td>\n",
       "      <td>unknown</td>\n",
       "      <td>27472</td>\n",
       "    </tr>\n",
       "  </tbody>\n",
       "</table>\n",
       "</div>"
      ],
      "text/plain": [
       "   Price  VehicleType  RegistrationYear Gearbox  Power    Model  Kilometer  \\\n",
       "0    480      unknown              1993  manual      0     golf     150000   \n",
       "1  18300        coupe              2011  manual    190  unknown     125000   \n",
       "2   9800          suv              2004    auto    163    grand     125000   \n",
       "3   1500        small              2001  manual     75     golf     150000   \n",
       "4   3600        small              2008  manual     69    fabia      90000   \n",
       "5    650        sedan              1995  manual    102      3er     150000   \n",
       "6   2200  convertible              2004  manual    109  2_reihe     150000   \n",
       "7      0        sedan              1980  manual     50    other      40000   \n",
       "8  14500          bus              2014  manual    125    c_max      30000   \n",
       "9    999        small              1998  manual    101     golf     150000   \n",
       "\n",
       "   RegistrationMonth  FuelType       Brand NotRepaired  PostalCode  \n",
       "0                  0    petrol  volkswagen     unknown       70435  \n",
       "1                  5  gasoline        audi         yes       66954  \n",
       "2                  8  gasoline        jeep     unknown       90480  \n",
       "3                  6    petrol  volkswagen          no       91074  \n",
       "4                  7  gasoline       skoda          no       60437  \n",
       "5                 10    petrol         bmw         yes       33775  \n",
       "6                  8    petrol     peugeot          no       67112  \n",
       "7                  7    petrol  volkswagen          no       19348  \n",
       "8                  8    petrol        ford     unknown       94505  \n",
       "9                  0   unknown  volkswagen     unknown       27472  "
      ]
     },
     "metadata": {},
     "output_type": "display_data"
    }
   ],
   "source": [
    "col_with_spcs = ['VehicleType','Gearbox', 'Model', 'FuelType', 'NotRepaired']\n",
    "data[col_with_spcs] = data[col_with_spcs].fillna('unknown')\n",
    "display(data.head(10))"
   ]
  },
  {
   "cell_type": "code",
   "execution_count": 6,
   "metadata": {},
   "outputs": [
    {
     "name": "stdout",
     "output_type": "stream",
     "text": [
      "SPACES\n"
     ]
    },
    {
     "data": {
      "text/plain": [
       "Price                0\n",
       "VehicleType          0\n",
       "RegistrationYear     0\n",
       "Gearbox              0\n",
       "Power                0\n",
       "Model                0\n",
       "Kilometer            0\n",
       "RegistrationMonth    0\n",
       "FuelType             0\n",
       "Brand                0\n",
       "NotRepaired          0\n",
       "PostalCode           0\n",
       "dtype: int64"
      ]
     },
     "metadata": {},
     "output_type": "display_data"
    },
    {
     "name": "stdout",
     "output_type": "stream",
     "text": [
      "DUPLICATES\n"
     ]
    },
    {
     "data": {
      "text/plain": [
       "21333"
      ]
     },
     "metadata": {},
     "output_type": "display_data"
    },
    {
     "name": "stdout",
     "output_type": "stream",
     "text": [
      "DIMENSION\n"
     ]
    },
    {
     "data": {
      "text/plain": [
       "(354369, 12)"
      ]
     },
     "execution_count": 6,
     "metadata": {},
     "output_type": "execute_result"
    }
   ],
   "source": [
    "info_func(data)"
   ]
  },
  {
   "cell_type": "markdown",
   "metadata": {},
   "source": [
    "Избавимся от дубликатов, учитывая их относительно небольшое число по отношению ко всей выборке."
   ]
  },
  {
   "cell_type": "code",
   "execution_count": 7,
   "metadata": {},
   "outputs": [
    {
     "name": "stdout",
     "output_type": "stream",
     "text": [
      "SPACES\n"
     ]
    },
    {
     "data": {
      "text/plain": [
       "Price                0\n",
       "VehicleType          0\n",
       "RegistrationYear     0\n",
       "Gearbox              0\n",
       "Power                0\n",
       "Model                0\n",
       "Kilometer            0\n",
       "RegistrationMonth    0\n",
       "FuelType             0\n",
       "Brand                0\n",
       "NotRepaired          0\n",
       "PostalCode           0\n",
       "dtype: int64"
      ]
     },
     "metadata": {},
     "output_type": "display_data"
    },
    {
     "name": "stdout",
     "output_type": "stream",
     "text": [
      "DUPLICATES\n"
     ]
    },
    {
     "data": {
      "text/plain": [
       "0"
      ]
     },
     "metadata": {},
     "output_type": "display_data"
    },
    {
     "name": "stdout",
     "output_type": "stream",
     "text": [
      "DIMENSION\n"
     ]
    },
    {
     "data": {
      "text/plain": [
       "(333036, 12)"
      ]
     },
     "execution_count": 7,
     "metadata": {},
     "output_type": "execute_result"
    }
   ],
   "source": [
    "#Удаляем  дубликаты\n",
    "data = data.drop_duplicates().reset_index(drop = True)\n",
    "\n",
    "info_func(data)"
   ]
  },
  {
   "cell_type": "code",
   "execution_count": 8,
   "metadata": {},
   "outputs": [
    {
     "data": {
      "text/html": [
       "<div>\n",
       "<style scoped>\n",
       "    .dataframe tbody tr th:only-of-type {\n",
       "        vertical-align: middle;\n",
       "    }\n",
       "\n",
       "    .dataframe tbody tr th {\n",
       "        vertical-align: top;\n",
       "    }\n",
       "\n",
       "    .dataframe thead th {\n",
       "        text-align: right;\n",
       "    }\n",
       "</style>\n",
       "<table border=\"1\" class=\"dataframe\">\n",
       "  <thead>\n",
       "    <tr style=\"text-align: right;\">\n",
       "      <th></th>\n",
       "      <th>Price</th>\n",
       "      <th>RegistrationYear</th>\n",
       "      <th>Power</th>\n",
       "      <th>Kilometer</th>\n",
       "      <th>RegistrationMonth</th>\n",
       "      <th>PostalCode</th>\n",
       "    </tr>\n",
       "  </thead>\n",
       "  <tbody>\n",
       "    <tr>\n",
       "      <td>count</td>\n",
       "      <td>333036.000000</td>\n",
       "      <td>333036.000000</td>\n",
       "      <td>333036.000000</td>\n",
       "      <td>333036.000000</td>\n",
       "      <td>333036.000000</td>\n",
       "      <td>333036.000000</td>\n",
       "    </tr>\n",
       "    <tr>\n",
       "      <td>mean</td>\n",
       "      <td>4378.277586</td>\n",
       "      <td>2004.192268</td>\n",
       "      <td>109.753225</td>\n",
       "      <td>128305.678665</td>\n",
       "      <td>5.694141</td>\n",
       "      <td>50689.740136</td>\n",
       "    </tr>\n",
       "    <tr>\n",
       "      <td>std</td>\n",
       "      <td>4502.534823</td>\n",
       "      <td>90.288761</td>\n",
       "      <td>194.288179</td>\n",
       "      <td>37900.007564</td>\n",
       "      <td>3.728757</td>\n",
       "      <td>25804.455970</td>\n",
       "    </tr>\n",
       "    <tr>\n",
       "      <td>min</td>\n",
       "      <td>0.000000</td>\n",
       "      <td>1000.000000</td>\n",
       "      <td>0.000000</td>\n",
       "      <td>5000.000000</td>\n",
       "      <td>0.000000</td>\n",
       "      <td>1067.000000</td>\n",
       "    </tr>\n",
       "    <tr>\n",
       "      <td>25%</td>\n",
       "      <td>1000.000000</td>\n",
       "      <td>1999.000000</td>\n",
       "      <td>68.000000</td>\n",
       "      <td>125000.000000</td>\n",
       "      <td>3.000000</td>\n",
       "      <td>30179.000000</td>\n",
       "    </tr>\n",
       "    <tr>\n",
       "      <td>50%</td>\n",
       "      <td>2699.000000</td>\n",
       "      <td>2003.000000</td>\n",
       "      <td>103.000000</td>\n",
       "      <td>150000.000000</td>\n",
       "      <td>6.000000</td>\n",
       "      <td>49479.000000</td>\n",
       "    </tr>\n",
       "    <tr>\n",
       "      <td>75%</td>\n",
       "      <td>6299.250000</td>\n",
       "      <td>2008.000000</td>\n",
       "      <td>140.000000</td>\n",
       "      <td>150000.000000</td>\n",
       "      <td>9.000000</td>\n",
       "      <td>71334.000000</td>\n",
       "    </tr>\n",
       "    <tr>\n",
       "      <td>max</td>\n",
       "      <td>20000.000000</td>\n",
       "      <td>9999.000000</td>\n",
       "      <td>20000.000000</td>\n",
       "      <td>150000.000000</td>\n",
       "      <td>12.000000</td>\n",
       "      <td>99998.000000</td>\n",
       "    </tr>\n",
       "  </tbody>\n",
       "</table>\n",
       "</div>"
      ],
      "text/plain": [
       "               Price  RegistrationYear          Power      Kilometer  \\\n",
       "count  333036.000000     333036.000000  333036.000000  333036.000000   \n",
       "mean     4378.277586       2004.192268     109.753225  128305.678665   \n",
       "std      4502.534823         90.288761     194.288179   37900.007564   \n",
       "min         0.000000       1000.000000       0.000000    5000.000000   \n",
       "25%      1000.000000       1999.000000      68.000000  125000.000000   \n",
       "50%      2699.000000       2003.000000     103.000000  150000.000000   \n",
       "75%      6299.250000       2008.000000     140.000000  150000.000000   \n",
       "max     20000.000000       9999.000000   20000.000000  150000.000000   \n",
       "\n",
       "       RegistrationMonth     PostalCode  \n",
       "count      333036.000000  333036.000000  \n",
       "mean            5.694141   50689.740136  \n",
       "std             3.728757   25804.455970  \n",
       "min             0.000000    1067.000000  \n",
       "25%             3.000000   30179.000000  \n",
       "50%             6.000000   49479.000000  \n",
       "75%             9.000000   71334.000000  \n",
       "max            12.000000   99998.000000  "
      ]
     },
     "metadata": {},
     "output_type": "display_data"
    }
   ],
   "source": [
    "display(data.describe())"
   ]
  },
  {
   "cell_type": "markdown",
   "metadata": {},
   "source": [
    "Наблюдаются нулевые значения в численных признаках `Price`и `Power`.  Заменить их чем либо не представляется возможным. Удалим записи с нулевыми значениями."
   ]
  },
  {
   "cell_type": "code",
   "execution_count": 9,
   "metadata": {},
   "outputs": [],
   "source": [
    "data = data.loc[(data['Power'] > 0)]\n",
    "data = data.loc[(data['Price'] > 0)]"
   ]
  },
  {
   "cell_type": "markdown",
   "metadata": {},
   "source": [
    "Также наблюдаются неадекватно большие значения параметра `Power`. Принимая во внимание, что автомобили с мощностью выше чем 1 000 л.с. являются редчайшим явлением (и уж точно продаются не через интернет-площадки) - удалим записи с показателем выше чем 1 000 л.с."
   ]
  },
  {
   "cell_type": "code",
   "execution_count": 10,
   "metadata": {},
   "outputs": [],
   "source": [
    "data = data.loc[(data['Power'] <= 1000)]"
   ]
  },
  {
   "cell_type": "markdown",
   "metadata": {},
   "source": [
    "Представляется разумным также избавиться от \"неадекватных\" значений признака `RegistrationYear`. Объективно год регистрации автомобиля не может быть ранее 1880 года и позднее 2020."
   ]
  },
  {
   "cell_type": "code",
   "execution_count": 11,
   "metadata": {},
   "outputs": [],
   "source": [
    "data = data.loc[(data['RegistrationYear'] < 2021)]\n",
    "data = data.loc[(data['RegistrationYear'] > 1880)]"
   ]
  },
  {
   "cell_type": "markdown",
   "metadata": {},
   "source": [
    "Избавимся также от нулевых значений признака `RegistrationMonth`."
   ]
  },
  {
   "cell_type": "code",
   "execution_count": 12,
   "metadata": {
    "scrolled": true
   },
   "outputs": [
    {
     "data": {
      "text/html": [
       "<div>\n",
       "<style scoped>\n",
       "    .dataframe tbody tr th:only-of-type {\n",
       "        vertical-align: middle;\n",
       "    }\n",
       "\n",
       "    .dataframe tbody tr th {\n",
       "        vertical-align: top;\n",
       "    }\n",
       "\n",
       "    .dataframe thead th {\n",
       "        text-align: right;\n",
       "    }\n",
       "</style>\n",
       "<table border=\"1\" class=\"dataframe\">\n",
       "  <thead>\n",
       "    <tr style=\"text-align: right;\">\n",
       "      <th></th>\n",
       "      <th>Price</th>\n",
       "      <th>RegistrationYear</th>\n",
       "      <th>Power</th>\n",
       "      <th>Kilometer</th>\n",
       "      <th>RegistrationMonth</th>\n",
       "      <th>PostalCode</th>\n",
       "    </tr>\n",
       "  </thead>\n",
       "  <tbody>\n",
       "    <tr>\n",
       "      <td>count</td>\n",
       "      <td>268347.000000</td>\n",
       "      <td>268347.000000</td>\n",
       "      <td>268347.000000</td>\n",
       "      <td>268347.000000</td>\n",
       "      <td>268347.000000</td>\n",
       "      <td>268347.000000</td>\n",
       "    </tr>\n",
       "    <tr>\n",
       "      <td>mean</td>\n",
       "      <td>4942.311831</td>\n",
       "      <td>2003.353796</td>\n",
       "      <td>120.887452</td>\n",
       "      <td>128095.376509</td>\n",
       "      <td>6.372924</td>\n",
       "      <td>51523.623815</td>\n",
       "    </tr>\n",
       "    <tr>\n",
       "      <td>std</td>\n",
       "      <td>4624.533768</td>\n",
       "      <td>6.830142</td>\n",
       "      <td>54.754310</td>\n",
       "      <td>36757.153349</td>\n",
       "      <td>3.344437</td>\n",
       "      <td>25743.835277</td>\n",
       "    </tr>\n",
       "    <tr>\n",
       "      <td>min</td>\n",
       "      <td>1.000000</td>\n",
       "      <td>1910.000000</td>\n",
       "      <td>1.000000</td>\n",
       "      <td>5000.000000</td>\n",
       "      <td>1.000000</td>\n",
       "      <td>1067.000000</td>\n",
       "    </tr>\n",
       "    <tr>\n",
       "      <td>25%</td>\n",
       "      <td>1400.000000</td>\n",
       "      <td>1999.000000</td>\n",
       "      <td>77.000000</td>\n",
       "      <td>125000.000000</td>\n",
       "      <td>4.000000</td>\n",
       "      <td>31157.000000</td>\n",
       "    </tr>\n",
       "    <tr>\n",
       "      <td>50%</td>\n",
       "      <td>3300.000000</td>\n",
       "      <td>2003.000000</td>\n",
       "      <td>111.000000</td>\n",
       "      <td>150000.000000</td>\n",
       "      <td>6.000000</td>\n",
       "      <td>50733.000000</td>\n",
       "    </tr>\n",
       "    <tr>\n",
       "      <td>75%</td>\n",
       "      <td>7000.000000</td>\n",
       "      <td>2008.000000</td>\n",
       "      <td>150.000000</td>\n",
       "      <td>150000.000000</td>\n",
       "      <td>9.000000</td>\n",
       "      <td>72348.000000</td>\n",
       "    </tr>\n",
       "    <tr>\n",
       "      <td>max</td>\n",
       "      <td>20000.000000</td>\n",
       "      <td>2019.000000</td>\n",
       "      <td>1000.000000</td>\n",
       "      <td>150000.000000</td>\n",
       "      <td>12.000000</td>\n",
       "      <td>99998.000000</td>\n",
       "    </tr>\n",
       "  </tbody>\n",
       "</table>\n",
       "</div>"
      ],
      "text/plain": [
       "               Price  RegistrationYear          Power      Kilometer  \\\n",
       "count  268347.000000     268347.000000  268347.000000  268347.000000   \n",
       "mean     4942.311831       2003.353796     120.887452  128095.376509   \n",
       "std      4624.533768          6.830142      54.754310   36757.153349   \n",
       "min         1.000000       1910.000000       1.000000    5000.000000   \n",
       "25%      1400.000000       1999.000000      77.000000  125000.000000   \n",
       "50%      3300.000000       2003.000000     111.000000  150000.000000   \n",
       "75%      7000.000000       2008.000000     150.000000  150000.000000   \n",
       "max     20000.000000       2019.000000    1000.000000  150000.000000   \n",
       "\n",
       "       RegistrationMonth     PostalCode  \n",
       "count      268347.000000  268347.000000  \n",
       "mean            6.372924   51523.623815  \n",
       "std             3.344437   25743.835277  \n",
       "min             1.000000    1067.000000  \n",
       "25%             4.000000   31157.000000  \n",
       "50%             6.000000   50733.000000  \n",
       "75%             9.000000   72348.000000  \n",
       "max            12.000000   99998.000000  "
      ]
     },
     "metadata": {},
     "output_type": "display_data"
    }
   ],
   "source": [
    "data = data.loc[(data['RegistrationMonth'] > 0)]\n",
    "\n",
    "display(data.describe())"
   ]
  },
  {
   "cell_type": "code",
   "execution_count": 13,
   "metadata": {},
   "outputs": [
    {
     "name": "stdout",
     "output_type": "stream",
     "text": [
      "SPACES\n"
     ]
    },
    {
     "data": {
      "text/plain": [
       "Price                0\n",
       "VehicleType          0\n",
       "RegistrationYear     0\n",
       "Gearbox              0\n",
       "Power                0\n",
       "Model                0\n",
       "Kilometer            0\n",
       "RegistrationMonth    0\n",
       "FuelType             0\n",
       "Brand                0\n",
       "NotRepaired          0\n",
       "PostalCode           0\n",
       "dtype: int64"
      ]
     },
     "metadata": {},
     "output_type": "display_data"
    },
    {
     "name": "stdout",
     "output_type": "stream",
     "text": [
      "DUPLICATES\n"
     ]
    },
    {
     "data": {
      "text/plain": [
       "0"
      ]
     },
     "metadata": {},
     "output_type": "display_data"
    },
    {
     "name": "stdout",
     "output_type": "stream",
     "text": [
      "DIMENSION\n"
     ]
    },
    {
     "data": {
      "text/plain": [
       "(268347, 12)"
      ]
     },
     "execution_count": 13,
     "metadata": {},
     "output_type": "execute_result"
    }
   ],
   "source": [
    "info_func(data)"
   ]
  },
  {
   "cell_type": "markdown",
   "metadata": {},
   "source": [
    "Теперь подготовим/закодируем категориальные переменные"
   ]
  },
  {
   "cell_type": "code",
   "execution_count": 15,
   "metadata": {},
   "outputs": [],
   "source": [
    "# Приеняем технику LabelEncoder\n",
    "le = preprocessing.LabelEncoder()\n",
    "le.fit(data.VehicleType)\n",
    "data['VehicleType_le'] = le.transform(data.VehicleType)\n",
    "le.fit(data.Gearbox)\n",
    "data['Gearbox_le'] = le.transform(data.Gearbox)\n",
    "le.fit(data.Model)\n",
    "data['Model_le'] = le.transform(data.Model)\n",
    "le.fit(data.FuelType)\n",
    "data['FuelType_le'] = le.transform(data.FuelType)\n",
    "le.fit(data.Brand)\n",
    "data['Brand_le'] = le.transform(data.Brand)\n",
    "le.fit(data.NotRepaired)\n",
    "data['NotRepaired_le'] = le.transform(data.NotRepaired)\n",
    "le.fit(data.RegistrationMonth)\n",
    "data['RegistrationMonth_le'] = le.transform(data.RegistrationMonth)\n",
    "le.fit(data.PostalCode)\n",
    "data['PostalCode_le'] = le.transform(data.PostalCode)\n",
    "\n",
    "#Сохраняем все признаки, которые понадобятся для дальнейшего обучения моделей\n",
    "df = data.drop(['VehicleType', 'Gearbox', 'Model','FuelType', 'Brand', 'NotRepaired',\n",
    "                'RegistrationMonth','PostalCode'], axis=1)\n",
    "#Сохраняем список категориальных признаков\n",
    "cat_features = ['VehicleType_le', 'Gearbox_le', 'Model_le','FuelType_le', 'Brand_le', \n",
    "                'NotRepaired_le','RegistrationMonth_le','PostalCode_le']"
   ]
  },
  {
   "cell_type": "code",
   "execution_count": 16,
   "metadata": {},
   "outputs": [
    {
     "data": {
      "text/html": [
       "<div>\n",
       "<style scoped>\n",
       "    .dataframe tbody tr th:only-of-type {\n",
       "        vertical-align: middle;\n",
       "    }\n",
       "\n",
       "    .dataframe tbody tr th {\n",
       "        vertical-align: top;\n",
       "    }\n",
       "\n",
       "    .dataframe thead th {\n",
       "        text-align: right;\n",
       "    }\n",
       "</style>\n",
       "<table border=\"1\" class=\"dataframe\">\n",
       "  <thead>\n",
       "    <tr style=\"text-align: right;\">\n",
       "      <th></th>\n",
       "      <th>Price</th>\n",
       "      <th>RegistrationYear</th>\n",
       "      <th>Power</th>\n",
       "      <th>Kilometer</th>\n",
       "      <th>VehicleType_le</th>\n",
       "      <th>Gearbox_le</th>\n",
       "      <th>Model_le</th>\n",
       "      <th>FuelType_le</th>\n",
       "      <th>Brand_le</th>\n",
       "      <th>NotRepaired_le</th>\n",
       "      <th>RegistrationMonth_le</th>\n",
       "      <th>PostalCode_le</th>\n",
       "    </tr>\n",
       "  </thead>\n",
       "  <tbody>\n",
       "    <tr>\n",
       "      <td>1</td>\n",
       "      <td>18300</td>\n",
       "      <td>2011</td>\n",
       "      <td>190</td>\n",
       "      <td>125000</td>\n",
       "      <td>2</td>\n",
       "      <td>1</td>\n",
       "      <td>227</td>\n",
       "      <td>2</td>\n",
       "      <td>1</td>\n",
       "      <td>2</td>\n",
       "      <td>4</td>\n",
       "      <td>4586</td>\n",
       "    </tr>\n",
       "    <tr>\n",
       "      <td>2</td>\n",
       "      <td>9800</td>\n",
       "      <td>2004</td>\n",
       "      <td>163</td>\n",
       "      <td>125000</td>\n",
       "      <td>6</td>\n",
       "      <td>0</td>\n",
       "      <td>117</td>\n",
       "      <td>2</td>\n",
       "      <td>14</td>\n",
       "      <td>1</td>\n",
       "      <td>7</td>\n",
       "      <td>6958</td>\n",
       "    </tr>\n",
       "    <tr>\n",
       "      <td>3</td>\n",
       "      <td>1500</td>\n",
       "      <td>2001</td>\n",
       "      <td>75</td>\n",
       "      <td>150000</td>\n",
       "      <td>5</td>\n",
       "      <td>1</td>\n",
       "      <td>116</td>\n",
       "      <td>6</td>\n",
       "      <td>38</td>\n",
       "      <td>0</td>\n",
       "      <td>5</td>\n",
       "      <td>6998</td>\n",
       "    </tr>\n",
       "    <tr>\n",
       "      <td>4</td>\n",
       "      <td>3600</td>\n",
       "      <td>2008</td>\n",
       "      <td>69</td>\n",
       "      <td>90000</td>\n",
       "      <td>5</td>\n",
       "      <td>1</td>\n",
       "      <td>101</td>\n",
       "      <td>2</td>\n",
       "      <td>31</td>\n",
       "      <td>0</td>\n",
       "      <td>6</td>\n",
       "      <td>4183</td>\n",
       "    </tr>\n",
       "    <tr>\n",
       "      <td>5</td>\n",
       "      <td>650</td>\n",
       "      <td>1995</td>\n",
       "      <td>102</td>\n",
       "      <td>150000</td>\n",
       "      <td>4</td>\n",
       "      <td>1</td>\n",
       "      <td>11</td>\n",
       "      <td>6</td>\n",
       "      <td>2</td>\n",
       "      <td>2</td>\n",
       "      <td>9</td>\n",
       "      <td>2357</td>\n",
       "    </tr>\n",
       "    <tr>\n",
       "      <td>6</td>\n",
       "      <td>2200</td>\n",
       "      <td>2004</td>\n",
       "      <td>109</td>\n",
       "      <td>150000</td>\n",
       "      <td>1</td>\n",
       "      <td>1</td>\n",
       "      <td>8</td>\n",
       "      <td>6</td>\n",
       "      <td>25</td>\n",
       "      <td>0</td>\n",
       "      <td>7</td>\n",
       "      <td>4607</td>\n",
       "    </tr>\n",
       "    <tr>\n",
       "      <td>8</td>\n",
       "      <td>14500</td>\n",
       "      <td>2014</td>\n",
       "      <td>125</td>\n",
       "      <td>30000</td>\n",
       "      <td>0</td>\n",
       "      <td>1</td>\n",
       "      <td>60</td>\n",
       "      <td>6</td>\n",
       "      <td>10</td>\n",
       "      <td>1</td>\n",
       "      <td>7</td>\n",
       "      <td>7509</td>\n",
       "    </tr>\n",
       "    <tr>\n",
       "      <td>10</td>\n",
       "      <td>2000</td>\n",
       "      <td>2004</td>\n",
       "      <td>105</td>\n",
       "      <td>150000</td>\n",
       "      <td>4</td>\n",
       "      <td>1</td>\n",
       "      <td>10</td>\n",
       "      <td>6</td>\n",
       "      <td>19</td>\n",
       "      <td>0</td>\n",
       "      <td>11</td>\n",
       "      <td>7714</td>\n",
       "    </tr>\n",
       "    <tr>\n",
       "      <td>11</td>\n",
       "      <td>2799</td>\n",
       "      <td>2005</td>\n",
       "      <td>140</td>\n",
       "      <td>150000</td>\n",
       "      <td>8</td>\n",
       "      <td>1</td>\n",
       "      <td>170</td>\n",
       "      <td>2</td>\n",
       "      <td>38</td>\n",
       "      <td>2</td>\n",
       "      <td>11</td>\n",
       "      <td>4012</td>\n",
       "    </tr>\n",
       "    <tr>\n",
       "      <td>12</td>\n",
       "      <td>999</td>\n",
       "      <td>1995</td>\n",
       "      <td>115</td>\n",
       "      <td>150000</td>\n",
       "      <td>8</td>\n",
       "      <td>1</td>\n",
       "      <td>170</td>\n",
       "      <td>6</td>\n",
       "      <td>38</td>\n",
       "      <td>1</td>\n",
       "      <td>10</td>\n",
       "      <td>2663</td>\n",
       "    </tr>\n",
       "  </tbody>\n",
       "</table>\n",
       "</div>"
      ],
      "text/plain": [
       "    Price  RegistrationYear  Power  Kilometer  VehicleType_le  Gearbox_le  \\\n",
       "1   18300              2011    190     125000               2           1   \n",
       "2    9800              2004    163     125000               6           0   \n",
       "3    1500              2001     75     150000               5           1   \n",
       "4    3600              2008     69      90000               5           1   \n",
       "5     650              1995    102     150000               4           1   \n",
       "6    2200              2004    109     150000               1           1   \n",
       "8   14500              2014    125      30000               0           1   \n",
       "10   2000              2004    105     150000               4           1   \n",
       "11   2799              2005    140     150000               8           1   \n",
       "12    999              1995    115     150000               8           1   \n",
       "\n",
       "    Model_le  FuelType_le  Brand_le  NotRepaired_le  RegistrationMonth_le  \\\n",
       "1        227            2         1               2                     4   \n",
       "2        117            2        14               1                     7   \n",
       "3        116            6        38               0                     5   \n",
       "4        101            2        31               0                     6   \n",
       "5         11            6         2               2                     9   \n",
       "6          8            6        25               0                     7   \n",
       "8         60            6        10               1                     7   \n",
       "10        10            6        19               0                    11   \n",
       "11       170            2        38               2                    11   \n",
       "12       170            6        38               1                    10   \n",
       "\n",
       "    PostalCode_le  \n",
       "1            4586  \n",
       "2            6958  \n",
       "3            6998  \n",
       "4            4183  \n",
       "5            2357  \n",
       "6            4607  \n",
       "8            7509  \n",
       "10           7714  \n",
       "11           4012  \n",
       "12           2663  "
      ]
     },
     "metadata": {},
     "output_type": "display_data"
    }
   ],
   "source": [
    "display(df.head(10))"
   ]
  },
  {
   "cell_type": "code",
   "execution_count": 17,
   "metadata": {},
   "outputs": [
    {
     "name": "stdout",
     "output_type": "stream",
     "text": [
      "SPACES\n"
     ]
    },
    {
     "data": {
      "text/plain": [
       "Price                   0\n",
       "RegistrationYear        0\n",
       "Power                   0\n",
       "Kilometer               0\n",
       "VehicleType_le          0\n",
       "Gearbox_le              0\n",
       "Model_le                0\n",
       "FuelType_le             0\n",
       "Brand_le                0\n",
       "NotRepaired_le          0\n",
       "RegistrationMonth_le    0\n",
       "PostalCode_le           0\n",
       "dtype: int64"
      ]
     },
     "metadata": {},
     "output_type": "display_data"
    },
    {
     "name": "stdout",
     "output_type": "stream",
     "text": [
      "DUPLICATES\n"
     ]
    },
    {
     "data": {
      "text/plain": [
       "0"
      ]
     },
     "metadata": {},
     "output_type": "display_data"
    },
    {
     "name": "stdout",
     "output_type": "stream",
     "text": [
      "DIMENSION\n"
     ]
    },
    {
     "data": {
      "text/plain": [
       "(268347, 12)"
      ]
     },
     "execution_count": 17,
     "metadata": {},
     "output_type": "execute_result"
    }
   ],
   "source": [
    "info_func(df)"
   ]
  },
  {
   "cell_type": "markdown",
   "metadata": {},
   "source": [
    "# 1. Подготовка данных. Выводы.\n",
    "\n",
    "- исходный датасет представлен 354 369 записями и 16 признаками\n",
    "- названия столбцов информативны и удобочитаемы\n",
    "- были удалены, как не влияющие на стоимость авто, признаки: `DateCrawled`, `DateCreated`, `NumberOfPictures`, `LastSeen`\n",
    "- пропущенные значения присутствовали только в категориальных признаках и были заменены на новую категорию `unknown`\n",
    "- дубликаты были удалены, в связи с их небольшим количеством, относительно общего объема выборки\n",
    "- удалены явные аномалии и ошибки: нулевые значения(цена, мощность, месяц регистрации), аномальные значения года регистрации и мощности\n",
    "- произведено масштабирование количественных признаков `Power` и `Kilometer`\n",
    "- осуществлено кодирование категориальных признаков техникой LabelEncoder\n",
    "- размерность конечного датасета составляет 268 347 записей и 12 признаков"
   ]
  },
  {
   "cell_type": "markdown",
   "metadata": {},
   "source": [
    "# 2. Обучение моделей"
   ]
  },
  {
   "cell_type": "markdown",
   "metadata": {},
   "source": [
    "### 2.1 Создание обучающей, валидационной и  тестовой выборок"
   ]
  },
  {
   "cell_type": "code",
   "execution_count": 18,
   "metadata": {},
   "outputs": [
    {
     "name": "stdout",
     "output_type": "stream",
     "text": [
      "Размерность обучащей выборки: (187842, 12)\n",
      "Размерность валидационной выборки: (40252, 12)\n",
      "Размерность тестовой выборки: (40253, 12)\n"
     ]
    }
   ],
   "source": [
    "# Проведем последовательное разбиение. Сначала разделим датасет на обучающую и валидационную выборки (70% отдаем обучающей)\n",
    "df_train, df_valid = train_test_split(df, test_size = 0.3, random_state = 12345)\n",
    "\n",
    "# Теперь поделим пополам валидационную выборку, тем самым создав тестовую\n",
    "df_valid, df_test = train_test_split(df_valid, test_size = 0.5, random_state=12345)\n",
    "\n",
    "# Контрольная проверка размерности выборок\n",
    "print('Размерность обучащей выборки:', df_train.shape)\n",
    "print('Размерность валидационной выборки:', df_valid.shape)\n",
    "print('Размерность тестовой выборки:', df_test.shape)"
   ]
  },
  {
   "cell_type": "markdown",
   "metadata": {},
   "source": [
    "В связи с различными масштабами значений, проведем нормализацию численных признаков `Power` и `Kilometer`"
   ]
  },
  {
   "cell_type": "code",
   "execution_count": 19,
   "metadata": {},
   "outputs": [],
   "source": [
    "def normalization(frame, columns):\n",
    "    numeric_cols = columns\n",
    "    features = frame[numeric_cols]\n",
    "    scaler = StandardScaler().fit(features.values)\n",
    "    features = scaler.transform(features.values)\n",
    "    frame[numeric_cols] = features\n",
    "\n",
    "normalization(df_train,['Power', 'Kilometer'])\n",
    "normalization(df_valid,['Power', 'Kilometer'])\n",
    "normalization(df_test,['Power', 'Kilometer'])"
   ]
  },
  {
   "cell_type": "code",
   "execution_count": 23,
   "metadata": {},
   "outputs": [],
   "source": [
    "# Подготовим переменные для признаков и целевого признака различных выборок\n",
    "features_train = df_train.drop(['Price'], axis=1)\n",
    "target_train = df_train['Price']\n",
    "features_test = df_test.drop(['Price'], axis=1)\n",
    "target_test = df_test['Price']\n",
    "features_valid = df_valid.drop(['Price'], axis=1)\n",
    "target_valid = df_valid['Price']"
   ]
  },
  {
   "cell_type": "markdown",
   "metadata": {},
   "source": [
    "### 2.2 Обучение модели алгоритмом CatBoost (перебор в цикле 2 гиперпараметров)"
   ]
  },
  {
   "cell_type": "markdown",
   "metadata": {},
   "source": [
    "#### Обучение"
   ]
  },
  {
   "cell_type": "code",
   "execution_count": 24,
   "metadata": {
    "scrolled": false
   },
   "outputs": [
    {
     "name": "stdout",
     "output_type": "stream",
     "text": [
      "Идет обучение модели на базе алгоритма CatBoost ...\n",
      "0:\tlearn: 4576.9873858\ttotal: 226ms\tremaining: 0us\n",
      "max_depth            1\n",
      "max_estimators       1\n",
      "RMSE_CB           4561\n",
      "Name: 0, dtype: object\n",
      "0:\tlearn: 4576.9873858\ttotal: 78.4ms\tremaining: 1.96s\n",
      "20:\tlearn: 3982.8035877\ttotal: 2.27s\tremaining: 540ms\n",
      "25:\tlearn: 3882.4010270\ttotal: 2.76s\tremaining: 0us\n",
      "max_depth            1\n",
      "max_estimators      26\n",
      "RMSE_CB           3862\n",
      "Name: 1, dtype: object\n",
      "0:\tlearn: 4576.9873858\ttotal: 74.7ms\tremaining: 3.73s\n",
      "20:\tlearn: 3982.8035877\ttotal: 2.46s\tremaining: 3.51s\n",
      "40:\tlearn: 3643.5957989\ttotal: 4.45s\tremaining: 1.09s\n",
      "50:\tlearn: 3517.0073058\ttotal: 5.54s\tremaining: 0us\n",
      "max_depth            1\n",
      "max_estimators      51\n",
      "RMSE_CB           3492\n",
      "Name: 2, dtype: object\n",
      "0:\tlearn: 4576.9873858\ttotal: 46.3ms\tremaining: 3.47s\n",
      "20:\tlearn: 3982.8035877\ttotal: 2.14s\tremaining: 5.59s\n",
      "40:\tlearn: 3643.5957989\ttotal: 4.24s\tremaining: 3.62s\n",
      "60:\tlearn: 3409.0244322\ttotal: 6.31s\tremaining: 1.55s\n",
      "75:\tlearn: 3274.4823474\ttotal: 7.8s\tremaining: 0us\n",
      "max_depth            1\n",
      "max_estimators      76\n",
      "RMSE_CB           3247\n",
      "Name: 3, dtype: object\n",
      "0:\tlearn: 4576.9873858\ttotal: 59.9ms\tremaining: 5.99s\n",
      "20:\tlearn: 3982.8035877\ttotal: 2.25s\tremaining: 8.56s\n",
      "40:\tlearn: 3643.5957989\ttotal: 4.23s\tremaining: 6.2s\n",
      "60:\tlearn: 3409.0244322\ttotal: 6.22s\tremaining: 4.08s\n",
      "80:\tlearn: 3235.0248235\ttotal: 8.21s\tremaining: 2.03s\n",
      "100:\tlearn: 3100.9228322\ttotal: 10.3s\tremaining: 0us\n",
      "max_depth            1\n",
      "max_estimators     101\n",
      "RMSE_CB           3072\n",
      "Name: 4, dtype: object\n",
      "0:\tlearn: 4533.8214622\ttotal: 404ms\tremaining: 0us\n",
      "max_depth            6\n",
      "max_estimators       1\n",
      "RMSE_CB           4516\n",
      "Name: 5, dtype: object\n",
      "0:\tlearn: 4533.8214622\ttotal: 327ms\tremaining: 8.17s\n",
      "20:\tlearn: 3257.1367350\ttotal: 7.12s\tremaining: 1.69s\n",
      "25:\tlearn: 3051.8579028\ttotal: 8.81s\tremaining: 0us\n",
      "max_depth            6\n",
      "max_estimators      26\n",
      "RMSE_CB           3026\n",
      "Name: 6, dtype: object\n",
      "0:\tlearn: 4533.8214622\ttotal: 403ms\tremaining: 20.1s\n",
      "20:\tlearn: 3257.1367350\ttotal: 7.2s\tremaining: 10.3s\n",
      "40:\tlearn: 2619.2093876\ttotal: 13.8s\tremaining: 3.36s\n",
      "50:\tlearn: 2431.8277811\ttotal: 17.1s\tremaining: 0us\n",
      "max_depth            6\n",
      "max_estimators      51\n",
      "RMSE_CB           2402\n",
      "Name: 7, dtype: object\n",
      "0:\tlearn: 4533.8214622\ttotal: 325ms\tremaining: 24.3s\n",
      "20:\tlearn: 3257.1367350\ttotal: 7.21s\tremaining: 18.9s\n",
      "40:\tlearn: 2619.2093876\ttotal: 13.9s\tremaining: 11.9s\n",
      "60:\tlearn: 2297.7324230\ttotal: 20.7s\tremaining: 5.09s\n",
      "75:\tlearn: 2158.4655331\ttotal: 25.6s\tremaining: 0us\n",
      "max_depth            6\n",
      "max_estimators      76\n",
      "RMSE_CB           2128\n",
      "Name: 8, dtype: object\n",
      "0:\tlearn: 4533.8214622\ttotal: 267ms\tremaining: 26.7s\n",
      "20:\tlearn: 3257.1367350\ttotal: 7.25s\tremaining: 27.6s\n",
      "40:\tlearn: 2619.2093876\ttotal: 13.8s\tremaining: 20.3s\n",
      "60:\tlearn: 2297.7324230\ttotal: 20.4s\tremaining: 13.4s\n",
      "80:\tlearn: 2122.6014754\ttotal: 27.2s\tremaining: 6.72s\n",
      "100:\tlearn: 2021.4751218\ttotal: 33.9s\tremaining: 0us\n",
      "max_depth            6\n",
      "max_estimators     101\n",
      "RMSE_CB           1992\n",
      "Name: 9, dtype: object\n",
      "0:\tlearn: 4521.9923069\ttotal: 713ms\tremaining: 0us\n",
      "max_depth           11\n",
      "max_estimators       1\n",
      "RMSE_CB           4505\n",
      "Name: 10, dtype: object\n",
      "0:\tlearn: 4521.9923069\ttotal: 667ms\tremaining: 16.7s\n",
      "20:\tlearn: 3073.7311636\ttotal: 12.7s\tremaining: 3.01s\n",
      "25:\tlearn: 2844.0752220\ttotal: 15.7s\tremaining: 0us\n",
      "max_depth           11\n",
      "max_estimators      26\n",
      "RMSE_CB           2827\n",
      "Name: 11, dtype: object\n",
      "0:\tlearn: 4521.9923069\ttotal: 639ms\tremaining: 32s\n",
      "20:\tlearn: 3073.7311636\ttotal: 12.7s\tremaining: 18.2s\n",
      "40:\tlearn: 2361.6223842\ttotal: 24.6s\tremaining: 6s\n",
      "50:\tlearn: 2167.0812080\ttotal: 30.5s\tremaining: 0us\n",
      "max_depth           11\n",
      "max_estimators      51\n",
      "RMSE_CB           2152\n",
      "Name: 12, dtype: object\n",
      "0:\tlearn: 4521.9923069\ttotal: 617ms\tremaining: 46.3s\n",
      "20:\tlearn: 3073.7311636\ttotal: 12.6s\tremaining: 33s\n",
      "40:\tlearn: 2361.6223842\ttotal: 24.6s\tremaining: 21s\n",
      "60:\tlearn: 2034.7697043\ttotal: 36.4s\tremaining: 8.95s\n",
      "75:\tlearn: 1910.9512942\ttotal: 45.3s\tremaining: 0us\n",
      "max_depth           11\n",
      "max_estimators      76\n",
      "RMSE_CB           1899\n",
      "Name: 13, dtype: object\n",
      "0:\tlearn: 4521.9923069\ttotal: 672ms\tremaining: 1m 7s\n",
      "20:\tlearn: 3073.7311636\ttotal: 12.9s\tremaining: 49s\n",
      "40:\tlearn: 2361.6223842\ttotal: 24.7s\tremaining: 36.2s\n",
      "60:\tlearn: 2034.7697043\ttotal: 36.6s\tremaining: 24s\n",
      "80:\tlearn: 1881.4341872\ttotal: 48.6s\tremaining: 12s\n",
      "100:\tlearn: 1801.7156397\ttotal: 1m\tremaining: 0us\n",
      "max_depth           11\n",
      "max_estimators     101\n",
      "RMSE_CB           1797\n",
      "Name: 14, dtype: object\n",
      "0:\tlearn: 4517.0585920\ttotal: 4.13s\tremaining: 0us\n",
      "max_depth           16\n",
      "max_estimators       1\n",
      "RMSE_CB           4501\n",
      "Name: 15, dtype: object\n",
      "0:\tlearn: 4517.0585920\ttotal: 3.16s\tremaining: 1m 19s\n",
      "20:\tlearn: 3007.7171599\ttotal: 1m 5s\tremaining: 15.6s\n",
      "25:\tlearn: 2767.9488086\ttotal: 1m 21s\tremaining: 0us\n",
      "max_depth           16\n",
      "max_estimators      26\n",
      "RMSE_CB           2771\n",
      "Name: 16, dtype: object\n",
      "0:\tlearn: 4517.0585920\ttotal: 3.15s\tremaining: 2m 37s\n",
      "20:\tlearn: 3007.7171599\ttotal: 1m 5s\tremaining: 1m 33s\n",
      "40:\tlearn: 2255.7756838\ttotal: 2m 7s\tremaining: 31s\n",
      "50:\tlearn: 2045.5641601\ttotal: 2m 37s\tremaining: 0us\n",
      "max_depth           16\n",
      "max_estimators      51\n",
      "RMSE_CB           2076\n",
      "Name: 17, dtype: object\n",
      "0:\tlearn: 4517.0585920\ttotal: 3.26s\tremaining: 4m 4s\n",
      "20:\tlearn: 3007.7171599\ttotal: 1m 6s\tremaining: 2m 54s\n",
      "40:\tlearn: 2255.7756838\ttotal: 2m 9s\tremaining: 1m 50s\n",
      "60:\tlearn: 1899.4226936\ttotal: 3m 12s\tremaining: 47.4s\n",
      "75:\tlearn: 1759.7779691\ttotal: 3m 58s\tremaining: 0us\n",
      "max_depth           16\n",
      "max_estimators      76\n",
      "RMSE_CB           1817\n",
      "Name: 18, dtype: object\n",
      "0:\tlearn: 4517.0585920\ttotal: 3.23s\tremaining: 5m 23s\n",
      "20:\tlearn: 3007.7171599\ttotal: 1m 7s\tremaining: 4m 15s\n",
      "40:\tlearn: 2255.7756838\ttotal: 2m 9s\tremaining: 3m 9s\n",
      "60:\tlearn: 1899.4226936\ttotal: 3m 11s\tremaining: 2m 5s\n",
      "80:\tlearn: 1727.5308578\ttotal: 4m 13s\tremaining: 1m 2s\n",
      "100:\tlearn: 1638.2254576\ttotal: 5m 14s\tremaining: 0us\n",
      "max_depth           16\n",
      "max_estimators     101\n",
      "RMSE_CB           1718\n",
      "Name: 19, dtype: object\n",
      "CPU times: user 16min 28s, sys: 1min 42s, total: 18min 11s\n",
      "Wall time: 18min 40s\n"
     ]
    }
   ],
   "source": [
    "%%time\n",
    "\n",
    "result = pd.DataFrame(columns=['max_depth','max_estimators', 'RMSE_CB'])\n",
    "print(\"Идет обучение модели на базе алгоритма CatBoost ...\")\n",
    "\n",
    "i=0\n",
    "for max_depth in range(1,17,5):\n",
    "    for max_estimators in range(1,102,25):\n",
    "        model_CB = CatBoostRegressor(loss_function=\"RMSE\", max_depth = max_depth, n_estimators= max_estimators)\n",
    "        model_CB.fit(features_train, target_train, cat_features=cat_features, verbose= 20)\n",
    "        predicted_CB_valid = model_CB.predict(features_valid)\n",
    "        rmse_CB = sqrt(mean_squared_error(target_valid, predicted_CB_valid))\n",
    "        result.loc[i] = [max_depth, int(max_estimators), int(rmse_CB)]\n",
    "        print(result.loc[i])\n",
    "        i+=1"
   ]
  },
  {
   "cell_type": "code",
   "execution_count": 25,
   "metadata": {},
   "outputs": [
    {
     "name": "stdout",
     "output_type": "stream",
     "text": [
      "Результаты обучения алгоритмом CatBoost\n"
     ]
    },
    {
     "data": {
      "text/html": [
       "<div>\n",
       "<style scoped>\n",
       "    .dataframe tbody tr th:only-of-type {\n",
       "        vertical-align: middle;\n",
       "    }\n",
       "\n",
       "    .dataframe tbody tr th {\n",
       "        vertical-align: top;\n",
       "    }\n",
       "\n",
       "    .dataframe thead th {\n",
       "        text-align: right;\n",
       "    }\n",
       "</style>\n",
       "<table border=\"1\" class=\"dataframe\">\n",
       "  <thead>\n",
       "    <tr style=\"text-align: right;\">\n",
       "      <th></th>\n",
       "      <th>max_depth</th>\n",
       "      <th>max_estimators</th>\n",
       "      <th>RMSE_CB</th>\n",
       "    </tr>\n",
       "  </thead>\n",
       "  <tbody>\n",
       "    <tr>\n",
       "      <td>19</td>\n",
       "      <td>16</td>\n",
       "      <td>101</td>\n",
       "      <td>1718</td>\n",
       "    </tr>\n",
       "    <tr>\n",
       "      <td>14</td>\n",
       "      <td>11</td>\n",
       "      <td>101</td>\n",
       "      <td>1797</td>\n",
       "    </tr>\n",
       "    <tr>\n",
       "      <td>18</td>\n",
       "      <td>16</td>\n",
       "      <td>76</td>\n",
       "      <td>1817</td>\n",
       "    </tr>\n",
       "    <tr>\n",
       "      <td>13</td>\n",
       "      <td>11</td>\n",
       "      <td>76</td>\n",
       "      <td>1899</td>\n",
       "    </tr>\n",
       "    <tr>\n",
       "      <td>9</td>\n",
       "      <td>6</td>\n",
       "      <td>101</td>\n",
       "      <td>1992</td>\n",
       "    </tr>\n",
       "    <tr>\n",
       "      <td>17</td>\n",
       "      <td>16</td>\n",
       "      <td>51</td>\n",
       "      <td>2076</td>\n",
       "    </tr>\n",
       "    <tr>\n",
       "      <td>8</td>\n",
       "      <td>6</td>\n",
       "      <td>76</td>\n",
       "      <td>2128</td>\n",
       "    </tr>\n",
       "    <tr>\n",
       "      <td>12</td>\n",
       "      <td>11</td>\n",
       "      <td>51</td>\n",
       "      <td>2152</td>\n",
       "    </tr>\n",
       "    <tr>\n",
       "      <td>7</td>\n",
       "      <td>6</td>\n",
       "      <td>51</td>\n",
       "      <td>2402</td>\n",
       "    </tr>\n",
       "    <tr>\n",
       "      <td>16</td>\n",
       "      <td>16</td>\n",
       "      <td>26</td>\n",
       "      <td>2771</td>\n",
       "    </tr>\n",
       "    <tr>\n",
       "      <td>11</td>\n",
       "      <td>11</td>\n",
       "      <td>26</td>\n",
       "      <td>2827</td>\n",
       "    </tr>\n",
       "    <tr>\n",
       "      <td>6</td>\n",
       "      <td>6</td>\n",
       "      <td>26</td>\n",
       "      <td>3026</td>\n",
       "    </tr>\n",
       "    <tr>\n",
       "      <td>4</td>\n",
       "      <td>1</td>\n",
       "      <td>101</td>\n",
       "      <td>3072</td>\n",
       "    </tr>\n",
       "    <tr>\n",
       "      <td>3</td>\n",
       "      <td>1</td>\n",
       "      <td>76</td>\n",
       "      <td>3247</td>\n",
       "    </tr>\n",
       "    <tr>\n",
       "      <td>2</td>\n",
       "      <td>1</td>\n",
       "      <td>51</td>\n",
       "      <td>3492</td>\n",
       "    </tr>\n",
       "    <tr>\n",
       "      <td>1</td>\n",
       "      <td>1</td>\n",
       "      <td>26</td>\n",
       "      <td>3862</td>\n",
       "    </tr>\n",
       "    <tr>\n",
       "      <td>15</td>\n",
       "      <td>16</td>\n",
       "      <td>1</td>\n",
       "      <td>4501</td>\n",
       "    </tr>\n",
       "    <tr>\n",
       "      <td>10</td>\n",
       "      <td>11</td>\n",
       "      <td>1</td>\n",
       "      <td>4505</td>\n",
       "    </tr>\n",
       "    <tr>\n",
       "      <td>5</td>\n",
       "      <td>6</td>\n",
       "      <td>1</td>\n",
       "      <td>4516</td>\n",
       "    </tr>\n",
       "    <tr>\n",
       "      <td>0</td>\n",
       "      <td>1</td>\n",
       "      <td>1</td>\n",
       "      <td>4561</td>\n",
       "    </tr>\n",
       "  </tbody>\n",
       "</table>\n",
       "</div>"
      ],
      "text/plain": [
       "   max_depth max_estimators RMSE_CB\n",
       "19        16            101    1718\n",
       "14        11            101    1797\n",
       "18        16             76    1817\n",
       "13        11             76    1899\n",
       "9          6            101    1992\n",
       "17        16             51    2076\n",
       "8          6             76    2128\n",
       "12        11             51    2152\n",
       "7          6             51    2402\n",
       "16        16             26    2771\n",
       "11        11             26    2827\n",
       "6          6             26    3026\n",
       "4          1            101    3072\n",
       "3          1             76    3247\n",
       "2          1             51    3492\n",
       "1          1             26    3862\n",
       "15        16              1    4501\n",
       "10        11              1    4505\n",
       "5          6              1    4516\n",
       "0          1              1    4561"
      ]
     },
     "execution_count": 25,
     "metadata": {},
     "output_type": "execute_result"
    }
   ],
   "source": [
    "print('Результаты обучения алгоритмом CatBoost', end = '\\n')\n",
    "result.sort_values('RMSE_CB')"
   ]
  },
  {
   "cell_type": "markdown",
   "metadata": {},
   "source": [
    "С точки зрения оптимальности (скорость и значение RMSE) наилучшей комбинацией гиперпараметров является `depth` = 11 и `n_estimators`= 101 (время обучения - 1 мин., значение RMSE = 1 797)"
   ]
  },
  {
   "cell_type": "markdown",
   "metadata": {},
   "source": [
    "#### Проверка на валидационной выборке оптимальной комбинации гиперпараметров"
   ]
  },
  {
   "cell_type": "code",
   "execution_count": 26,
   "metadata": {},
   "outputs": [
    {
     "name": "stdout",
     "output_type": "stream",
     "text": [
      "Идет обучение модели на базе алгоритма CatBoost...\n",
      "0:\tlearn: 4521.9923069\ttotal: 650ms\tremaining: 1m 5s\n",
      "20:\tlearn: 3073.7311636\ttotal: 12.8s\tremaining: 48.9s\n",
      "40:\tlearn: 2361.6223842\ttotal: 24.8s\tremaining: 36.3s\n",
      "60:\tlearn: 2034.7697043\ttotal: 36.7s\tremaining: 24.1s\n",
      "80:\tlearn: 1881.4341872\ttotal: 48.6s\tremaining: 12s\n",
      "100:\tlearn: 1801.7156397\ttotal: 1m\tremaining: 0us\n",
      "CPU times: user 57.3 s, sys: 4.83 s, total: 1min 2s\n",
      "Wall time: 1min 3s\n"
     ]
    }
   ],
   "source": [
    "%%time\n",
    "\n",
    "print(\"Идет обучение модели на базе алгоритма CatBoost...\")\n",
    "model_CB = CatBoostRegressor(loss_function=\"RMSE\", max_depth =11, n_estimators=101)\n",
    "model_CB.fit(features_train, target_train, cat_features=cat_features, verbose= 20)\n",
    "predicted_CB_valid = model_CB.predict(features_valid)\n",
    "rmse_CB = sqrt(mean_squared_error(target_valid, predicted_CB_valid))"
   ]
  },
  {
   "cell_type": "code",
   "execution_count": 27,
   "metadata": {},
   "outputs": [
    {
     "name": "stdout",
     "output_type": "stream",
     "text": [
      "\n",
      "\n",
      "Значение RMSE(CatBoost) на валидационной выборке: 1797\n"
     ]
    }
   ],
   "source": [
    "print('\\n')\n",
    "print('Значение RMSE(CatBoost) на валидационной выборке:', int(rmse_CB))"
   ]
  },
  {
   "cell_type": "markdown",
   "metadata": {},
   "source": [
    "### 2.2 Обучение модели алгоритмом LightGBM (перебор в цикле 2 гиперпараметров)"
   ]
  },
  {
   "cell_type": "markdown",
   "metadata": {},
   "source": [
    "#### Обучение"
   ]
  },
  {
   "cell_type": "code",
   "execution_count": 28,
   "metadata": {},
   "outputs": [
    {
     "name": "stdout",
     "output_type": "stream",
     "text": [
      "Идет обучение модели на базе алгоритма LightGBM ...\n",
      "max_depth            1\n",
      "max_estimators       1\n",
      "RMSE_LGBM         4457\n",
      "Name: 0, dtype: object\n",
      "max_depth            1\n",
      "max_estimators      26\n",
      "RMSE_LGBM         3168\n",
      "Name: 1, dtype: object\n",
      "max_depth            1\n",
      "max_estimators      51\n",
      "RMSE_LGBM         2803\n",
      "Name: 2, dtype: object\n",
      "max_depth            1\n",
      "max_estimators      76\n",
      "RMSE_LGBM         2613\n",
      "Name: 3, dtype: object\n",
      "max_depth            1\n",
      "max_estimators     101\n",
      "RMSE_LGBM         2504\n",
      "Name: 4, dtype: object\n",
      "max_depth            6\n",
      "max_estimators       1\n",
      "RMSE_LGBM         4279\n",
      "Name: 5, dtype: object\n",
      "max_depth            6\n",
      "max_estimators      26\n",
      "RMSE_LGBM         1982\n",
      "Name: 6, dtype: object\n",
      "max_depth            6\n",
      "max_estimators      51\n",
      "RMSE_LGBM         1804\n",
      "Name: 7, dtype: object\n",
      "max_depth            6\n",
      "max_estimators      76\n",
      "RMSE_LGBM         1752\n",
      "Name: 8, dtype: object\n",
      "max_depth            6\n",
      "max_estimators     101\n",
      "RMSE_LGBM         1725\n",
      "Name: 9, dtype: object\n",
      "max_depth           11\n",
      "max_estimators       1\n",
      "RMSE_LGBM         4277\n",
      "Name: 10, dtype: object\n",
      "max_depth           11\n",
      "max_estimators      26\n",
      "RMSE_LGBM         1965\n",
      "Name: 11, dtype: object\n",
      "max_depth           11\n",
      "max_estimators      51\n",
      "RMSE_LGBM         1778\n",
      "Name: 12, dtype: object\n",
      "max_depth           11\n",
      "max_estimators      76\n",
      "RMSE_LGBM         1725\n",
      "Name: 13, dtype: object\n",
      "max_depth           11\n",
      "max_estimators     101\n",
      "RMSE_LGBM         1700\n",
      "Name: 14, dtype: object\n",
      "max_depth           16\n",
      "max_estimators       1\n",
      "RMSE_LGBM         4277\n",
      "Name: 15, dtype: object\n",
      "max_depth           16\n",
      "max_estimators      26\n",
      "RMSE_LGBM         1965\n",
      "Name: 16, dtype: object\n",
      "max_depth           16\n",
      "max_estimators      51\n",
      "RMSE_LGBM         1782\n",
      "Name: 17, dtype: object\n",
      "max_depth           16\n",
      "max_estimators      76\n",
      "RMSE_LGBM         1729\n",
      "Name: 18, dtype: object\n",
      "max_depth           16\n",
      "max_estimators     101\n",
      "RMSE_LGBM         1704\n",
      "Name: 19, dtype: object\n",
      "CPU times: user 1min 8s, sys: 114 ms, total: 1min 8s\n",
      "Wall time: 1min 9s\n"
     ]
    }
   ],
   "source": [
    "%%time\n",
    "\n",
    "result = pd.DataFrame(columns=['max_depth','max_estimators', 'RMSE_LGBM'])\n",
    "print(\"Идет обучение модели на базе алгоритма LightGBM ...\")\n",
    "\n",
    "i=0\n",
    "for max_depth in range(1,17,5):\n",
    "    for max_estimators in range(1,102,25):\n",
    "        model_LGBM = LGBMRegressor(loss_function=\"RMSE\", max_depth = max_depth, n_estimators= max_estimators)\n",
    "        model_LGBM.fit(features_train, target_train)\n",
    "        predicted_LGBM_valid = model_LGBM.predict(features_valid)\n",
    "        rmse_LGBM = sqrt(mean_squared_error(target_valid, predicted_LGBM_valid))\n",
    "        result.loc[i] = [max_depth, int(max_estimators), int(rmse_LGBM)]\n",
    "        print(result.loc[i])\n",
    "        i+=1"
   ]
  },
  {
   "cell_type": "code",
   "execution_count": 29,
   "metadata": {},
   "outputs": [
    {
     "name": "stdout",
     "output_type": "stream",
     "text": [
      "Результаты обучения алгоритмом LightGBM\n"
     ]
    },
    {
     "data": {
      "text/html": [
       "<div>\n",
       "<style scoped>\n",
       "    .dataframe tbody tr th:only-of-type {\n",
       "        vertical-align: middle;\n",
       "    }\n",
       "\n",
       "    .dataframe tbody tr th {\n",
       "        vertical-align: top;\n",
       "    }\n",
       "\n",
       "    .dataframe thead th {\n",
       "        text-align: right;\n",
       "    }\n",
       "</style>\n",
       "<table border=\"1\" class=\"dataframe\">\n",
       "  <thead>\n",
       "    <tr style=\"text-align: right;\">\n",
       "      <th></th>\n",
       "      <th>max_depth</th>\n",
       "      <th>max_estimators</th>\n",
       "      <th>RMSE_LGBM</th>\n",
       "    </tr>\n",
       "  </thead>\n",
       "  <tbody>\n",
       "    <tr>\n",
       "      <td>14</td>\n",
       "      <td>11</td>\n",
       "      <td>101</td>\n",
       "      <td>1700</td>\n",
       "    </tr>\n",
       "    <tr>\n",
       "      <td>19</td>\n",
       "      <td>16</td>\n",
       "      <td>101</td>\n",
       "      <td>1704</td>\n",
       "    </tr>\n",
       "    <tr>\n",
       "      <td>13</td>\n",
       "      <td>11</td>\n",
       "      <td>76</td>\n",
       "      <td>1725</td>\n",
       "    </tr>\n",
       "    <tr>\n",
       "      <td>9</td>\n",
       "      <td>6</td>\n",
       "      <td>101</td>\n",
       "      <td>1725</td>\n",
       "    </tr>\n",
       "    <tr>\n",
       "      <td>18</td>\n",
       "      <td>16</td>\n",
       "      <td>76</td>\n",
       "      <td>1729</td>\n",
       "    </tr>\n",
       "    <tr>\n",
       "      <td>8</td>\n",
       "      <td>6</td>\n",
       "      <td>76</td>\n",
       "      <td>1752</td>\n",
       "    </tr>\n",
       "    <tr>\n",
       "      <td>12</td>\n",
       "      <td>11</td>\n",
       "      <td>51</td>\n",
       "      <td>1778</td>\n",
       "    </tr>\n",
       "    <tr>\n",
       "      <td>17</td>\n",
       "      <td>16</td>\n",
       "      <td>51</td>\n",
       "      <td>1782</td>\n",
       "    </tr>\n",
       "    <tr>\n",
       "      <td>7</td>\n",
       "      <td>6</td>\n",
       "      <td>51</td>\n",
       "      <td>1804</td>\n",
       "    </tr>\n",
       "    <tr>\n",
       "      <td>11</td>\n",
       "      <td>11</td>\n",
       "      <td>26</td>\n",
       "      <td>1965</td>\n",
       "    </tr>\n",
       "    <tr>\n",
       "      <td>16</td>\n",
       "      <td>16</td>\n",
       "      <td>26</td>\n",
       "      <td>1965</td>\n",
       "    </tr>\n",
       "    <tr>\n",
       "      <td>6</td>\n",
       "      <td>6</td>\n",
       "      <td>26</td>\n",
       "      <td>1982</td>\n",
       "    </tr>\n",
       "    <tr>\n",
       "      <td>4</td>\n",
       "      <td>1</td>\n",
       "      <td>101</td>\n",
       "      <td>2504</td>\n",
       "    </tr>\n",
       "    <tr>\n",
       "      <td>3</td>\n",
       "      <td>1</td>\n",
       "      <td>76</td>\n",
       "      <td>2613</td>\n",
       "    </tr>\n",
       "    <tr>\n",
       "      <td>2</td>\n",
       "      <td>1</td>\n",
       "      <td>51</td>\n",
       "      <td>2803</td>\n",
       "    </tr>\n",
       "    <tr>\n",
       "      <td>1</td>\n",
       "      <td>1</td>\n",
       "      <td>26</td>\n",
       "      <td>3168</td>\n",
       "    </tr>\n",
       "    <tr>\n",
       "      <td>10</td>\n",
       "      <td>11</td>\n",
       "      <td>1</td>\n",
       "      <td>4277</td>\n",
       "    </tr>\n",
       "    <tr>\n",
       "      <td>15</td>\n",
       "      <td>16</td>\n",
       "      <td>1</td>\n",
       "      <td>4277</td>\n",
       "    </tr>\n",
       "    <tr>\n",
       "      <td>5</td>\n",
       "      <td>6</td>\n",
       "      <td>1</td>\n",
       "      <td>4279</td>\n",
       "    </tr>\n",
       "    <tr>\n",
       "      <td>0</td>\n",
       "      <td>1</td>\n",
       "      <td>1</td>\n",
       "      <td>4457</td>\n",
       "    </tr>\n",
       "  </tbody>\n",
       "</table>\n",
       "</div>"
      ],
      "text/plain": [
       "   max_depth max_estimators RMSE_LGBM\n",
       "14        11            101      1700\n",
       "19        16            101      1704\n",
       "13        11             76      1725\n",
       "9          6            101      1725\n",
       "18        16             76      1729\n",
       "8          6             76      1752\n",
       "12        11             51      1778\n",
       "17        16             51      1782\n",
       "7          6             51      1804\n",
       "11        11             26      1965\n",
       "16        16             26      1965\n",
       "6          6             26      1982\n",
       "4          1            101      2504\n",
       "3          1             76      2613\n",
       "2          1             51      2803\n",
       "1          1             26      3168\n",
       "10        11              1      4277\n",
       "15        16              1      4277\n",
       "5          6              1      4279\n",
       "0          1              1      4457"
      ]
     },
     "execution_count": 29,
     "metadata": {},
     "output_type": "execute_result"
    }
   ],
   "source": [
    "print('Результаты обучения алгоритмом LightGBM', end = '\\n')\n",
    "result.sort_values('RMSE_LGBM')"
   ]
  },
  {
   "cell_type": "markdown",
   "metadata": {},
   "source": [
    "Наилучшей комбинацией гиперпараметров является `depth` = 11 и `n_estimators`= 101 (значение RMSE = 1 700)"
   ]
  },
  {
   "cell_type": "markdown",
   "metadata": {},
   "source": [
    "#### Проверка на валидационной выборке оптимальной комбинации гиперпараметров"
   ]
  },
  {
   "cell_type": "code",
   "execution_count": 30,
   "metadata": {},
   "outputs": [
    {
     "name": "stdout",
     "output_type": "stream",
     "text": [
      "Идет обучение модели на базе алгоритма LightGBM...\n",
      "CPU times: user 7.01 s, sys: 46.8 ms, total: 7.06 s\n",
      "Wall time: 7.11 s\n"
     ]
    }
   ],
   "source": [
    "%%time\n",
    "\n",
    "print(\"Идет обучение модели на базе алгоритма LightGBM...\")\n",
    "model_LGBM = LGBMRegressor(loss_function=\"RMSE\", max_depth =11, n_estimators=101)\n",
    "model_LGBM.fit(features_train, target_train)\n",
    "predicted_LGBM_valid = model_LGBM.predict(features_valid)\n",
    "rmse_LGBM = sqrt(mean_squared_error(target_valid, predicted_LGBM_valid))"
   ]
  },
  {
   "cell_type": "code",
   "execution_count": 31,
   "metadata": {},
   "outputs": [
    {
     "name": "stdout",
     "output_type": "stream",
     "text": [
      "\n",
      "\n",
      "Значение RMSE(LightGBM) на валидационной выборке: 1700\n"
     ]
    }
   ],
   "source": [
    "print('\\n')\n",
    "print('Значение RMSE(LightGBM) на валидационной выборке:', int(rmse_LGBM))"
   ]
  },
  {
   "cell_type": "markdown",
   "metadata": {},
   "source": [
    "### 2.3 Обучение модели алгоритмом LinearRegression\n",
    "\n",
    "Для сравнения проанализируем результаты применения одного из простейших алгоритмов - LinearRegression"
   ]
  },
  {
   "cell_type": "markdown",
   "metadata": {},
   "source": [
    "#### Обучение"
   ]
  },
  {
   "cell_type": "code",
   "execution_count": 32,
   "metadata": {},
   "outputs": [
    {
     "name": "stdout",
     "output_type": "stream",
     "text": [
      "CPU times: user 94.6 ms, sys: 50 ms, total: 145 ms\n",
      "Wall time: 105 ms\n"
     ]
    }
   ],
   "source": [
    "%%time\n",
    "\n",
    "model_LR = LinearRegression()\n",
    "model_LR.fit(features_train, target_train)\n",
    "predicted_LR_train = model_LR.predict(features_train)\n",
    "rmse_LR = sqrt(mean_squared_error(target_train, predicted_LR_train))"
   ]
  },
  {
   "cell_type": "code",
   "execution_count": 33,
   "metadata": {},
   "outputs": [
    {
     "name": "stdout",
     "output_type": "stream",
     "text": [
      "RMSE (LinearRegression): 2977\n"
     ]
    }
   ],
   "source": [
    "print('RMSE (LinearRegression):',int(rmse_LR))"
   ]
  },
  {
   "cell_type": "markdown",
   "metadata": {},
   "source": [
    "#### Проверка на валидационной выборке"
   ]
  },
  {
   "cell_type": "code",
   "execution_count": 34,
   "metadata": {},
   "outputs": [
    {
     "name": "stdout",
     "output_type": "stream",
     "text": [
      "CPU times: user 73.3 ms, sys: 28 ms, total: 101 ms\n",
      "Wall time: 99.2 ms\n"
     ]
    }
   ],
   "source": [
    "%%time\n",
    "\n",
    "model_LR.fit(features_train, target_train)\n",
    "predicted_LR_valid = model_LR.predict(features_valid)\n",
    "rmse_LR = sqrt(mean_squared_error(target_valid, predicted_LR_valid))"
   ]
  },
  {
   "cell_type": "code",
   "execution_count": 35,
   "metadata": {},
   "outputs": [
    {
     "name": "stdout",
     "output_type": "stream",
     "text": [
      "\n",
      "\n",
      "Значение RMSE(LinearRegression) на валидационной выборке: 2964\n"
     ]
    }
   ],
   "source": [
    "print('\\n')\n",
    "print('Значение RMSE(LinearRegression) на валидационной выборке:', int(rmse_LR))"
   ]
  },
  {
   "cell_type": "markdown",
   "metadata": {},
   "source": [
    "RMSE значительно хуже чем у алгоритмов градиентного бустинга"
   ]
  },
  {
   "cell_type": "markdown",
   "metadata": {},
   "source": [
    "# 2. Обучение моделей. Выводы.\n",
    "\n",
    "- для обучения были применены алгоритмы: `CatBoost`, `LightGBM`\n",
    "- выбраны оптимальные, с точки зрения скорости обучения и точности, гиперпараметры. А именно:\n",
    "    - для `CatBoost`: `depth` = 11, `n_estimators` = 101\n",
    "    - для `LightGBM`: `depth` = 11, `n_estimators` = 101"
   ]
  },
  {
   "cell_type": "markdown",
   "metadata": {},
   "source": [
    "# 3. Анализ моделей"
   ]
  },
  {
   "cell_type": "markdown",
   "metadata": {},
   "source": [
    "#### Применяем обученную на оптимальных гиперпараметрах, алгоритмом CatBoost, модель к тестовой выборке"
   ]
  },
  {
   "cell_type": "code",
   "execution_count": 36,
   "metadata": {},
   "outputs": [
    {
     "name": "stdout",
     "output_type": "stream",
     "text": [
      "RMSE(CatBoost) на тестовой выборке: 1842 \n",
      "\n",
      "CPU times: user 210 ms, sys: 13.4 ms, total: 223 ms\n",
      "Wall time: 208 ms\n"
     ]
    }
   ],
   "source": [
    "%%time\n",
    "\n",
    "predict_CB_test = model_CB.predict(features_test)\n",
    "rmse_CB = sqrt(mean_squared_error(target_test, predict_CB_test))\n",
    "print('RMSE(CatBoost) на тестовой выборке:',int(rmse_CB), '\\n')"
   ]
  },
  {
   "cell_type": "markdown",
   "metadata": {},
   "source": [
    "#### Применяем обученную на оптимальных гиперпараметрах, алгоритмом LightGBM, модель к тестовой выборке"
   ]
  },
  {
   "cell_type": "code",
   "execution_count": 37,
   "metadata": {},
   "outputs": [
    {
     "name": "stdout",
     "output_type": "stream",
     "text": [
      "RMSE(LightGBM) на тестовой выборке: 1735 \n",
      "\n",
      "CPU times: user 471 ms, sys: 0 ns, total: 471 ms\n",
      "Wall time: 490 ms\n"
     ]
    }
   ],
   "source": [
    "%%time\n",
    "\n",
    "pred_LGBM_test = model_LGBM.predict(features_test)\n",
    "rmse_LGBM = sqrt(mean_squared_error(target_test, pred_LGBM_test))\n",
    "print('RMSE(LightGBM) на тестовой выборке:',int(rmse_LGBM), '\\n')"
   ]
  },
  {
   "cell_type": "markdown",
   "metadata": {},
   "source": [
    "#### Применяем обученную, алгоритмом LinearRegression, модель к тестовой выборке"
   ]
  },
  {
   "cell_type": "code",
   "execution_count": 38,
   "metadata": {},
   "outputs": [
    {
     "name": "stdout",
     "output_type": "stream",
     "text": [
      "RMSE(LinearRegression) на тестовой выборке: 3006 \n",
      "\n",
      "CPU times: user 7.25 ms, sys: 9.84 ms, total: 17.1 ms\n",
      "Wall time: 4.81 ms\n"
     ]
    }
   ],
   "source": [
    "%%time\n",
    "\n",
    "pred_LR_test = model_LR.predict(features_test)\n",
    "rmse_LR = sqrt(mean_squared_error(target_test, pred_LR_test))\n",
    "print('RMSE(LinearRegression) на тестовой выборке:',int(rmse_LR), '\\n')"
   ]
  },
  {
   "cell_type": "markdown",
   "metadata": {},
   "source": [
    "#### Сравниваем поученные метрики RMSE с метрикой модели, где все значения средние по целевому признаку"
   ]
  },
  {
   "cell_type": "code",
   "execution_count": 39,
   "metadata": {},
   "outputs": [
    {
     "name": "stdout",
     "output_type": "stream",
     "text": [
      "RMSE(константная модель) на тестовой выборке 4649 \n",
      "\n",
      "CPU times: user 15.3 ms, sys: 1.48 ms, total: 16.8 ms\n",
      "Wall time: 2.5 ms\n"
     ]
    }
   ],
   "source": [
    "%%time\n",
    "\n",
    "mean = target_train.mean()\n",
    "lenght = features_test.shape[0]\n",
    "const_predictions = np.full((lenght,1), mean)\n",
    "const_rmse = sqrt(mean_squared_error(const_predictions, target_test))\n",
    "print('RMSE(константная модель) на тестовой выборке', int(const_rmse), '\\n')"
   ]
  },
  {
   "cell_type": "markdown",
   "metadata": {},
   "source": [
    "# 3. Анализ моделей. Выводы.\n",
    "\n",
    "- выбраны оптимальные, с точки зрения скорости обучения и точности, гиперпараметры. А именно:\n",
    "    - для `CatBoost`: `depth` = 11, `n_estimators` = 101 (скорость обучения - 1 мин 02 сек., RMSE = 1 797)\n",
    "    - для `LightGBM`: `depth` = 11, `n_estimators` = 101 (скорость обучения - 7,06 сек., RMSE = 1 700)\n",
    "- алгоритм `CatBoost` способен на большую точность, но скорость обучения при этом значительно снижается\n",
    "- для сравнения были проанализированы результаты работы одного из простейших алгоритмов - `LinearRegression` Алгоритм показал значительно худший показатель RMSE = 2 964\n",
    "- на тестовой выборке лучший результат показал алгоритм `LightGBM` (RMSE = 1 735)\n",
    "- результат алгоритма `CatBoost` чуть хуже (RMSE = 1 842)\n",
    "- результат алгоритма `LinearRegression` самый низкий из тестируемых (RMSE = 3 006)\n",
    "- обе модели градиентного бустинга работают значительно лучше чем константная модель на основе средних значений (RMSE = 4 649)"
   ]
  },
  {
   "cell_type": "markdown",
   "metadata": {},
   "source": [
    "# Общий вывод.\n",
    "\n",
    "\n",
    "### Цель исследования\n",
    "\n",
    "На основании имеющегося датасета с техническими характеристиками автомобилей построить модель, предсказывающую стоимость автомобиля по его тех.характеристикам с оптимальной скоростью и качеством предсказания.\n",
    "\n",
    "### Описание исследования\n",
    "\n",
    "- для исследования был представлен датасет с 16 признаками (среди них \"Price\" - целевой) и 354 369 атрибутами\n",
    "- при подготовке исходных данных были удалены пропуски, дубликаты, аномальные выбросы по числовым признакам\n",
    "- при подготовке датасета категориальные признаки были переведены в формат `int`, с помощью метода preprocessing.LabelEncoder() библиотеки sclearn\n",
    "- численные признаки были масштабированы\n",
    "- для обучения модели были выбраны алгоритмы градиентного бустинга `CatBoost`, `LightGBM` и `LinearRegression`\n",
    "- для выбора оптимальных значений гиперпарамтров, для обоих алгоритмов градиентного бустинга, было организовано обучение модели посредством циклов\n",
    "- реальное время работы алгоритмов, в заданных циклах для гиперпараметров, на тренинговой выборке составило:\n",
    "    - CatBoost = 18 мин 11 сек\n",
    "    - LightGBM = 1 мин 08 сек\n",
    "    - LinearRegression = 0,145 сек\n",
    "- проведено сравнение эффективности работы моделей с константной моделью на основе среднего значения целевого признака\n",
    "    \n",
    "### Результаты\n",
    "\n",
    "В результате применения оптимальных значений для гиперпараметров были получены следующие результаты на тестовой выборке:\n",
    "\n",
    "- LightGBM: depth = 11, n_estimators = 101, RMSE LightGBM = 1 735, real running time= 0,471 сек\n",
    "- CatBoost: depth = 11, n_estimators = 101, RMSE CatBoost = 1 842, real running time= 0,223 сек\n",
    "- LinearRegression: RMSE LinearRegression = 3 006, real running time= 0,017 сек\n",
    "\n",
    "Таким образом, наиболее подходящим, с учетом требований Заказчика относительно оптимальной скорости и точности, является алгоритм `LightGBM`, как более точный и значительно более быстрый в плане времени обучения. Алгоритм `CatBoost` сопоставим по точности, но объективно проигрывает в плане времени обучения.\n",
    "\n",
    "\n",
    "===================================================================================================================\n",
    "\n",
    "#### Благодарю за внимание.\n"
   ]
  }
 ],
 "metadata": {
  "kernelspec": {
   "display_name": "Python 3",
   "language": "python",
   "name": "python3"
  },
  "language_info": {
   "codemirror_mode": {
    "name": "ipython",
    "version": 3
   },
   "file_extension": ".py",
   "mimetype": "text/x-python",
   "name": "python",
   "nbconvert_exporter": "python",
   "pygments_lexer": "ipython3",
   "version": "3.7.0"
  },
  "toc": {
   "base_numbering": 1,
   "nav_menu": {},
   "number_sections": true,
   "sideBar": true,
   "skip_h1_title": true,
   "title_cell": "Table of Contents",
   "title_sidebar": "Contents",
   "toc_cell": false,
   "toc_position": {},
   "toc_section_display": true,
   "toc_window_display": false
  }
 },
 "nbformat": 4,
 "nbformat_minor": 2
}
