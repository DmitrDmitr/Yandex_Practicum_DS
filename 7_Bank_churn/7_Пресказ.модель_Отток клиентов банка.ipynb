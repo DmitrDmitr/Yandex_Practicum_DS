{
 "cells": [
  {
   "cell_type": "markdown",
   "metadata": {},
   "source": [
    "## Описание проекта\n",
    "\n",
    "Из банка стали уходить клиенты. Банковские маркетологи посчитали: сохранять текущих клиентов дешевле, чем привлекать новых.\n",
    "\n",
    "Задача - спрогнозировать, уйдёт клиент из банка в ближайшее время или нет. В наличии исторические данные о поведении клиентов и расторжении договоров с банком.\n",
    "\n",
    "Необходимо построить модель с предельно большим значением F1-меры (не менее 0.59). Проверить F1-меру на тестовой выборке.\n",
    "\n",
    "Дополнительно измерить AUC-ROC, сравнивая её значение с F1-мерой.\n",
    "\n",
    "## Инструкция по выполнению проекта\n",
    "\n",
    "* \t\tЗагрузите и подготовьте данные. Поясните порядок действий.\n",
    "* \t\tИсследуйте баланс классов, обучите модель без учёта дисбаланса. Кратко опишите выводы.\n",
    "* \t\tУлучшите качество модели, учитывая дисбаланс классов. Обучите разные модели и найдите лучшую. Кратко опишите выводы.\n",
    "* \t\tПроведите финальное тестирование.\n",
    "\n",
    "## Описание данных\n",
    "\n",
    "Источник данных: https://www.kaggle.com/barelydedicated/bank-customer-churn-modeling\n",
    "\n",
    "## Признаки\n",
    "\n",
    "* \t\tRowNumber — индекс строки в данных\n",
    "* \t\tCustomerId — уникальный идентификатор клиента\n",
    "* \t\tSurname — фамилия\n",
    "* \t\tCreditScore — кредитный рейтинг\n",
    "* \t\tGeography — страна проживания\n",
    "* \t\tGender — пол\n",
    "* \t\tAge — возраст\n",
    "* \t\tTenure — количество недвижимости у клиента\n",
    "* \t\tBalance — баланс на счёте\n",
    "* \t\tNumOfProducts — количество продуктов банка, используемых клиентом\n",
    "* \t\tHasCrCard — наличие кредитной карты\n",
    "* \t\tIsActiveMember — активность клиента\n",
    "* \t\tEstimatedSalary — предполагаемая зарплата\n",
    "\n",
    "## Целевой признак\n",
    "\n",
    "* \t\tExited — факт ухода клиента\n"
   ]
  },
  {
   "cell_type": "markdown",
   "metadata": {},
   "source": [
    "==================================================================================================================="
   ]
  },
  {
   "cell_type": "markdown",
   "metadata": {},
   "source": [
    "# 1. Подготовка данных"
   ]
  },
  {
   "cell_type": "code",
   "execution_count": 1,
   "metadata": {},
   "outputs": [
    {
     "name": "stdout",
     "output_type": "stream",
     "text": [
      "INFO\n",
      "<class 'pandas.core.frame.DataFrame'>\n",
      "RangeIndex: 10000 entries, 0 to 9999\n",
      "Data columns (total 14 columns):\n",
      " #   Column           Non-Null Count  Dtype  \n",
      "---  ------           --------------  -----  \n",
      " 0   RowNumber        10000 non-null  int64  \n",
      " 1   CustomerId       10000 non-null  int64  \n",
      " 2   Surname          10000 non-null  object \n",
      " 3   CreditScore      10000 non-null  int64  \n",
      " 4   Geography        10000 non-null  object \n",
      " 5   Gender           10000 non-null  object \n",
      " 6   Age              10000 non-null  int64  \n",
      " 7   Tenure           9091 non-null   float64\n",
      " 8   Balance          10000 non-null  float64\n",
      " 9   NumOfProducts    10000 non-null  int64  \n",
      " 10  HasCrCard        10000 non-null  int64  \n",
      " 11  IsActiveMember   10000 non-null  int64  \n",
      " 12  EstimatedSalary  10000 non-null  float64\n",
      " 13  Exited           10000 non-null  int64  \n",
      "dtypes: float64(3), int64(8), object(3)\n",
      "memory usage: 1.1+ MB\n"
     ]
    },
    {
     "data": {
      "text/plain": [
       "None"
      ]
     },
     "metadata": {},
     "output_type": "display_data"
    },
    {
     "name": "stdout",
     "output_type": "stream",
     "text": [
      "HEAD 10\n"
     ]
    },
    {
     "data": {
      "text/html": [
       "<div>\n",
       "<style scoped>\n",
       "    .dataframe tbody tr th:only-of-type {\n",
       "        vertical-align: middle;\n",
       "    }\n",
       "\n",
       "    .dataframe tbody tr th {\n",
       "        vertical-align: top;\n",
       "    }\n",
       "\n",
       "    .dataframe thead th {\n",
       "        text-align: right;\n",
       "    }\n",
       "</style>\n",
       "<table border=\"1\" class=\"dataframe\">\n",
       "  <thead>\n",
       "    <tr style=\"text-align: right;\">\n",
       "      <th></th>\n",
       "      <th>RowNumber</th>\n",
       "      <th>CustomerId</th>\n",
       "      <th>Surname</th>\n",
       "      <th>CreditScore</th>\n",
       "      <th>Geography</th>\n",
       "      <th>Gender</th>\n",
       "      <th>Age</th>\n",
       "      <th>Tenure</th>\n",
       "      <th>Balance</th>\n",
       "      <th>NumOfProducts</th>\n",
       "      <th>HasCrCard</th>\n",
       "      <th>IsActiveMember</th>\n",
       "      <th>EstimatedSalary</th>\n",
       "      <th>Exited</th>\n",
       "    </tr>\n",
       "  </thead>\n",
       "  <tbody>\n",
       "    <tr>\n",
       "      <th>0</th>\n",
       "      <td>1</td>\n",
       "      <td>15634602</td>\n",
       "      <td>Hargrave</td>\n",
       "      <td>619</td>\n",
       "      <td>France</td>\n",
       "      <td>Female</td>\n",
       "      <td>42</td>\n",
       "      <td>2.0</td>\n",
       "      <td>0.00</td>\n",
       "      <td>1</td>\n",
       "      <td>1</td>\n",
       "      <td>1</td>\n",
       "      <td>101348.88</td>\n",
       "      <td>1</td>\n",
       "    </tr>\n",
       "    <tr>\n",
       "      <th>1</th>\n",
       "      <td>2</td>\n",
       "      <td>15647311</td>\n",
       "      <td>Hill</td>\n",
       "      <td>608</td>\n",
       "      <td>Spain</td>\n",
       "      <td>Female</td>\n",
       "      <td>41</td>\n",
       "      <td>1.0</td>\n",
       "      <td>83807.86</td>\n",
       "      <td>1</td>\n",
       "      <td>0</td>\n",
       "      <td>1</td>\n",
       "      <td>112542.58</td>\n",
       "      <td>0</td>\n",
       "    </tr>\n",
       "    <tr>\n",
       "      <th>2</th>\n",
       "      <td>3</td>\n",
       "      <td>15619304</td>\n",
       "      <td>Onio</td>\n",
       "      <td>502</td>\n",
       "      <td>France</td>\n",
       "      <td>Female</td>\n",
       "      <td>42</td>\n",
       "      <td>8.0</td>\n",
       "      <td>159660.80</td>\n",
       "      <td>3</td>\n",
       "      <td>1</td>\n",
       "      <td>0</td>\n",
       "      <td>113931.57</td>\n",
       "      <td>1</td>\n",
       "    </tr>\n",
       "    <tr>\n",
       "      <th>3</th>\n",
       "      <td>4</td>\n",
       "      <td>15701354</td>\n",
       "      <td>Boni</td>\n",
       "      <td>699</td>\n",
       "      <td>France</td>\n",
       "      <td>Female</td>\n",
       "      <td>39</td>\n",
       "      <td>1.0</td>\n",
       "      <td>0.00</td>\n",
       "      <td>2</td>\n",
       "      <td>0</td>\n",
       "      <td>0</td>\n",
       "      <td>93826.63</td>\n",
       "      <td>0</td>\n",
       "    </tr>\n",
       "    <tr>\n",
       "      <th>4</th>\n",
       "      <td>5</td>\n",
       "      <td>15737888</td>\n",
       "      <td>Mitchell</td>\n",
       "      <td>850</td>\n",
       "      <td>Spain</td>\n",
       "      <td>Female</td>\n",
       "      <td>43</td>\n",
       "      <td>2.0</td>\n",
       "      <td>125510.82</td>\n",
       "      <td>1</td>\n",
       "      <td>1</td>\n",
       "      <td>1</td>\n",
       "      <td>79084.10</td>\n",
       "      <td>0</td>\n",
       "    </tr>\n",
       "    <tr>\n",
       "      <th>5</th>\n",
       "      <td>6</td>\n",
       "      <td>15574012</td>\n",
       "      <td>Chu</td>\n",
       "      <td>645</td>\n",
       "      <td>Spain</td>\n",
       "      <td>Male</td>\n",
       "      <td>44</td>\n",
       "      <td>8.0</td>\n",
       "      <td>113755.78</td>\n",
       "      <td>2</td>\n",
       "      <td>1</td>\n",
       "      <td>0</td>\n",
       "      <td>149756.71</td>\n",
       "      <td>1</td>\n",
       "    </tr>\n",
       "    <tr>\n",
       "      <th>6</th>\n",
       "      <td>7</td>\n",
       "      <td>15592531</td>\n",
       "      <td>Bartlett</td>\n",
       "      <td>822</td>\n",
       "      <td>France</td>\n",
       "      <td>Male</td>\n",
       "      <td>50</td>\n",
       "      <td>7.0</td>\n",
       "      <td>0.00</td>\n",
       "      <td>2</td>\n",
       "      <td>1</td>\n",
       "      <td>1</td>\n",
       "      <td>10062.80</td>\n",
       "      <td>0</td>\n",
       "    </tr>\n",
       "    <tr>\n",
       "      <th>7</th>\n",
       "      <td>8</td>\n",
       "      <td>15656148</td>\n",
       "      <td>Obinna</td>\n",
       "      <td>376</td>\n",
       "      <td>Germany</td>\n",
       "      <td>Female</td>\n",
       "      <td>29</td>\n",
       "      <td>4.0</td>\n",
       "      <td>115046.74</td>\n",
       "      <td>4</td>\n",
       "      <td>1</td>\n",
       "      <td>0</td>\n",
       "      <td>119346.88</td>\n",
       "      <td>1</td>\n",
       "    </tr>\n",
       "    <tr>\n",
       "      <th>8</th>\n",
       "      <td>9</td>\n",
       "      <td>15792365</td>\n",
       "      <td>He</td>\n",
       "      <td>501</td>\n",
       "      <td>France</td>\n",
       "      <td>Male</td>\n",
       "      <td>44</td>\n",
       "      <td>4.0</td>\n",
       "      <td>142051.07</td>\n",
       "      <td>2</td>\n",
       "      <td>0</td>\n",
       "      <td>1</td>\n",
       "      <td>74940.50</td>\n",
       "      <td>0</td>\n",
       "    </tr>\n",
       "    <tr>\n",
       "      <th>9</th>\n",
       "      <td>10</td>\n",
       "      <td>15592389</td>\n",
       "      <td>H?</td>\n",
       "      <td>684</td>\n",
       "      <td>France</td>\n",
       "      <td>Male</td>\n",
       "      <td>27</td>\n",
       "      <td>2.0</td>\n",
       "      <td>134603.88</td>\n",
       "      <td>1</td>\n",
       "      <td>1</td>\n",
       "      <td>1</td>\n",
       "      <td>71725.73</td>\n",
       "      <td>0</td>\n",
       "    </tr>\n",
       "  </tbody>\n",
       "</table>\n",
       "</div>"
      ],
      "text/plain": [
       "   RowNumber  CustomerId   Surname  CreditScore Geography  Gender  Age  \\\n",
       "0          1    15634602  Hargrave          619    France  Female   42   \n",
       "1          2    15647311      Hill          608     Spain  Female   41   \n",
       "2          3    15619304      Onio          502    France  Female   42   \n",
       "3          4    15701354      Boni          699    France  Female   39   \n",
       "4          5    15737888  Mitchell          850     Spain  Female   43   \n",
       "5          6    15574012       Chu          645     Spain    Male   44   \n",
       "6          7    15592531  Bartlett          822    France    Male   50   \n",
       "7          8    15656148    Obinna          376   Germany  Female   29   \n",
       "8          9    15792365        He          501    France    Male   44   \n",
       "9         10    15592389        H?          684    France    Male   27   \n",
       "\n",
       "   Tenure    Balance  NumOfProducts  HasCrCard  IsActiveMember  \\\n",
       "0     2.0       0.00              1          1               1   \n",
       "1     1.0   83807.86              1          0               1   \n",
       "2     8.0  159660.80              3          1               0   \n",
       "3     1.0       0.00              2          0               0   \n",
       "4     2.0  125510.82              1          1               1   \n",
       "5     8.0  113755.78              2          1               0   \n",
       "6     7.0       0.00              2          1               1   \n",
       "7     4.0  115046.74              4          1               0   \n",
       "8     4.0  142051.07              2          0               1   \n",
       "9     2.0  134603.88              1          1               1   \n",
       "\n",
       "   EstimatedSalary  Exited  \n",
       "0        101348.88       1  \n",
       "1        112542.58       0  \n",
       "2        113931.57       1  \n",
       "3         93826.63       0  \n",
       "4         79084.10       0  \n",
       "5        149756.71       1  \n",
       "6         10062.80       0  \n",
       "7        119346.88       1  \n",
       "8         74940.50       0  \n",
       "9         71725.73       0  "
      ]
     },
     "metadata": {},
     "output_type": "display_data"
    }
   ],
   "source": [
    "# Импортируем необходимые библиотеки\n",
    "\n",
    "import pandas as pd\n",
    "import matplotlib.pyplot as plt\n",
    "from sklearn.tree import DecisionTreeClassifier\n",
    "from sklearn.ensemble import RandomForestClassifier\n",
    "from sklearn.linear_model import LogisticRegression\n",
    "from sklearn.metrics import accuracy_score\n",
    "from sklearn.metrics import confusion_matrix\n",
    "from sklearn.metrics import recall_score\n",
    "from sklearn.metrics import precision_score\n",
    "from sklearn.metrics import f1_score\n",
    "from sklearn.utils import shuffle\n",
    "from sklearn.metrics import roc_curve\n",
    "from sklearn.metrics import roc_auc_score\n",
    "from sklearn.model_selection import train_test_split\n",
    "from sklearn.preprocessing import OrdinalEncoder\n",
    "from sklearn.preprocessing import StandardScaler\n",
    "import warnings\n",
    "warnings.filterwarnings('ignore')\n",
    "\n",
    "# Читаем исходный файл\n",
    "data = pd.read_csv('/datasets/Churn.csv')\n",
    "\n",
    "# Смотрим общую информацию\n",
    "print('INFO')\n",
    "display(data.info())\n",
    "print('HEAD 10')\n",
    "display(data.head(10))"
   ]
  },
  {
   "cell_type": "markdown",
   "metadata": {},
   "source": [
    "В датасете присутствуют данные, которые не понадобятся нам для построения модели ( столбцы: `RowNumber`, `CustomerID`, `Surname`), так как не влияют на качество будущей модели. Удалим их."
   ]
  },
  {
   "cell_type": "code",
   "execution_count": 2,
   "metadata": {},
   "outputs": [],
   "source": [
    "data = data.iloc[:,3:14]"
   ]
  },
  {
   "cell_type": "code",
   "execution_count": 3,
   "metadata": {},
   "outputs": [
    {
     "name": "stdout",
     "output_type": "stream",
     "text": [
      "data.isnull(): \n",
      " CreditScore          0\n",
      "Geography            0\n",
      "Gender               0\n",
      "Age                  0\n",
      "Tenure             909\n",
      "Balance              0\n",
      "NumOfProducts        0\n",
      "HasCrCard            0\n",
      "IsActiveMember       0\n",
      "EstimatedSalary      0\n",
      "Exited               0\n",
      "dtype: int64\n"
     ]
    }
   ],
   "source": [
    "# Проведем оценку данных на пропуски\n",
    "print(\"data.isnull():\",'\\n', data.isnull().sum())"
   ]
  },
  {
   "cell_type": "markdown",
   "metadata": {},
   "source": [
    "В столбце `Tenure`(кол-во недвижимости у клиента) наблюдается значительное количество пропусков. В связи с достаточно весомым количеством пропусков, просто удалить такие записи будет расточительно - заменим пропуски медианным значением. Также, тип данных в столбце (float64) неудобочитаем - поменяем на int64."
   ]
  },
  {
   "cell_type": "code",
   "execution_count": 4,
   "metadata": {},
   "outputs": [],
   "source": [
    "data['Tenure'] = data['Tenure'].fillna(data['Tenure'].median())\n",
    "data['Tenure'] = data['Tenure'].astype('int')"
   ]
  },
  {
   "cell_type": "code",
   "execution_count": 5,
   "metadata": {},
   "outputs": [
    {
     "name": "stdout",
     "output_type": "stream",
     "text": [
      "<class 'pandas.core.frame.DataFrame'>\n",
      "RangeIndex: 10000 entries, 0 to 9999\n",
      "Data columns (total 11 columns):\n",
      " #   Column           Non-Null Count  Dtype  \n",
      "---  ------           --------------  -----  \n",
      " 0   CreditScore      10000 non-null  int64  \n",
      " 1   Geography        10000 non-null  object \n",
      " 2   Gender           10000 non-null  object \n",
      " 3   Age              10000 non-null  int64  \n",
      " 4   Tenure           10000 non-null  int64  \n",
      " 5   Balance          10000 non-null  float64\n",
      " 6   NumOfProducts    10000 non-null  int64  \n",
      " 7   HasCrCard        10000 non-null  int64  \n",
      " 8   IsActiveMember   10000 non-null  int64  \n",
      " 9   EstimatedSalary  10000 non-null  float64\n",
      " 10  Exited           10000 non-null  int64  \n",
      "dtypes: float64(2), int64(7), object(2)\n",
      "memory usage: 859.5+ KB\n"
     ]
    },
    {
     "data": {
      "text/plain": [
       "None"
      ]
     },
     "metadata": {},
     "output_type": "display_data"
    },
    {
     "name": "stdout",
     "output_type": "stream",
     "text": [
      "data.isnull(): \n",
      " CreditScore        0\n",
      "Geography          0\n",
      "Gender             0\n",
      "Age                0\n",
      "Tenure             0\n",
      "Balance            0\n",
      "NumOfProducts      0\n",
      "HasCrCard          0\n",
      "IsActiveMember     0\n",
      "EstimatedSalary    0\n",
      "Exited             0\n",
      "dtype: int64\n"
     ]
    }
   ],
   "source": [
    "# Удостоверимся в изменениях\n",
    "display(data.info())\n",
    "print(\"data.isnull():\",'\\n', data.isnull().sum())"
   ]
  },
  {
   "cell_type": "markdown",
   "metadata": {},
   "source": [
    "Воспользуемся техникой One-Hot Encoding для преобразования категориальных переменных `Geography` и `Gender`"
   ]
  },
  {
   "cell_type": "code",
   "execution_count": 6,
   "metadata": {},
   "outputs": [],
   "source": [
    "data = pd.get_dummies(data, drop_first=True)"
   ]
  },
  {
   "cell_type": "markdown",
   "metadata": {},
   "source": [
    "Проверим результат"
   ]
  },
  {
   "cell_type": "code",
   "execution_count": 7,
   "metadata": {},
   "outputs": [
    {
     "name": "stdout",
     "output_type": "stream",
     "text": [
      "<class 'pandas.core.frame.DataFrame'>\n",
      "RangeIndex: 10000 entries, 0 to 9999\n",
      "Data columns (total 12 columns):\n",
      " #   Column             Non-Null Count  Dtype  \n",
      "---  ------             --------------  -----  \n",
      " 0   CreditScore        10000 non-null  int64  \n",
      " 1   Age                10000 non-null  int64  \n",
      " 2   Tenure             10000 non-null  int64  \n",
      " 3   Balance            10000 non-null  float64\n",
      " 4   NumOfProducts      10000 non-null  int64  \n",
      " 5   HasCrCard          10000 non-null  int64  \n",
      " 6   IsActiveMember     10000 non-null  int64  \n",
      " 7   EstimatedSalary    10000 non-null  float64\n",
      " 8   Exited             10000 non-null  int64  \n",
      " 9   Geography_Germany  10000 non-null  uint8  \n",
      " 10  Geography_Spain    10000 non-null  uint8  \n",
      " 11  Gender_Male        10000 non-null  uint8  \n",
      "dtypes: float64(2), int64(7), uint8(3)\n",
      "memory usage: 732.5 KB\n"
     ]
    },
    {
     "data": {
      "text/plain": [
       "None"
      ]
     },
     "metadata": {},
     "output_type": "display_data"
    },
    {
     "data": {
      "text/html": [
       "<div>\n",
       "<style scoped>\n",
       "    .dataframe tbody tr th:only-of-type {\n",
       "        vertical-align: middle;\n",
       "    }\n",
       "\n",
       "    .dataframe tbody tr th {\n",
       "        vertical-align: top;\n",
       "    }\n",
       "\n",
       "    .dataframe thead th {\n",
       "        text-align: right;\n",
       "    }\n",
       "</style>\n",
       "<table border=\"1\" class=\"dataframe\">\n",
       "  <thead>\n",
       "    <tr style=\"text-align: right;\">\n",
       "      <th></th>\n",
       "      <th>CreditScore</th>\n",
       "      <th>Age</th>\n",
       "      <th>Tenure</th>\n",
       "      <th>Balance</th>\n",
       "      <th>NumOfProducts</th>\n",
       "      <th>HasCrCard</th>\n",
       "      <th>IsActiveMember</th>\n",
       "      <th>EstimatedSalary</th>\n",
       "      <th>Exited</th>\n",
       "      <th>Geography_Germany</th>\n",
       "      <th>Geography_Spain</th>\n",
       "      <th>Gender_Male</th>\n",
       "    </tr>\n",
       "  </thead>\n",
       "  <tbody>\n",
       "    <tr>\n",
       "      <th>0</th>\n",
       "      <td>619</td>\n",
       "      <td>42</td>\n",
       "      <td>2</td>\n",
       "      <td>0.00</td>\n",
       "      <td>1</td>\n",
       "      <td>1</td>\n",
       "      <td>1</td>\n",
       "      <td>101348.88</td>\n",
       "      <td>1</td>\n",
       "      <td>0</td>\n",
       "      <td>0</td>\n",
       "      <td>0</td>\n",
       "    </tr>\n",
       "    <tr>\n",
       "      <th>1</th>\n",
       "      <td>608</td>\n",
       "      <td>41</td>\n",
       "      <td>1</td>\n",
       "      <td>83807.86</td>\n",
       "      <td>1</td>\n",
       "      <td>0</td>\n",
       "      <td>1</td>\n",
       "      <td>112542.58</td>\n",
       "      <td>0</td>\n",
       "      <td>0</td>\n",
       "      <td>1</td>\n",
       "      <td>0</td>\n",
       "    </tr>\n",
       "    <tr>\n",
       "      <th>2</th>\n",
       "      <td>502</td>\n",
       "      <td>42</td>\n",
       "      <td>8</td>\n",
       "      <td>159660.80</td>\n",
       "      <td>3</td>\n",
       "      <td>1</td>\n",
       "      <td>0</td>\n",
       "      <td>113931.57</td>\n",
       "      <td>1</td>\n",
       "      <td>0</td>\n",
       "      <td>0</td>\n",
       "      <td>0</td>\n",
       "    </tr>\n",
       "    <tr>\n",
       "      <th>3</th>\n",
       "      <td>699</td>\n",
       "      <td>39</td>\n",
       "      <td>1</td>\n",
       "      <td>0.00</td>\n",
       "      <td>2</td>\n",
       "      <td>0</td>\n",
       "      <td>0</td>\n",
       "      <td>93826.63</td>\n",
       "      <td>0</td>\n",
       "      <td>0</td>\n",
       "      <td>0</td>\n",
       "      <td>0</td>\n",
       "    </tr>\n",
       "    <tr>\n",
       "      <th>4</th>\n",
       "      <td>850</td>\n",
       "      <td>43</td>\n",
       "      <td>2</td>\n",
       "      <td>125510.82</td>\n",
       "      <td>1</td>\n",
       "      <td>1</td>\n",
       "      <td>1</td>\n",
       "      <td>79084.10</td>\n",
       "      <td>0</td>\n",
       "      <td>0</td>\n",
       "      <td>1</td>\n",
       "      <td>0</td>\n",
       "    </tr>\n",
       "    <tr>\n",
       "      <th>5</th>\n",
       "      <td>645</td>\n",
       "      <td>44</td>\n",
       "      <td>8</td>\n",
       "      <td>113755.78</td>\n",
       "      <td>2</td>\n",
       "      <td>1</td>\n",
       "      <td>0</td>\n",
       "      <td>149756.71</td>\n",
       "      <td>1</td>\n",
       "      <td>0</td>\n",
       "      <td>1</td>\n",
       "      <td>1</td>\n",
       "    </tr>\n",
       "    <tr>\n",
       "      <th>6</th>\n",
       "      <td>822</td>\n",
       "      <td>50</td>\n",
       "      <td>7</td>\n",
       "      <td>0.00</td>\n",
       "      <td>2</td>\n",
       "      <td>1</td>\n",
       "      <td>1</td>\n",
       "      <td>10062.80</td>\n",
       "      <td>0</td>\n",
       "      <td>0</td>\n",
       "      <td>0</td>\n",
       "      <td>1</td>\n",
       "    </tr>\n",
       "    <tr>\n",
       "      <th>7</th>\n",
       "      <td>376</td>\n",
       "      <td>29</td>\n",
       "      <td>4</td>\n",
       "      <td>115046.74</td>\n",
       "      <td>4</td>\n",
       "      <td>1</td>\n",
       "      <td>0</td>\n",
       "      <td>119346.88</td>\n",
       "      <td>1</td>\n",
       "      <td>1</td>\n",
       "      <td>0</td>\n",
       "      <td>0</td>\n",
       "    </tr>\n",
       "    <tr>\n",
       "      <th>8</th>\n",
       "      <td>501</td>\n",
       "      <td>44</td>\n",
       "      <td>4</td>\n",
       "      <td>142051.07</td>\n",
       "      <td>2</td>\n",
       "      <td>0</td>\n",
       "      <td>1</td>\n",
       "      <td>74940.50</td>\n",
       "      <td>0</td>\n",
       "      <td>0</td>\n",
       "      <td>0</td>\n",
       "      <td>1</td>\n",
       "    </tr>\n",
       "    <tr>\n",
       "      <th>9</th>\n",
       "      <td>684</td>\n",
       "      <td>27</td>\n",
       "      <td>2</td>\n",
       "      <td>134603.88</td>\n",
       "      <td>1</td>\n",
       "      <td>1</td>\n",
       "      <td>1</td>\n",
       "      <td>71725.73</td>\n",
       "      <td>0</td>\n",
       "      <td>0</td>\n",
       "      <td>0</td>\n",
       "      <td>1</td>\n",
       "    </tr>\n",
       "  </tbody>\n",
       "</table>\n",
       "</div>"
      ],
      "text/plain": [
       "   CreditScore  Age  Tenure    Balance  NumOfProducts  HasCrCard  \\\n",
       "0          619   42       2       0.00              1          1   \n",
       "1          608   41       1   83807.86              1          0   \n",
       "2          502   42       8  159660.80              3          1   \n",
       "3          699   39       1       0.00              2          0   \n",
       "4          850   43       2  125510.82              1          1   \n",
       "5          645   44       8  113755.78              2          1   \n",
       "6          822   50       7       0.00              2          1   \n",
       "7          376   29       4  115046.74              4          1   \n",
       "8          501   44       4  142051.07              2          0   \n",
       "9          684   27       2  134603.88              1          1   \n",
       "\n",
       "   IsActiveMember  EstimatedSalary  Exited  Geography_Germany  \\\n",
       "0               1        101348.88       1                  0   \n",
       "1               1        112542.58       0                  0   \n",
       "2               0        113931.57       1                  0   \n",
       "3               0         93826.63       0                  0   \n",
       "4               1         79084.10       0                  0   \n",
       "5               0        149756.71       1                  0   \n",
       "6               1         10062.80       0                  0   \n",
       "7               0        119346.88       1                  1   \n",
       "8               1         74940.50       0                  0   \n",
       "9               1         71725.73       0                  0   \n",
       "\n",
       "   Geography_Spain  Gender_Male  \n",
       "0                0            0  \n",
       "1                1            0  \n",
       "2                0            0  \n",
       "3                0            0  \n",
       "4                1            0  \n",
       "5                1            1  \n",
       "6                0            1  \n",
       "7                0            0  \n",
       "8                0            1  \n",
       "9                0            1  "
      ]
     },
     "metadata": {},
     "output_type": "display_data"
    }
   ],
   "source": [
    "display(data.info())\n",
    "display(data.head(10))"
   ]
  },
  {
   "cell_type": "markdown",
   "metadata": {},
   "source": [
    "В связи с отсутствием отдельной тестовой выборки, разобъем исходный датасет на 3 части: обучающую (_train), тестовую (_test) и валидационную (_valid), в пропорции 70%/15%/15%, соответственно."
   ]
  },
  {
   "cell_type": "code",
   "execution_count": 8,
   "metadata": {},
   "outputs": [
    {
     "name": "stdout",
     "output_type": "stream",
     "text": [
      "Обучающая выборка: (7000, 12)\n",
      "Тестовая выборка: (1500, 12)\n",
      "Валидационная выборка: (1500, 12)\n"
     ]
    }
   ],
   "source": [
    "data_train, data_test = train_test_split(data, test_size=0.3, random_state=12345)\n",
    "data_test, data_valid = train_test_split(data_test, test_size=0.5, random_state=12345)\n",
    "\n",
    "# Создадим переменные для признаков и целевого признака для каждой из 3 независимых выборок\n",
    "features_test = data_test.drop(['Exited'], axis=1)\n",
    "target_test = data_test['Exited']\n",
    "features_train = data_train.drop(['Exited'], axis=1)\n",
    "target_train = data_train['Exited']\n",
    "features_valid = data_valid.drop(['Exited'], axis=1)\n",
    "target_valid = data_valid['Exited']\n",
    "\n",
    "#Проверка размерности выборок\n",
    "print(\"Обучающая выборка:\", data_train.shape)\n",
    "print(\"Тестовая выборка:\", data_test.shape)\n",
    "print(\"Валидационная выборка:\", data_valid.shape)"
   ]
  },
  {
   "cell_type": "markdown",
   "metadata": {},
   "source": [
    "Теперь выполним масштабирование ряда количественных признаков"
   ]
  },
  {
   "cell_type": "code",
   "execution_count": 9,
   "metadata": {},
   "outputs": [],
   "source": [
    "col_names = ['CreditScore', 'Tenure', 'Balance', 'Age', 'NumOfProducts', 'EstimatedSalary']\n",
    "features = data[col_names]\n",
    "scaler = StandardScaler().fit(features.values)\n",
    "features = scaler.transform(features.values)    \n",
    "data[col_names] = features"
   ]
  },
  {
   "cell_type": "markdown",
   "metadata": {},
   "source": [
    "# 1. Подготовка данных. Выводы.\n",
    "\n",
    "- исходный датафрейм представлен 10 000 записями по 14 признакам\n",
    "- наименования столбцов достаточно информативны и стандартизированы\n",
    "- признаки `RowNumber`, `CustomerId`, `Surname` были удалены в связи с их бесполезностью для обучения модели\n",
    "- в столбце Tenure(кол-во недвижимости у клиента) наблюдалось значительное количество пропусков (около 9%). Пропуски заменены на медианное значение с целью сохранения объема выборки. Тип данных изменен с float64 на int64, с целью удобочитаемости\n",
    "- датасет разделили на три независимые выборки:\n",
    "    - обучающая (70% датасета)\n",
    "    - тестовая (15% датасета)\n",
    "    - валидационная (15% датасета)\n",
    "- проведена нормализация (масштабирование) ряда количественных признаков\n",
    "\n"
   ]
  },
  {
   "cell_type": "markdown",
   "metadata": {},
   "source": [
    "# 2. Исследование задачи"
   ]
  },
  {
   "cell_type": "markdown",
   "metadata": {},
   "source": [
    "### 2.1 Исследование балансов классов"
   ]
  },
  {
   "cell_type": "markdown",
   "metadata": {},
   "source": [
    "Оценим частоту классов нашего целевого признака (`Exited`)"
   ]
  },
  {
   "cell_type": "code",
   "execution_count": 10,
   "metadata": {},
   "outputs": [
    {
     "name": "stdout",
     "output_type": "stream",
     "text": [
      "0    0.7963\n",
      "1    0.2037\n",
      "Name: Exited, dtype: float64\n"
     ]
    },
    {
     "data": {
      "image/png": "[encoded data removed]",
      "text/plain": [
       "<Figure size 432x288 with 1 Axes>"
      ]
     },
     "metadata": {
      "needs_background": "light"
     },
     "output_type": "display_data"
    }
   ],
   "source": [
    "imbalance = data['Exited'].value_counts(normalize=True)\n",
    "imbalance.plot(kind='bar')\n",
    "print(imbalance)"
   ]
  },
  {
   "cell_type": "markdown",
   "metadata": {},
   "source": [
    "Наблюдаем значительный дисбаланс (4:1) в сторону \"отрицательного\" класса (клиент не расторг договор с банком)"
   ]
  },
  {
   "cell_type": "markdown",
   "metadata": {},
   "source": [
    "### 2.2 Применение алгоритмов обучения."
   ]
  },
  {
   "cell_type": "markdown",
   "metadata": {},
   "source": [
    "#### Обучение модели методом линейного регресса. Алгоритм LogisticRegression."
   ]
  },
  {
   "cell_type": "code",
   "execution_count": 11,
   "metadata": {},
   "outputs": [
    {
     "name": "stdout",
     "output_type": "stream",
     "text": [
      "F1 = 0.036036036036036036\n",
      "AUC-ROC =  0.6475172466880255\n"
     ]
    },
    {
     "data": {
      "image/png": "[encoded data removed]",
      "text/plain": [
       "<Figure size 432x288 with 1 Axes>"
      ]
     },
     "metadata": {
      "needs_background": "light"
     },
     "output_type": "display_data"
    }
   ],
   "source": [
    "model_lr = LogisticRegression(random_state=12345, solver='liblinear')\n",
    "model_lr.fit(features_train, target_train)\n",
    "predicted_valid = model_lr.predict(features_valid)\n",
    "\n",
    "# Расчет F1 меры\n",
    "print(\"F1 =\",f1_score(target_valid, predicted_valid))\n",
    "\n",
    "probabilities_valid = model_lr.predict_proba(features_valid)\n",
    "probabilities_one_valid = probabilities_valid[:, 1]\n",
    "\n",
    "fpr, tpr, thresholds = roc_curve(target_valid, probabilities_one_valid)\n",
    "auc_roc = roc_auc_score(target_valid, probabilities_one_valid)\n",
    "print(\"AUC-ROC = \", auc_roc)\n",
    "#Строим ROC- кривую\n",
    "plt.figure()\n",
    "# Строим ROC-кривую случайной модели\n",
    "plt.plot([0, 1], [0, 1], linestyle='--')\n",
    "plt.plot(fpr, tpr)\n",
    "plt.xlim([0.0, 1.0])\n",
    "plt.ylim([0.0, 1.0])\n",
    "plt.xlabel('False Positive Rate')\n",
    "plt.ylabel('True Positive Rate')\n",
    "plt.title('ROC-кривая')\n",
    "plt.show()"
   ]
  },
  {
   "cell_type": "markdown",
   "metadata": {},
   "source": [
    "Ожидаемо низкие показатели. При дисбалансе классов логистическая регрессия предсказывает плохо."
   ]
  },
  {
   "cell_type": "markdown",
   "metadata": {},
   "source": [
    "#### Обучение модели методом Решающее дерево. Алгоритм DecisionTreeClassifier."
   ]
  },
  {
   "cell_type": "code",
   "execution_count": 12,
   "metadata": {
    "scrolled": true
   },
   "outputs": [
    {
     "name": "stdout",
     "output_type": "stream",
     "text": [
      "max_depth = 1 : F1 = 0.0 : AUC-ROC =  0.6797663634505586\n",
      "max_depth = 2 : F1 = 0.5071942446043165 : AUC-ROC =  0.7302973676736414\n",
      "max_depth = 3 : F1 = 0.42505592841163314 : AUC-ROC =  0.796603218673936\n",
      "max_depth = 4 : F1 = 0.45175438596491224 : AUC-ROC =  0.8176695271792939\n",
      "max_depth = 5 : F1 = 0.5578747628083492 : AUC-ROC =  0.8464653248004588\n",
      "max_depth = 6 : F1 = 0.49790794979079506 : AUC-ROC =  0.8445395884153221\n",
      "max_depth = 7 : F1 = 0.5180722891566265 : AUC-ROC =  0.8143157464451517\n",
      "max_depth = 8 : F1 = 0.4845995893223819 : AUC-ROC =  0.806854347439474\n",
      "max_depth = 9 : F1 = 0.5436893203883496 : AUC-ROC =  0.7938015443052088\n",
      "max_depth = 10 : F1 = 0.5215827338129496 : AUC-ROC =  0.7570984156139928\n",
      "max_depth = 11 : F1 = 0.5209790209790209 : AUC-ROC =  0.7362603818558737\n",
      "max_depth = 12 : F1 = 0.5 : AUC-ROC =  0.7183607218790728\n",
      "max_depth = 13 : F1 = 0.4834437086092716 : AUC-ROC =  0.6984264968585678\n",
      "max_depth = 14 : F1 = 0.4833333333333333 : AUC-ROC =  0.6795420702396088\n",
      "max_depth = 15 : F1 = 0.49836065573770494 : AUC-ROC =  0.6958822951698656\n",
      "max_depth = 16 : F1 = 0.4722662440570523 : AUC-ROC =  0.6639556828467453\n",
      "max_depth = 17 : F1 = 0.47244094488188976 : AUC-ROC =  0.6719121195310281\n",
      "max_depth = 18 : F1 = 0.4761904761904762 : AUC-ROC =  0.6659796304603453\n",
      "max_depth = 19 : F1 = 0.48606811145510836 : AUC-ROC =  0.6737860959444072\n",
      "max_depth = 20 : F1 = 0.4772370486656201 : AUC-ROC =  0.6697541268623637\n"
     ]
    }
   ],
   "source": [
    "# Протестируем значения max_depth от 1 до 20\n",
    "for depth in range(1, 21, 1):\n",
    "    model_dtc = DecisionTreeClassifier(random_state=12345, max_depth = depth)   \n",
    "    model_dtc.fit(features_train, target_train)\n",
    "    #Определим предсказания на валидационной выборке\n",
    "    print(\"max_depth =\", depth, \": \", end='')\n",
    "    # Рассчитаем F1 меру\n",
    "    predictions_valid_dtc = model_dtc.predict(features_valid) \n",
    "    print(\"F1 =\",f1_score(target_valid, predictions_valid_dtc), \": \", end='')\n",
    "    probabilities_valid = model_dtc.predict_proba(features_valid)\n",
    "    probabilities_one_valid = probabilities_valid[:, 1]\n",
    "    auc_roc = roc_auc_score(target_valid, probabilities_one_valid)\n",
    "    print(\"AUC-ROC = \", auc_roc)"
   ]
  },
  {
   "cell_type": "markdown",
   "metadata": {},
   "source": [
    "#### Обучение модели методом Случайный лес. Алгоритм RandomForestClassifier."
   ]
  },
  {
   "cell_type": "code",
   "execution_count": 13,
   "metadata": {},
   "outputs": [
    {
     "name": "stdout",
     "output_type": "stream",
     "text": [
      "Результаты сортировки обученных моделей\n",
      "     estimators  max_depth        F1   AUC_ROC\n",
      "226        23.0       18.0  0.567515  0.840825\n",
      "245        25.0       18.0  0.564103  0.839661\n",
      "169        17.0       18.0  0.562620  0.835151\n",
      "796        83.0       18.0  0.560636  0.852732\n",
      "587        61.0       18.0  0.559055  0.849006\n"
     ]
    }
   ],
   "source": [
    "estim_score  = pd.DataFrame(columns=['estimators', 'max_depth', 'F1', 'AUC_ROC'])\n",
    "\n",
    "for estim in range(1, 100,2):\n",
    "    for depth_rfc in range(1,20,1):\n",
    "        model_rfc = RandomForestClassifier(random_state=12345, n_estimators= estim, max_depth = depth_rfc)\n",
    "        # Обучаем модель\n",
    "        model_rfc.fit(features_train, target_train)\n",
    "        # Вычисляем предсказания на валидационной выборке\n",
    "        predictions_valid_rfc = model_rfc.predict(features_valid) \n",
    "        # Расчет F1 меры\n",
    "        predictions_valid_rfc = model_rfc.predict(features_valid) \n",
    "        f1_rfc = f1_score(target_valid, predictions_valid_rfc)\n",
    "        probabilities_valid = model_rfc.predict_proba(features_valid)\n",
    "        probabilities_one_valid = probabilities_valid[:, 1]\n",
    "        auc_roc_rfc = roc_auc_score(target_valid, probabilities_one_valid)\n",
    "\n",
    "        estim_score= estim_score.append({'estimators': estim, 'max_depth': depth_rfc, 'F1': f1_rfc , 'AUC_ROC':auc_roc_rfc}, ignore_index=True)\n",
    "\n",
    "#находим строки с максимальным значением F1\n",
    "print(\"Результаты сортировки обученных моделей\")\n",
    "print(estim_score.sort_values(by = 'F1', ascending = False).head())"
   ]
  },
  {
   "cell_type": "markdown",
   "metadata": {},
   "source": [
    "# 2. Исследование задачи. Выводы.\n",
    "\n",
    "- в целевом признаке присутствует дисбаланс 80/20 в сторону \"отрицательного\" класса (клиент не расторг договор с банком)\n",
    "\n",
    "Примененные алгоритмы обучения показали следующие результаты:\n",
    "\n",
    "- Логистическая регрессия. Алгоритм LogisticRegressior. Показал минимальное среди алгоритмов значение F1= 0.036 (AUC_ROC = 0.64)\n",
    "- Решающее дерево. Алгоритм DecisionTreeClassifier. Показал значение F1= 0.55 (AUC_ROC = 0.84) при максимальной глубине дерева max_depth = 5\n",
    "- Случайный лес. Алгоритм RandomForestClassifier. Показал максмальное среди всех алгоритмов значение F1= 0.56 (AUC_ROC = 0.84) при максимальной глубине деревьев max_depth = 18 и количеству estimators = 23\n",
    "\n",
    "Таким образом, на несбалансированых классах, оптмальным для обучения алгоритмом зарекомендовал себя алгоритм Случайный лес."
   ]
  },
  {
   "cell_type": "markdown",
   "metadata": {},
   "source": [
    "# 3. Борьба с дисбалансом"
   ]
  },
  {
   "cell_type": "markdown",
   "metadata": {},
   "source": [
    "Посмотрим как повлияет на эффективность моделей применение двух различных способов:\n",
    "- взвешивание классов\n",
    "- увеличение выборки (upsampling)"
   ]
  },
  {
   "cell_type": "markdown",
   "metadata": {},
   "source": [
    "#### Алгоритм LogisticRegression. Взвешивание классов."
   ]
  },
  {
   "cell_type": "code",
   "execution_count": 14,
   "metadata": {},
   "outputs": [
    {
     "name": "stdout",
     "output_type": "stream",
     "text": [
      "F1 = 0.4758771929824562\n",
      "AUC-ROC =  0.7336246048325233\n"
     ]
    },
    {
     "data": {
      "image/png": "[encoded data removed]",
      "text/plain": [
       "<Figure size 432x288 with 1 Axes>"
      ]
     },
     "metadata": {
      "needs_background": "light"
     },
     "output_type": "display_data"
    }
   ],
   "source": [
    "#Применим аргумент class_weight upsampling для балансировки классов\n",
    "model_lr = LogisticRegression(random_state= 12345, solver='liblinear', class_weight='balanced')\n",
    "model_lr.fit(features_train, target_train)\n",
    "predicted_valid = model_lr.predict(features_valid)\n",
    "\n",
    "# Расчет F1 меры\n",
    "print(\"F1 =\",f1_score(target_valid, predicted_valid))\n",
    "\n",
    "probabilities_valid = model_lr.predict_proba(features_valid)\n",
    "probabilities_one_valid = probabilities_valid[:, 1]\n",
    "\n",
    "fpr, tpr, thresholds = roc_curve(target_valid, probabilities_one_valid)\n",
    "auc_roc = roc_auc_score(target_valid, probabilities_one_valid)\n",
    "print(\"AUC-ROC = \", auc_roc)\n",
    "#Строим ROC- кривую\n",
    "plt.figure()\n",
    "# Строим ROC-кривую случайной модели\n",
    "plt.plot([0, 1], [0, 1], linestyle='--')\n",
    "plt.plot(fpr, tpr)\n",
    "plt.xlim([0.0, 1.0])\n",
    "plt.ylim([0.0, 1.0])\n",
    "plt.xlabel('False Positive Rate')\n",
    "plt.ylabel('True Positive Rate')\n",
    "plt.title('ROC-кривая')\n",
    "plt.show()"
   ]
  },
  {
   "cell_type": "markdown",
   "metadata": {},
   "source": [
    "#### Алгоритм LogisticRegression. Upsampling."
   ]
  },
  {
   "cell_type": "code",
   "execution_count": 15,
   "metadata": {},
   "outputs": [
    {
     "name": "stdout",
     "output_type": "stream",
     "text": [
      "F1 = 0.43912591050988553\n",
      "AUC-ROC =  0.6992347487252448\n"
     ]
    },
    {
     "data": {
      "image/png": "[encoded data removed]",
      "text/plain": [
       "<Figure size 432x288 with 1 Axes>"
      ]
     },
     "metadata": {
      "needs_background": "light"
     },
     "output_type": "display_data"
    }
   ],
   "source": [
    "#создадим функцию для применения техники upsampling\n",
    "def upsample_func(features, target, repeat):\n",
    "    features_zeros = features[target == 0]\n",
    "    features_ones = features[target == 1]\n",
    "    target_zeros = target[target == 0]\n",
    "    target_ones = target[target == 1]\n",
    "\n",
    "    features_upsampled = pd.concat([features_zeros] + [features_ones] * repeat)\n",
    "    target_upsampled = pd.concat([target_zeros] + [target_ones] * repeat)\n",
    "    \n",
    "    features_upsampled, target_upsampled = shuffle(\n",
    "        features_upsampled, target_upsampled, random_state=12345)\n",
    "    \n",
    "    return features_upsampled, target_upsampled\n",
    "\n",
    "# Вызовем функцию с аргументом repeat = 4, так как \"положительный\" класс в исходных данных представлен в 4 раза реже чем \"отрицательный\"\n",
    "features_upsampled, target_upsampled = upsample_func(features_train, target_train, 4)\n",
    "\n",
    "model_lr = LogisticRegression(random_state=12345, solver='liblinear')\n",
    "model_lr.fit(features_upsampled, target_upsampled)\n",
    "predicted_valid = model_lr.predict(features_valid)\n",
    "\n",
    "# Расчет F1 меры\n",
    "print(\"F1 =\",f1_score(target_valid, predicted_valid))\n",
    "\n",
    "probabilities_valid = model_lr.predict_proba(features_valid)\n",
    "probabilities_one_valid = probabilities_valid[:, 1]\n",
    "\n",
    "fpr, tpr, thresholds = roc_curve(target_valid, probabilities_one_valid)\n",
    "auc_roc = roc_auc_score(target_valid, probabilities_one_valid)\n",
    "print(\"AUC-ROC = \", auc_roc)\n",
    "#Строим ROC- кривую\n",
    "plt.figure()\n",
    "# Строим ROC-кривую случайной модели\n",
    "plt.plot([0, 1], [0, 1], linestyle='--')\n",
    "plt.plot(fpr, tpr)\n",
    "plt.xlim([0.0, 1.0])\n",
    "plt.ylim([0.0, 1.0])\n",
    "plt.xlabel('False Positive Rate')\n",
    "plt.ylabel('True Positive Rate')\n",
    "plt.title('ROC-кривая')\n",
    "plt.show()"
   ]
  },
  {
   "cell_type": "markdown",
   "metadata": {},
   "source": [
    "#### Алгоритм DecisionTreeClassifier. Взвешивание классов."
   ]
  },
  {
   "cell_type": "code",
   "execution_count": 16,
   "metadata": {},
   "outputs": [
    {
     "name": "stdout",
     "output_type": "stream",
     "text": [
      "max_depth = 1 : F1 = 0.4837451235370611 : AUC-ROC =  0.6797663634505586\n",
      "max_depth = 2 : F1 = 0.5132075471698112 : AUC-ROC =  0.7302973676736414\n",
      "max_depth = 3 : F1 = 0.5132075471698112 : AUC-ROC =  0.796603218673936\n",
      "max_depth = 4 : F1 = 0.5312169312169313 : AUC-ROC =  0.8179907044399438\n",
      "max_depth = 5 : F1 = 0.5815217391304347 : AUC-ROC =  0.8374843061111273\n",
      "max_depth = 6 : F1 = 0.5759036144578313 : AUC-ROC =  0.8205893204579299\n",
      "max_depth = 7 : F1 = 0.5745192307692307 : AUC-ROC =  0.8165480611245451\n",
      "max_depth = 8 : F1 = 0.5587863463969659 : AUC-ROC =  0.8003750607184283\n",
      "max_depth = 9 : F1 = 0.5562273276904474 : AUC-ROC =  0.7811548578724263\n",
      "max_depth = 10 : F1 = 0.5360303413400759 : AUC-ROC =  0.7424848502544203\n",
      "max_depth = 11 : F1 = 0.5365853658536586 : AUC-ROC =  0.7343253552193958\n",
      "max_depth = 12 : F1 = 0.5204359673024523 : AUC-ROC =  0.7282017524068388\n",
      "max_depth = 13 : F1 = 0.4936530324400564 : AUC-ROC =  0.7002221697249289\n",
      "max_depth = 14 : F1 = 0.48153618906942397 : AUC-ROC =  0.6756109667435546\n",
      "max_depth = 15 : F1 = 0.4727272727272727 : AUC-ROC =  0.6657712633945517\n",
      "max_depth = 16 : F1 = 0.48125 : AUC-ROC =  0.6682185810335538\n",
      "max_depth = 17 : F1 = 0.478330658105939 : AUC-ROC =  0.6666392383055643\n",
      "max_depth = 18 : F1 = 0.45980707395498394 : AUC-ROC =  0.6579926686645132\n",
      "max_depth = 19 : F1 = 0.45295055821371605 : AUC-ROC =  0.6530077852306239\n",
      "max_depth = 20 : F1 = 0.4538087520259319 : AUC-ROC =  0.6528870119631893\n"
     ]
    }
   ],
   "source": [
    "# Протестируем значения max_depth от 1 до 20\n",
    "for depth in range(1, 21, 1):\n",
    "    model_dtc = DecisionTreeClassifier(random_state=12345, max_depth=depth, class_weight='balanced')   \n",
    "    model_dtc.fit(features_train, target_train)\n",
    "    #Вычсляем предсказания на валидационной выборке\n",
    "    print(\"max_depth =\", depth, \": \", end='')\n",
    "# Расчет F1 меры\n",
    "    predictions_valid_dtc = model_dtc.predict(features_valid) \n",
    "    print(\"F1 =\",f1_score(target_valid, predictions_valid_dtc), \": \", end='')\n",
    "    probabilities_valid = model_dtc.predict_proba(features_valid)\n",
    "    probabilities_one_valid = probabilities_valid[:, 1]\n",
    "    auc_roc = roc_auc_score(target_valid, probabilities_one_valid)\n",
    "    print(\"AUC-ROC = \", auc_roc)"
   ]
  },
  {
   "cell_type": "markdown",
   "metadata": {},
   "source": [
    "#### Алгоритм DecisionTreeClassifier. Upsampling."
   ]
  },
  {
   "cell_type": "code",
   "execution_count": 17,
   "metadata": {},
   "outputs": [
    {
     "name": "stdout",
     "output_type": "stream",
     "text": [
      "max_depth = 1 : F1 = 0.4837451235370611 : AUC-ROC =  0.6797663634505586\n",
      "max_depth = 2 : F1 = 0.5132075471698112 : AUC-ROC =  0.7302973676736414\n",
      "max_depth = 3 : F1 = 0.5132075471698112 : AUC-ROC =  0.796603218673936\n",
      "max_depth = 4 : F1 = 0.5312169312169313 : AUC-ROC =  0.8179907044399438\n",
      "max_depth = 5 : F1 = 0.5815217391304347 : AUC-ROC =  0.8374816517536013\n",
      "max_depth = 6 : F1 = 0.5759036144578313 : AUC-ROC =  0.8205521594525654\n",
      "max_depth = 7 : F1 = 0.5745192307692307 : AUC-ROC =  0.8165480611245451\n",
      "max_depth = 8 : F1 = 0.5551330798479087 : AUC-ROC =  0.7944040834636182\n",
      "max_depth = 9 : F1 = 0.5538089480048367 : AUC-ROC =  0.7777015387310579\n",
      "max_depth = 10 : F1 = 0.5316455696202532 : AUC-ROC =  0.7392531699664755\n",
      "max_depth = 11 : F1 = 0.5482093663911846 : AUC-ROC =  0.7407104122482673\n",
      "max_depth = 12 : F1 = 0.5191256830601093 : AUC-ROC =  0.727082940709616\n",
      "max_depth = 13 : F1 = 0.5007032348804501 : AUC-ROC =  0.7042833367397587\n",
      "max_depth = 14 : F1 = 0.48511904761904767 : AUC-ROC =  0.6782401078730899\n",
      "max_depth = 15 : F1 = 0.4723926380368098 : AUC-ROC =  0.6647241193505318\n",
      "max_depth = 16 : F1 = 0.4694835680751174 : AUC-ROC =  0.6590013245244055\n",
      "max_depth = 17 : F1 = 0.47208931419457734 : AUC-ROC =  0.6622834376053448\n",
      "max_depth = 18 : F1 = 0.46029173419773095 : AUC-ROC =  0.6563761649311591\n",
      "max_depth = 19 : F1 = 0.4551495016611296 : AUC-ROC =  0.6532466774079668\n",
      "max_depth = 20 : F1 = 0.46357615894039733 : AUC-ROC =  0.6585952078229225\n"
     ]
    }
   ],
   "source": [
    "# Вызовем функцию с аргументом repeat = 4, так как \"положительный\" класс в исходных данных представлен в 4 раза реже чем \"отрицательный\"\n",
    "features_upsampled, target_upsampled = upsample_func(features_train, target_train, 4)\n",
    "\n",
    "# Протестируем значения max_depth от 1 до 20\n",
    "for depth in range(1, 21, 1):\n",
    "    model_dtc = DecisionTreeClassifier(random_state=12345, max_depth = depth)   \n",
    "    model_dtc.fit(features_upsampled, target_upsampled)\n",
    "    #Определим предсказания на валидационной выборке\n",
    "    print(\"max_depth =\", depth, \": \", end='')\n",
    "    # Рассчитаем F1 меру\n",
    "    predictions_valid_dtc = model_dtc.predict(features_valid) \n",
    "    print(\"F1 =\",f1_score(target_valid, predictions_valid_dtc), \": \", end='')\n",
    "    probabilities_valid = model_dtc.predict_proba(features_valid)\n",
    "    probabilities_one_valid = probabilities_valid[:, 1]\n",
    "    auc_roc = roc_auc_score(target_valid, probabilities_one_valid)\n",
    "    print(\"AUC-ROC = \", auc_roc)"
   ]
  },
  {
   "cell_type": "markdown",
   "metadata": {},
   "source": [
    "#### Алгоритм RandomForestClassifier. Взвешивание классов."
   ]
  },
  {
   "cell_type": "code",
   "execution_count": 18,
   "metadata": {},
   "outputs": [
    {
     "name": "stdout",
     "output_type": "stream",
     "text": [
      "Результаты сортировки обученных моделей\n",
      "     estimators  max_depth        F1   AUC_ROC\n",
      "462        49.0        7.0  0.627778  0.854499\n",
      "557        59.0        7.0  0.627558  0.854103\n",
      "139        15.0        7.0  0.626404  0.849546\n",
      "899        95.0        7.0  0.626016  0.854018\n",
      "234        25.0        7.0  0.625869  0.854788\n"
     ]
    }
   ],
   "source": [
    "estim_score  = pd.DataFrame(columns=['estimators', 'max_depth', 'F1', 'AUC_ROC'])\n",
    "\n",
    "for estim in range(1, 100,2):\n",
    "    for depth_rfc in range(1,20,1):\n",
    "        model_rfc = RandomForestClassifier(random_state=12345, n_estimators= estim, max_depth = depth_rfc, class_weight='balanced')\n",
    "        # Обучаем модель\n",
    "        model_rfc.fit(features_train, target_train)\n",
    "        # Вычисляем предсказания на валидационной выборке\n",
    "        predictions_valid_rfc = model_rfc.predict(features_valid) \n",
    "        # Расчет F1 меры\n",
    "        predictions_valid_rfc = model_rfc.predict(features_valid) \n",
    "        f1_rfc = f1_score(target_valid, predictions_valid_rfc)\n",
    "        probabilities_valid = model_rfc.predict_proba(features_valid)\n",
    "        probabilities_one_valid = probabilities_valid[:, 1]\n",
    "        auc_roc_rfc = roc_auc_score(target_valid, probabilities_one_valid)\n",
    "\n",
    "        estim_score= estim_score.append({'estimators': estim, 'max_depth': depth_rfc, 'F1': f1_rfc , 'AUC_ROC':auc_roc_rfc}, ignore_index=True)\n",
    "\n",
    "#находим строки с максимальным значением F1\n",
    "print(\"Результаты сортировки обученных моделей\")\n",
    "print(estim_score.sort_values(by = 'F1', ascending = False).head())"
   ]
  },
  {
   "cell_type": "markdown",
   "metadata": {},
   "source": [
    "#### Алгоритм RandomForestClassifier. Upsampling."
   ]
  },
  {
   "cell_type": "code",
   "execution_count": 19,
   "metadata": {},
   "outputs": [
    {
     "name": "stdout",
     "output_type": "stream",
     "text": [
      "Результаты сортировки обученных моделей\n",
      "     estimators  max_depth        F1   AUC_ROC\n",
      "294        31.0       10.0  0.635854  0.856500\n",
      "674        71.0       10.0  0.633333  0.856861\n",
      "408        43.0       10.0  0.632168  0.857618\n",
      "465        49.0       10.0  0.632022  0.857474\n",
      "484        51.0       10.0  0.631136  0.857952\n"
     ]
    }
   ],
   "source": [
    "# Вызовем функцию с аргументом repeat = 4, так как \"положительный\" класс в исходных данных представлен в 4 раза реже чем \"отрицательный\"\n",
    "features_upsampled, target_upsampled = upsample_func(features_train, target_train, 4)\n",
    "\n",
    "estim_score  = pd.DataFrame(columns=['estimators', 'max_depth', 'F1', 'AUC_ROC'])\n",
    "\n",
    "for estim in range(1, 100, 2):\n",
    "    for depth_rfc in range(1,20,1):\n",
    "        model_rfc = RandomForestClassifier(random_state=12345, n_estimators= estim, max_depth = depth_rfc)\n",
    "        # Обучаем модель\n",
    "        model_rfc.fit(features_upsampled, target_upsampled)\n",
    "        # Вычисляем предсказания на валидационной выборке\n",
    "        predictions_valid_rfc = model_rfc.predict(features_valid) \n",
    "        # Расчет F1 меры\n",
    "        predictions_valid_rfc = model_rfc.predict(features_valid) \n",
    "        f1_rfc = f1_score(target_valid, predictions_valid_rfc)\n",
    "        probabilities_valid = model_rfc.predict_proba(features_valid)\n",
    "        probabilities_one_valid = probabilities_valid[:, 1]\n",
    "        auc_roc_rfc = roc_auc_score(target_valid, probabilities_one_valid)\n",
    "\n",
    "        estim_score= estim_score.append({'estimators': estim, 'max_depth': depth_rfc, 'F1': f1_rfc , 'AUC_ROC':auc_roc_rfc}, ignore_index=True)\n",
    "\n",
    "#находим строки с максимальным значением F1\n",
    "print(\"Результаты сортировки обученных моделей\")\n",
    "print(estim_score.sort_values(by = 'F1', ascending = False).head())"
   ]
  },
  {
   "cell_type": "markdown",
   "metadata": {},
   "source": [
    "# 3. Борьба с дисбалансом. Выводы.\n",
    "\n",
    "Для устранения дисбаланса классов в обучаемой выборке, на различных алгоритмах обучения, были применены следующие техники:\n",
    "\n",
    "- взвешивание классов, с использованием дополнительного аргумента class_weight='balanced'\n",
    "- upsampling\n",
    "\n",
    "В результате, были получены следующие результаты:\n",
    "\n",
    "- #### Логистическая регрессия. Алгоритм LogisticRegressior.\n",
    "    - при взвешивании классов значение F1 увеличилось с `0.036` до `0.47` (значение AUC_ROC  с `0.64` до `0.73`)\n",
    "    - при upsampling-е значение F1 увеличилось с `0.036` до `0.63` (значение AUC_ROC  с `0.64` до `0.69`)\n",
    "- #### Решающее дерево. Алгоритм DecisionTreeClassifier.\n",
    "    - при взвешивании классов значение F1 увеличилось с `0.55` до `0.58` (AUC_ROC снизилось с `0.84` до `0.83`) при максимальной глубине дерева max_depth = 5\n",
    "    - при upsampling-е значение F1 увеличилось с `0.55` до `0.58` (AUC_ROC снизилось с `0.84` до `0.83`) при максимальной глубине дерева max_depth = 5\n",
    "- #### Случайный лес. Алгоритм RandomForestClassifier.\n",
    "    - при взвешивании классов значение F1 увеличилось с `0.56` до `0.62` (AUC_ROC с `0.84` до `0.85`) при максимальной глубине деревьев max_depth = 7 и количеству estimators = 49\n",
    "    - при upsampling-е значение F1 увеличилось с `0.56` до `0.63` (AUC_ROC с `0.84` до `0.85`) при максимальной глубине деревьев max_depth = 10 и количеству estimators = 31\n",
    "\n",
    "\n",
    "Применение upsampling-а на алгоритме `RandomForestClassifier` показало наилучший результат в обучении модели, превышающий целевое значение F1 (0.59)."
   ]
  },
  {
   "cell_type": "markdown",
   "metadata": {},
   "source": [
    "# 4. Тестирование модели\n",
    "\n",
    "Проверим модель RandomForestClassifier(с применением upsampling-а) на тестовой выборке"
   ]
  },
  {
   "cell_type": "code",
   "execution_count": 20,
   "metadata": {},
   "outputs": [
    {
     "name": "stdout",
     "output_type": "stream",
     "text": [
      "F1 = 0.6226138032305434\n",
      "AUC-ROC =  0.8556099505530361\n"
     ]
    },
    {
     "data": {
      "image/png": "[encoded data removed]",
      "text/plain": [
       "<Figure size 432x288 with 1 Axes>"
      ]
     },
     "metadata": {
      "needs_background": "light"
     },
     "output_type": "display_data"
    }
   ],
   "source": [
    "# Вызовем функцию с аргументом repeat = 4, так как \"положительный\" класс в исходных данных представлен в 4 раза реже чем \"отрицательный\"\n",
    "features_upsampled, target_upsampled = upsample_func(features_train, target_train, 4)\n",
    "\n",
    "model = RandomForestClassifier(random_state=12345, n_estimators= 31, max_depth = 10)\n",
    "# Обучаем \n",
    "model.fit(features_upsampled, target_upsampled)\n",
    "test_predictions = model.predict(features_test)\n",
    "\n",
    "# Расчет F1 меры\n",
    "print(\"F1 =\",f1_score(target_test, test_predictions))\n",
    "# Расчет AUC-ROC\n",
    "probabilities_test = model.predict_proba(features_test)\n",
    "probabilities_one_test = probabilities_test[:, 1]\n",
    "\n",
    "fpr, tpr, thresholds = roc_curve(target_test, probabilities_one_test)\n",
    "auc_roc = roc_auc_score(target_test, probabilities_one_test)\n",
    "print(\"AUC-ROC = \", auc_roc)\n",
    "#Строим ROC- кривую\n",
    "plt.figure()\n",
    "# Строим ROC-кривую случайной модели (выглядит как прямая)\n",
    "plt.plot([0, 1], [0, 1], linestyle='--')\n",
    "plt.plot(fpr, tpr)\n",
    "plt.xlim([0.0, 1.0])\n",
    "plt.ylim([0.0, 1.0])\n",
    "plt.xlabel('False Positive Rate')\n",
    "plt.ylabel('True Positive Rate')\n",
    "plt.title('ROC-кривая')\n",
    "plt.show()"
   ]
  },
  {
   "cell_type": "markdown",
   "metadata": {},
   "source": [
    "# 4. Тестирование модели. Выводы.\n",
    "\n",
    "В результате применения алгоритма RandomForestClassifier(с применением upsampling-а), при глубине max_depth = 10 и n_estimators= 31, на тестовой выборке были получены значения: F1 = `0.62` и AUC-ROC = `0.85`. Задача по построению модели со значением F1 не ниже `0.59` выполнена."
   ]
  },
  {
   "cell_type": "markdown",
   "metadata": {},
   "source": [
    "# Общий вывод.\n",
    "\n",
    "#### Цель исследования\n",
    "\n",
    "Предсказать с максимальной точностью уйдёт клиент из банка в ближайшее время или нет\n",
    "\n",
    "#### Задачи по проекту\n",
    "\n",
    "- построить модель с предельно большим значением F1-меры > 0.59\n",
    "- проверить F1-меру на тестовой выборке\n",
    "- дополнительно измерить AUC-ROC\n",
    "- сравнить значение AUC-ROC с F1-мерой\n",
    "\n",
    "#### Общая информация о данных\n",
    "\n",
    "- в исходном датафрейме представлено 10 000 атрибутов по 14 признакам\n",
    "\n",
    "#### Результаты исследования\n",
    "\n",
    "Для обучения модели исходный датасет был разделен на три независимые выборки:\n",
    "\n",
    "- обучающую (70%)\n",
    "- тестовую (15%)\n",
    "- валидационную (15%)\n",
    "\n",
    "В ходе исследования было осуществлено обучение модели разными алгоритмами:\n",
    "\n",
    "- LogisticRegression\n",
    "- DecisionTreeClassifier\n",
    "- RandomForestClassifier\n",
    "\n",
    "Значения F1-меры, во всех случаях, оказались ниже целевой (F1<0.59).\n",
    "\n",
    "На первом этапе исследования (с использованием разбалансированных классов целевого признака)наиболее эффективным показал себя алгоритм RandomForestClassifier. При помощи перебора в цикле параметров алгоритма удалось достигнутть значение F1= 0.56 (при AUC_ROC = 0.84) при максимальной глубине деревьев max_depth = 18 и количеству estimators = 23.\n",
    "\n",
    "Так как полученное значение оказалось, по-прежнему, ниже целевого было принято решение о дальнейшем исследовании данных.\n",
    "\n",
    "В результате исследования установлено, что в целевом признаке присутствует дисбаланс 80/20 в сторону \"отрицательного класса\" (клиент не расторг договор с банком). Для устранения дисбаланса классов в обучаемой выборке на различных алгоритмах были применены техники балансировки классов:\n",
    "\n",
    "- взвешивание (с использованием дополнительного аргумента class_weight='balanced')\n",
    "- upsampling (увеличение выборки)\n",
    "\n",
    "Применение upsampling-а, на алгоритме RandomForestClassifier, показало наилучший результат в обучении модели(F1 = 0.63 и AUC_ROC = 0.85, при max_depth = 10 и estimators = 31), превышающий целевое значение F1.\n",
    "\n",
    "На тестовых данных применение обученной с помощью алгоритма RandomForestClassifier модели показало значение F1 = 0.62 при AUC-ROC = 0.85.\n",
    "\n",
    "Обученная модель удовлетворяет центральной задаче исследования.\n",
    "\n",
    "===================================================================================================================\n",
    "\n",
    "\n",
    "#### Спасибо за внимание.\n"
   ]
  }
 ],
 "metadata": {
  "kernelspec": {
   "display_name": "Python 3",
   "language": "python",
   "name": "python3"
  },
  "language_info": {
   "codemirror_mode": {
    "name": "ipython",
    "version": 3
   },
   "file_extension": ".py",
   "mimetype": "text/x-python",
   "name": "python",
   "nbconvert_exporter": "python",
   "pygments_lexer": "ipython3",
   "version": "3.7.0"
  },
  "toc": {
   "base_numbering": 1,
   "nav_menu": {},
   "number_sections": true,
   "sideBar": true,
   "skip_h1_title": true,
   "title_cell": "Table of Contents",
   "title_sidebar": "Contents",
   "toc_cell": false,
   "toc_position": {},
   "toc_section_display": true,
   "toc_window_display": false
  }
 },
 "nbformat": 4,
 "nbformat_minor": 2
}
