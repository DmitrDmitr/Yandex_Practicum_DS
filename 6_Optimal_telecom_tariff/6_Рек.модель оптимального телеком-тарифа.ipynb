{
 "cells": [
  {
   "cell_type": "markdown",
   "metadata": {},
   "source": [
    "## Описание проекта\n",
    "\n",
    "Оператор мобильной связи выяснил: многие клиенты пользуются архивными тарифами. Оператор хочет построить систему, способную проанализировать поведение клиентов и предложить пользователям один из двух новых тарифов.\n",
    "\n",
    "В вашем распоряжении данные о поведении клиентов, которые уже перешли на эти тарифы. Нужно построить модель для задачи классификации, которая выберет подходящий новый тариф. Предобработка данных уже произведена.\n",
    "\n",
    "Задача - построить модель с максимально большим значением accuracy. Долю правильных ответов должна быть не менее 0.75. Необходима проверка accuracy на тестовой выборке.\n",
    "\n",
    "## Инструкция по выполнению проекта\n",
    "\n",
    "* \t\tОткройте файл с данными и изучите его. Путь к файлу: datasets/users_behavior.csv. Скачать датасет\n",
    "* \t\tРазделите исходные данные на обучающую, валидационную и тестовую выборки.\n",
    "* \t\tИсследуйте качество разных моделей, меняя гиперпараметры. Кратко напишите выводы исследования.\n",
    "* \t\tПроверьте качество модели на тестовой выборке.\n",
    "* \t\tДополнительное задание: проверьте модели на вменяемость.\n",
    "\n",
    "## Описание данных\n",
    "\n",
    "Каждый объект в наборе данных — это информация о поведении одного пользователя за месяц. Известно:\n",
    "\n",
    "* \t\t`сalls` — количество звонков,\n",
    "* \t\t`minutes` — суммарная длительность звонков в минутах,\n",
    "* \t\t`messages` — количество sms-сообщений,\n",
    "* \t\t`mb_used` — израсходованный интернет-трафик в Мб,\n",
    "* \t\t`is_ultra` — каким тарифом пользовался в течение месяца («Ультра» — 1, «Смарт» — 0).\n"
   ]
  },
  {
   "cell_type": "markdown",
   "metadata": {},
   "source": [
    "## 1. Откройте и изучите файл"
   ]
  },
  {
   "cell_type": "code",
   "execution_count": 82,
   "metadata": {},
   "outputs": [
    {
     "name": "stdout",
     "output_type": "stream",
     "text": [
      "INFO\n",
      "<class 'pandas.core.frame.DataFrame'>\n",
      "RangeIndex: 3214 entries, 0 to 3213\n",
      "Data columns (total 5 columns):\n",
      "calls       3214 non-null float64\n",
      "minutes     3214 non-null float64\n",
      "messages    3214 non-null float64\n",
      "mb_used     3214 non-null float64\n",
      "is_ultra    3214 non-null int64\n",
      "dtypes: float64(4), int64(1)\n",
      "memory usage: 125.7 KB\n"
     ]
    },
    {
     "data": {
      "text/plain": [
       "None"
      ]
     },
     "metadata": {},
     "output_type": "display_data"
    },
    {
     "name": "stdout",
     "output_type": "stream",
     "text": [
      "HEAD 10\n"
     ]
    },
    {
     "data": {
      "text/html": [
       "<div>\n",
       "<style scoped>\n",
       "    .dataframe tbody tr th:only-of-type {\n",
       "        vertical-align: middle;\n",
       "    }\n",
       "\n",
       "    .dataframe tbody tr th {\n",
       "        vertical-align: top;\n",
       "    }\n",
       "\n",
       "    .dataframe thead th {\n",
       "        text-align: right;\n",
       "    }\n",
       "</style>\n",
       "<table border=\"1\" class=\"dataframe\">\n",
       "  <thead>\n",
       "    <tr style=\"text-align: right;\">\n",
       "      <th></th>\n",
       "      <th>calls</th>\n",
       "      <th>minutes</th>\n",
       "      <th>messages</th>\n",
       "      <th>mb_used</th>\n",
       "      <th>is_ultra</th>\n",
       "    </tr>\n",
       "  </thead>\n",
       "  <tbody>\n",
       "    <tr>\n",
       "      <td>0</td>\n",
       "      <td>40.0</td>\n",
       "      <td>311.90</td>\n",
       "      <td>83.0</td>\n",
       "      <td>19915.42</td>\n",
       "      <td>0</td>\n",
       "    </tr>\n",
       "    <tr>\n",
       "      <td>1</td>\n",
       "      <td>85.0</td>\n",
       "      <td>516.75</td>\n",
       "      <td>56.0</td>\n",
       "      <td>22696.96</td>\n",
       "      <td>0</td>\n",
       "    </tr>\n",
       "    <tr>\n",
       "      <td>2</td>\n",
       "      <td>77.0</td>\n",
       "      <td>467.66</td>\n",
       "      <td>86.0</td>\n",
       "      <td>21060.45</td>\n",
       "      <td>0</td>\n",
       "    </tr>\n",
       "    <tr>\n",
       "      <td>3</td>\n",
       "      <td>106.0</td>\n",
       "      <td>745.53</td>\n",
       "      <td>81.0</td>\n",
       "      <td>8437.39</td>\n",
       "      <td>1</td>\n",
       "    </tr>\n",
       "    <tr>\n",
       "      <td>4</td>\n",
       "      <td>66.0</td>\n",
       "      <td>418.74</td>\n",
       "      <td>1.0</td>\n",
       "      <td>14502.75</td>\n",
       "      <td>0</td>\n",
       "    </tr>\n",
       "    <tr>\n",
       "      <td>5</td>\n",
       "      <td>58.0</td>\n",
       "      <td>344.56</td>\n",
       "      <td>21.0</td>\n",
       "      <td>15823.37</td>\n",
       "      <td>0</td>\n",
       "    </tr>\n",
       "    <tr>\n",
       "      <td>6</td>\n",
       "      <td>57.0</td>\n",
       "      <td>431.64</td>\n",
       "      <td>20.0</td>\n",
       "      <td>3738.90</td>\n",
       "      <td>1</td>\n",
       "    </tr>\n",
       "    <tr>\n",
       "      <td>7</td>\n",
       "      <td>15.0</td>\n",
       "      <td>132.40</td>\n",
       "      <td>6.0</td>\n",
       "      <td>21911.60</td>\n",
       "      <td>0</td>\n",
       "    </tr>\n",
       "    <tr>\n",
       "      <td>8</td>\n",
       "      <td>7.0</td>\n",
       "      <td>43.39</td>\n",
       "      <td>3.0</td>\n",
       "      <td>2538.67</td>\n",
       "      <td>1</td>\n",
       "    </tr>\n",
       "    <tr>\n",
       "      <td>9</td>\n",
       "      <td>90.0</td>\n",
       "      <td>665.41</td>\n",
       "      <td>38.0</td>\n",
       "      <td>17358.61</td>\n",
       "      <td>0</td>\n",
       "    </tr>\n",
       "  </tbody>\n",
       "</table>\n",
       "</div>"
      ],
      "text/plain": [
       "   calls  minutes  messages   mb_used  is_ultra\n",
       "0   40.0   311.90      83.0  19915.42         0\n",
       "1   85.0   516.75      56.0  22696.96         0\n",
       "2   77.0   467.66      86.0  21060.45         0\n",
       "3  106.0   745.53      81.0   8437.39         1\n",
       "4   66.0   418.74       1.0  14502.75         0\n",
       "5   58.0   344.56      21.0  15823.37         0\n",
       "6   57.0   431.64      20.0   3738.90         1\n",
       "7   15.0   132.40       6.0  21911.60         0\n",
       "8    7.0    43.39       3.0   2538.67         1\n",
       "9   90.0   665.41      38.0  17358.61         0"
      ]
     },
     "metadata": {},
     "output_type": "display_data"
    },
    {
     "name": "stdout",
     "output_type": "stream",
     "text": [
      "DESCRIBE\n"
     ]
    },
    {
     "data": {
      "text/html": [
       "<div>\n",
       "<style scoped>\n",
       "    .dataframe tbody tr th:only-of-type {\n",
       "        vertical-align: middle;\n",
       "    }\n",
       "\n",
       "    .dataframe tbody tr th {\n",
       "        vertical-align: top;\n",
       "    }\n",
       "\n",
       "    .dataframe thead th {\n",
       "        text-align: right;\n",
       "    }\n",
       "</style>\n",
       "<table border=\"1\" class=\"dataframe\">\n",
       "  <thead>\n",
       "    <tr style=\"text-align: right;\">\n",
       "      <th></th>\n",
       "      <th>calls</th>\n",
       "      <th>minutes</th>\n",
       "      <th>messages</th>\n",
       "      <th>mb_used</th>\n",
       "      <th>is_ultra</th>\n",
       "    </tr>\n",
       "  </thead>\n",
       "  <tbody>\n",
       "    <tr>\n",
       "      <td>count</td>\n",
       "      <td>3214.000000</td>\n",
       "      <td>3214.000000</td>\n",
       "      <td>3214.000000</td>\n",
       "      <td>3214.000000</td>\n",
       "      <td>3214.000000</td>\n",
       "    </tr>\n",
       "    <tr>\n",
       "      <td>mean</td>\n",
       "      <td>63.038892</td>\n",
       "      <td>438.208787</td>\n",
       "      <td>38.281269</td>\n",
       "      <td>17207.673836</td>\n",
       "      <td>0.306472</td>\n",
       "    </tr>\n",
       "    <tr>\n",
       "      <td>std</td>\n",
       "      <td>33.236368</td>\n",
       "      <td>234.569872</td>\n",
       "      <td>36.148326</td>\n",
       "      <td>7570.968246</td>\n",
       "      <td>0.461100</td>\n",
       "    </tr>\n",
       "    <tr>\n",
       "      <td>min</td>\n",
       "      <td>0.000000</td>\n",
       "      <td>0.000000</td>\n",
       "      <td>0.000000</td>\n",
       "      <td>0.000000</td>\n",
       "      <td>0.000000</td>\n",
       "    </tr>\n",
       "    <tr>\n",
       "      <td>25%</td>\n",
       "      <td>40.000000</td>\n",
       "      <td>274.575000</td>\n",
       "      <td>9.000000</td>\n",
       "      <td>12491.902500</td>\n",
       "      <td>0.000000</td>\n",
       "    </tr>\n",
       "    <tr>\n",
       "      <td>50%</td>\n",
       "      <td>62.000000</td>\n",
       "      <td>430.600000</td>\n",
       "      <td>30.000000</td>\n",
       "      <td>16943.235000</td>\n",
       "      <td>0.000000</td>\n",
       "    </tr>\n",
       "    <tr>\n",
       "      <td>75%</td>\n",
       "      <td>82.000000</td>\n",
       "      <td>571.927500</td>\n",
       "      <td>57.000000</td>\n",
       "      <td>21424.700000</td>\n",
       "      <td>1.000000</td>\n",
       "    </tr>\n",
       "    <tr>\n",
       "      <td>max</td>\n",
       "      <td>244.000000</td>\n",
       "      <td>1632.060000</td>\n",
       "      <td>224.000000</td>\n",
       "      <td>49745.730000</td>\n",
       "      <td>1.000000</td>\n",
       "    </tr>\n",
       "  </tbody>\n",
       "</table>\n",
       "</div>"
      ],
      "text/plain": [
       "             calls      minutes     messages       mb_used     is_ultra\n",
       "count  3214.000000  3214.000000  3214.000000   3214.000000  3214.000000\n",
       "mean     63.038892   438.208787    38.281269  17207.673836     0.306472\n",
       "std      33.236368   234.569872    36.148326   7570.968246     0.461100\n",
       "min       0.000000     0.000000     0.000000      0.000000     0.000000\n",
       "25%      40.000000   274.575000     9.000000  12491.902500     0.000000\n",
       "50%      62.000000   430.600000    30.000000  16943.235000     0.000000\n",
       "75%      82.000000   571.927500    57.000000  21424.700000     1.000000\n",
       "max     244.000000  1632.060000   224.000000  49745.730000     1.000000"
      ]
     },
     "metadata": {},
     "output_type": "display_data"
    }
   ],
   "source": [
    "# Импортируем необходимые библиотеки\n",
    "import pandas as pd\n",
    "from sklearn.tree import DecisionTreeClassifier\n",
    "from sklearn.metrics import accuracy_score\n",
    "from sklearn.model_selection import train_test_split\n",
    "from sklearn.ensemble import RandomForestClassifier\n",
    "from sklearn.linear_model import LogisticRegression\n",
    "import warnings\n",
    "warnings.filterwarnings('ignore')\n",
    "\n",
    "# Читаем исходный файл\n",
    "client_data = pd.read_csv('/datasets/users_behavior.csv')\n",
    "\n",
    "# Смотрим общую информацию\n",
    "print('INFO')\n",
    "display(client_data.info())\n",
    "print('HEAD 10')\n",
    "display(client_data.head(10))\n",
    "print('DESCRIBE')\n",
    "display(client_data.describe())"
   ]
  },
  {
   "cell_type": "markdown",
   "metadata": {},
   "source": [
    "Учитывая, что нашим целевым признаком является значение `is_ultra` (т.е. является ли клиент пользователем тарифа \"Ультра\" (1) или тарифа \"Смарт\" (0)) - оценим объем этих групп клиентов."
   ]
  },
  {
   "cell_type": "code",
   "execution_count": 83,
   "metadata": {},
   "outputs": [
    {
     "data": {
      "text/html": [
       "<div>\n",
       "<style scoped>\n",
       "    .dataframe tbody tr th:only-of-type {\n",
       "        vertical-align: middle;\n",
       "    }\n",
       "\n",
       "    .dataframe tbody tr th {\n",
       "        vertical-align: top;\n",
       "    }\n",
       "\n",
       "    .dataframe thead th {\n",
       "        text-align: right;\n",
       "    }\n",
       "</style>\n",
       "<table border=\"1\" class=\"dataframe\">\n",
       "  <thead>\n",
       "    <tr style=\"text-align: right;\">\n",
       "      <th></th>\n",
       "      <th>users_number</th>\n",
       "    </tr>\n",
       "    <tr>\n",
       "      <th>is_ultra</th>\n",
       "      <th></th>\n",
       "    </tr>\n",
       "  </thead>\n",
       "  <tbody>\n",
       "    <tr>\n",
       "      <td>0</td>\n",
       "      <td>2229</td>\n",
       "    </tr>\n",
       "    <tr>\n",
       "      <td>1</td>\n",
       "      <td>985</td>\n",
       "    </tr>\n",
       "  </tbody>\n",
       "</table>\n",
       "</div>"
      ],
      "text/plain": [
       "          users_number\n",
       "is_ultra              \n",
       "0                 2229\n",
       "1                  985"
      ]
     },
     "execution_count": 83,
     "metadata": {},
     "output_type": "execute_result"
    }
   ],
   "source": [
    "client_data.groupby('is_ultra')['calls'].count().to_frame('users_number')"
   ]
  },
  {
   "cell_type": "markdown",
   "metadata": {},
   "source": [
    "Несмотря на то, что в условиях проекта укащано, что данные уже предобработаны, проведем контрольную проверку на пропуски и дубликаты:"
   ]
  },
  {
   "cell_type": "code",
   "execution_count": 84,
   "metadata": {},
   "outputs": [
    {
     "data": {
      "text/plain": [
       "calls       0\n",
       "minutes     0\n",
       "messages    0\n",
       "mb_used     0\n",
       "is_ultra    0\n",
       "dtype: int64"
      ]
     },
     "execution_count": 84,
     "metadata": {},
     "output_type": "execute_result"
    }
   ],
   "source": [
    "client_data.isnull().sum()"
   ]
  },
  {
   "cell_type": "code",
   "execution_count": 85,
   "metadata": {},
   "outputs": [
    {
     "data": {
      "text/plain": [
       "0"
      ]
     },
     "execution_count": 85,
     "metadata": {},
     "output_type": "execute_result"
    }
   ],
   "source": [
    "client_data.duplicated().sum()"
   ]
  },
  {
   "cell_type": "markdown",
   "metadata": {},
   "source": [
    "## 1. Общая информация. Выводы.\n",
    "\n",
    "- исходный датафрейм представлен 3 214 объектами и 5 признаками\n",
    "- наименования столбцов достаточно информативны и стандартизированы\n",
    "- форматы данных в столбцах соответствуют содержанию и предстоящим вычислениям\n",
    "- пропусков и дубликатов не обнаружено\n",
    "- пользователи тарифа \"Ультра\" составляют 30% выборки, пользователи тарифа \"Смарт\" - 70%"
   ]
  },
  {
   "cell_type": "markdown",
   "metadata": {},
   "source": [
    "## 2. Разбейте данные на выборки\n",
    "\n",
    "В связи с отсутствием тестовой выборки, проведем разбиение исходных данные на обучающую, валидационную и тестовую выборки. В связи с достаточно небольшим объемом исходных данных (всего  3 214 записей) разумным представляется выделить основную часть датасета (70%) на обучающую выборку и по 15% на тестовую и валидационную выборки."
   ]
  },
  {
   "cell_type": "code",
   "execution_count": 86,
   "metadata": {},
   "outputs": [
    {
     "name": "stdout",
     "output_type": "stream",
     "text": [
      "Размерность обучащей выборки: (2249, 5)\n",
      "Размерность валидационной выборки: (482, 5)\n",
      "Размерность тестовой выборки: (483, 5)\n"
     ]
    }
   ],
   "source": [
    "# Проведем последовательное разбиение. Сначала разделим датасет на обучающую и валидационную выборки (70% отдаем обучающей)\n",
    "data_train, data_valid = train_test_split(client_data, test_size = 0.3, random_state = 12345)\n",
    "\n",
    "# Теперь поделим пополам валидационную выборку, тем самым создав тестовую\n",
    "data_valid, data_test = train_test_split(data_valid, test_size = 0.5, random_state=12345)\n",
    "\n",
    "# Контрольная проверка размерности выборок\n",
    "print('Размерность обучащей выборки:', data_train.shape)\n",
    "print('Размерность валидационной выборки:', data_valid.shape)\n",
    "print('Размерность тестовой выборки:', data_test.shape)"
   ]
  },
  {
   "cell_type": "markdown",
   "metadata": {},
   "source": [
    "## 2. Разбивка данных на выборки. Выводы.\n",
    "\n",
    "- исходные данные были разделены на три отдельных выборки:\n",
    "    - обучающая (`data_train`), 70% всех данных\n",
    "    - валидационная (`data_valid`), 15% всех данных\n",
    "    - тестовая (`data_test`), 15% всех данных"
   ]
  },
  {
   "cell_type": "markdown",
   "metadata": {},
   "source": [
    "## 3. Исследуйте модели\n",
    "\n",
    "Исследуем качество разных моделей классификации (решающее дерево, случайный лес, логистическая регрессия), меняя гиперпараметры."
   ]
  },
  {
   "cell_type": "code",
   "execution_count": 87,
   "metadata": {},
   "outputs": [],
   "source": [
    "# Подготовим переменные для признаков и целевого признака различных выборок\n",
    "features_train = data_train.drop(['is_ultra'], axis = 1)\n",
    "target_train = data_train['is_ultra']\n",
    "features_valid = data_valid.drop(['is_ultra'], axis = 1)\n",
    "target_valid = data_valid['is_ultra']\n",
    "features_test = data_test.drop(['is_ultra'], axis = 1)\n",
    "target_test = data_test['is_ultra']"
   ]
  },
  {
   "cell_type": "markdown",
   "metadata": {},
   "source": [
    "#### 3.1 Решающее дерево (DecisionTreeClassifier)"
   ]
  },
  {
   "cell_type": "code",
   "execution_count": 88,
   "metadata": {},
   "outputs": [
    {
     "name": "stdout",
     "output_type": "stream",
     "text": [
      "Tree_max_depth = 1 : 0.7510373443983402\n",
      "Tree_max_depth = 2 : 0.7800829875518672\n",
      "Tree_max_depth = 3 : 0.7863070539419087\n",
      "Tree_max_depth = 4 : 0.7883817427385892\n",
      "Tree_max_depth = 5 : 0.7614107883817427\n",
      "Tree_max_depth = 6 : 0.7842323651452282\n",
      "Tree_max_depth = 7 : 0.7821576763485477\n",
      "Tree_max_depth = 8 : 0.7821576763485477\n",
      "Tree_max_depth = 9 : 0.7780082987551867\n",
      "Tree_max_depth = 10 : 0.7883817427385892\n",
      "Tree_max_depth = 11 : 0.7904564315352697\n",
      "Tree_max_depth = 12 : 0.7946058091286307\n",
      "Tree_max_depth = 13 : 0.7821576763485477\n",
      "Tree_max_depth = 14 : 0.7821576763485477\n",
      "Tree_max_depth = 15 : 0.7593360995850622\n"
     ]
    }
   ],
   "source": [
    "# Посмотрим на качество модели в зависимости от используемой глубины\n",
    "for depth in range(1, 16):\n",
    "    model_tree = DecisionTreeClassifier(max_depth = depth, random_state = 12345)\n",
    "    model_tree.fit(features_train, target_train)\n",
    "    predictions_tree_valid = model_tree.predict(features_valid)\n",
    "    print('Tree_max_depth =', depth, ':', accuracy_score(target_valid,predictions_tree_valid))"
   ]
  },
  {
   "cell_type": "markdown",
   "metadata": {},
   "source": [
    "Максимальное качество модели (0.7946) достигается при `max_depth` = 11"
   ]
  },
  {
   "cell_type": "markdown",
   "metadata": {},
   "source": [
    "#### 3.2 Случайный лес (RandomForestClassifier)"
   ]
  },
  {
   "cell_type": "code",
   "execution_count": 89,
   "metadata": {},
   "outputs": [
    {
     "name": "stdout",
     "output_type": "stream",
     "text": [
      "Forest_n_estimators = 10 and depth = 1 : 0.7572614107883817\n",
      "Forest_n_estimators = 10 and depth = 2 : 0.7614107883817427\n",
      "Forest_n_estimators = 10 and depth = 3 : 0.7863070539419087\n",
      "Forest_n_estimators = 10 and depth = 4 : 0.7883817427385892\n",
      "Forest_n_estimators = 10 and depth = 5 : 0.7904564315352697\n",
      "Forest_n_estimators = 10 and depth = 6 : 0.7966804979253111\n",
      "Forest_n_estimators = 10 and depth = 7 : 0.7987551867219918\n",
      "Forest_n_estimators = 10 and depth = 8 : 0.7883817427385892\n",
      "Forest_n_estimators = 10 and depth = 9 : 0.7863070539419087\n",
      "Forest_n_estimators = 10 and depth = 10 : 0.7966804979253111\n",
      "Forest_n_estimators = 20 and depth = 1 : 0.7510373443983402\n",
      "Forest_n_estimators = 20 and depth = 2 : 0.7925311203319502\n",
      "Forest_n_estimators = 20 and depth = 3 : 0.7904564315352697\n",
      "Forest_n_estimators = 20 and depth = 4 : 0.7966804979253111\n",
      "Forest_n_estimators = 20 and depth = 5 : 0.7946058091286307\n",
      "Forest_n_estimators = 20 and depth = 6 : 0.7966804979253111\n",
      "Forest_n_estimators = 20 and depth = 7 : 0.8029045643153527\n",
      "Forest_n_estimators = 20 and depth = 8 : 0.7987551867219918\n",
      "Forest_n_estimators = 20 and depth = 9 : 0.7966804979253111\n",
      "Forest_n_estimators = 20 and depth = 10 : 0.8091286307053942\n",
      "Forest_n_estimators = 30 and depth = 1 : 0.7510373443983402\n",
      "Forest_n_estimators = 30 and depth = 2 : 0.7883817427385892\n",
      "Forest_n_estimators = 30 and depth = 3 : 0.7925311203319502\n",
      "Forest_n_estimators = 30 and depth = 4 : 0.7946058091286307\n",
      "Forest_n_estimators = 30 and depth = 5 : 0.7925311203319502\n",
      "Forest_n_estimators = 30 and depth = 6 : 0.7966804979253111\n",
      "Forest_n_estimators = 30 and depth = 7 : 0.7946058091286307\n",
      "Forest_n_estimators = 30 and depth = 8 : 0.7966804979253111\n",
      "Forest_n_estimators = 30 and depth = 9 : 0.8008298755186722\n",
      "Forest_n_estimators = 30 and depth = 10 : 0.8132780082987552\n",
      "Forest_n_estimators = 40 and depth = 1 : 0.7510373443983402\n",
      "Forest_n_estimators = 40 and depth = 2 : 0.7883817427385892\n",
      "Forest_n_estimators = 40 and depth = 3 : 0.7925311203319502\n",
      "Forest_n_estimators = 40 and depth = 4 : 0.7925311203319502\n",
      "Forest_n_estimators = 40 and depth = 5 : 0.7946058091286307\n",
      "Forest_n_estimators = 40 and depth = 6 : 0.7987551867219918\n",
      "Forest_n_estimators = 40 and depth = 7 : 0.7946058091286307\n",
      "Forest_n_estimators = 40 and depth = 8 : 0.8008298755186722\n",
      "Forest_n_estimators = 40 and depth = 9 : 0.8049792531120332\n",
      "Forest_n_estimators = 40 and depth = 10 : 0.8132780082987552\n",
      "Forest_n_estimators = 50 and depth = 1 : 0.7842323651452282\n",
      "Forest_n_estimators = 50 and depth = 2 : 0.7863070539419087\n",
      "Forest_n_estimators = 50 and depth = 3 : 0.7925311203319502\n",
      "Forest_n_estimators = 50 and depth = 4 : 0.7925311203319502\n",
      "Forest_n_estimators = 50 and depth = 5 : 0.7946058091286307\n",
      "Forest_n_estimators = 50 and depth = 6 : 0.7966804979253111\n",
      "Forest_n_estimators = 50 and depth = 7 : 0.7966804979253111\n",
      "Forest_n_estimators = 50 and depth = 8 : 0.7987551867219918\n",
      "Forest_n_estimators = 50 and depth = 9 : 0.8029045643153527\n",
      "Forest_n_estimators = 50 and depth = 10 : 0.8112033195020747\n"
     ]
    }
   ],
   "source": [
    "# Посмотрим на качество модели в зависимости от количества деревьев и используемой глубины\n",
    "for estim in range(10,51,10):\n",
    "    for depth in range (1, 11):\n",
    "        model_forest = RandomForestClassifier(n_estimators = estim, max_depth = depth, random_state = 12345)\n",
    "        model_forest.fit(features_train, target_train)\n",
    "        predictions_forest_valid = model_forest.predict(features_valid)\n",
    "        print('Forest_n_estimators =', estim,'and depth =', depth, ':', accuracy_score(target_valid,predictions_forest_valid))"
   ]
  },
  {
   "cell_type": "markdown",
   "metadata": {},
   "source": [
    "Максимальное качество (0.81327) достигается при `n_estimators` = 30 и `max_depth` = 10"
   ]
  },
  {
   "cell_type": "markdown",
   "metadata": {},
   "source": [
    "#### 3.3 Логистическая регрессия (LogisticRegression)"
   ]
  },
  {
   "cell_type": "code",
   "execution_count": 90,
   "metadata": {},
   "outputs": [
    {
     "name": "stdout",
     "output_type": "stream",
     "text": [
      "Log_Reg_качество = 0.6950207468879668\n"
     ]
    }
   ],
   "source": [
    "model_log_reg = LogisticRegression(random_state=12345)\n",
    "model_log_reg.fit(features_train, target_train)\n",
    "print('Log_Reg_качество =', model_log_reg.score(features_valid,target_valid))"
   ]
  },
  {
   "cell_type": "markdown",
   "metadata": {},
   "source": [
    "## 3. Исследование моделей. Выводы.\n",
    "\n",
    "По результатам исследования моделей классификации получены следующие показатели качества:\n",
    "\n",
    "- `дерево решений` - 0.7946, достигается при `max_depth` = 11\n",
    "- `случайный лес` - 0.8133, достигается при `n_estimators` = 30 и `max_depth` = 10\n",
    "- `логистическая регрессия` - 0.6950"
   ]
  },
  {
   "cell_type": "markdown",
   "metadata": {},
   "source": [
    "## 4. Проверьте модель на тестовой выборке\n",
    "\n",
    "Наиболее качественной является модель `случайный лес`. Проверим ее на тестовой выборке."
   ]
  },
  {
   "cell_type": "code",
   "execution_count": 91,
   "metadata": {},
   "outputs": [
    {
     "data": {
      "text/plain": [
       "0.8115942028985508"
      ]
     },
     "execution_count": 91,
     "metadata": {},
     "output_type": "execute_result"
    }
   ],
   "source": [
    "model = RandomForestClassifier(n_estimators = 30, max_depth = 10, random_state = 12345)\n",
    "model.fit(features_train, target_train)\n",
    "predictions_forest_test = model.predict(features_test)\n",
    "accuracy_score(target_test,predictions_forest_test)"
   ]
  },
  {
   "cell_type": "markdown",
   "metadata": {},
   "source": [
    "## 4. Проверка модели на тестовой выборке. Выводы.\n",
    "\n",
    "На тестовой выборке получили значение `accuracy` = 0.8116, что очень близко к значению, полученному на обучающей выборке (0.8133).\n",
    "Таким образом, можно утвержать, что нам удалось избежать проблемы переобучения модели. Протестированная нами модель может, с достаточно высокой эффективностью, решать задачу бинарной классификации клиентов Оператора. "
   ]
  },
  {
   "cell_type": "markdown",
   "metadata": {},
   "source": [
    "## 5. (бонус) Проверьте модели на адекватность"
   ]
  },
  {
   "cell_type": "markdown",
   "metadata": {},
   "source": [
    "Удостоверимся в адекватности нашей модели используя фиктивный классификатор `DummyClassifire`"
   ]
  },
  {
   "cell_type": "code",
   "execution_count": 92,
   "metadata": {},
   "outputs": [],
   "source": [
    "from sklearn.dummy import DummyClassifier"
   ]
  },
  {
   "cell_type": "code",
   "execution_count": 93,
   "metadata": {},
   "outputs": [
    {
     "name": "stdout",
     "output_type": "stream",
     "text": [
      "DummyClassifier_качество на обучающей выборке: 0.4926634059582036\n",
      "DummyClassifier_качество на тестовой выборке: 0.5238095238095238\n"
     ]
    }
   ],
   "source": [
    "# настраиваем модель\n",
    "dummy_model = DummyClassifier(strategy=\"uniform\")\n",
    "# обучаем\n",
    "dummy_model.fit(features_train, target_train)\n",
    "# оцениваем качество\n",
    "print ('DummyClassifier_качество на обучающей выборке:', dummy_model.score(features_train, target_train))\n",
    "# сравним с тестовой выборкой\n",
    "dummy_predictions_test = dummy_model.predict(features_test)\n",
    "print ('DummyClassifier_качество на тестовой выборке:', accuracy_score(target_test, dummy_predictions_test))"
   ]
  },
  {
   "cell_type": "markdown",
   "metadata": {},
   "source": [
    "## Общий вывод.\n",
    "\n",
    "#### Цель исследования\n",
    "\n",
    "На основании данных о поведении клиентов, которые уже перешли на тарифы Smart и Ultra, необходимо построить модель классификации с максимально большим значением accuracy. Чтобы сдать проект успешно, нужно довести долю правильных ответов по крайней мере до 0.75.\n",
    "\n",
    "#### Общая информация о данных\n",
    "\n",
    "- исходный датафрейм представлен 3 214 объектами и 5 признаками\n",
    "- наименования столбцов достаточно информативны и стандартизированы\n",
    "- форматы данных в столбцах соответствуют содержанию и предстоящим вычислениям\n",
    "- пропусков и дубликатов не обнаружено\n",
    "- пользователи тарифа \"Ультра\" составляют 30% выборки, пользователи тарифа \"Смарт\" - 70%\n",
    "\n",
    "#### Результаты исследования различных моделей\n",
    "\n",
    "Для обучения были применены следующие алгоритмы классификации:\n",
    "\n",
    "- `решающее дерево`. Алгоритм DecisionTreeClassifier. Максимальное значение accuracy = 0.7946 (при max_depth = 11)\n",
    "- `случайный лес`. Алгоритм RandomForestClassifier. Максимальное значение accuracy = 0.8133 (при n_estimators = 30 и max_depth = 10). В связи с наибольшим значением `accuracy`, среди всех протестированных моделей, ттот алгоритм выбран для предсказаний в тестовой выборке.\n",
    "- `логистическая регрессия`. Алгоритм LogisticRegressior. Значение accuracy = 0.6950\n",
    "\n",
    "Применение обученного алгоритма `случайный лес` на тестовой выборке показало значение accuracy = 0.8116, что, в свою очередь, подтвердило эффективность выбранной модели.\n",
    "\n",
    "Также, была осуществлена оценка модели на адекватность при помощи алгоритма `DummyClassifier`. На тестовой выборке применение этого алгортима показало значение accuracy = 0.4969, что подтверждает адекватность выбранной для предсказания модели."
   ]
  }
 ],
 "metadata": {
  "kernelspec": {
   "display_name": "Python 3",
   "language": "python",
   "name": "python3"
  },
  "language_info": {
   "codemirror_mode": {
    "name": "ipython",
    "version": 3
   },
   "file_extension": ".py",
   "mimetype": "text/x-python",
   "name": "python",
   "nbconvert_exporter": "python",
   "pygments_lexer": "ipython3",
   "version": "3.7.0"
  },
  "toc": {
   "base_numbering": 1,
   "nav_menu": {},
   "number_sections": true,
   "sideBar": true,
   "skip_h1_title": true,
   "title_cell": "Table of Contents",
   "title_sidebar": "Contents",
   "toc_cell": false,
   "toc_position": {},
   "toc_section_display": true,
   "toc_window_display": false
  }
 },
 "nbformat": 4,
 "nbformat_minor": 2
}
